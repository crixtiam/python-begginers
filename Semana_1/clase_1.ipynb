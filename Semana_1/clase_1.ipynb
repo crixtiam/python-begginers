{
  "cells": [
    {
      "cell_type": "markdown",
      "metadata": {
        "id": "qh1uvnLFSo1W"
      },
      "source": [
        "<div style=\"display: flex; align-items: center;\">\n",
        "    <img src=\"./img/python-stats.webp\" alt=\"Logo\" width=\"100\" style=\"margin-right: 10px;\"/> \n",
        "    <h1 style=\"margin: 0;\">Python principios básicos</h1>\n",
        "</div>\n",
        "\n",
        "---\n",
        "\n",
        "**Autor:** Cristiam Loaiza  \n",
        "**Fecha:** 22 de septiembre de 2024  \n",
        "**Propósito:** Análisis de Datos usando Python y Herramientas Avanzadas"
      ]
    },
    {
      "cell_type": "markdown",
      "metadata": {},
      "source": [
        "Python es un lenguaje de programación versatil de alto nivel ampliamente soportado por la mayoria de sistemas operativos"
      ]
    },
    {
      "cell_type": "markdown",
      "metadata": {},
      "source": [
        "### **Instalación de Python en el computador - forma local**\n",
        "\n",
        "1. Instala VSCode - <a href=\"https://apps.microsoft.com/detail/xp9khm4bk9fz7q?launch=true&mode=full&hl=en-us&gl=co&ocid=bingwebsearch\">Descargar VScode</a>\n",
        "\n",
        "2. Descarga Python <a href='https://www.python.org/downloads/'>Descarga python</a>\n",
        "3. Instala el archivo *.exe* descargado en el literal 2.\n",
        "4. En la instalación verifica que tenga un check en la opción [ add python.exe path]\n",
        "<div  style=\"display: flex; justify-content: center; align-items: center\">\n",
        "    <img src=\"./img/python-install-windows.png\" alt=\"Logo\" width=\"500\" style=\"margin-right: 10px;\"/> \n",
        "</div>\n",
        "\n",
        "5. Instalar libreria *virtualenv* (para la creacion de entornos virtuales). Cuando se haya instalado python (literal 2.) ```pip install virtualenv```"
      ]
    },
    {
      "cell_type": "markdown",
      "metadata": {},
      "source": [
        "### Tú primer programa en Python\n",
        "\n",
        "Previo a la instalación en tú computador, ahora vamos a escribir nuestro primer programa en python."
      ]
    },
    {
      "cell_type": "code",
      "execution_count": 1,
      "metadata": {
        "id": "OIEBfXJ4SXgU"
      },
      "outputs": [
        {
          "name": "stdout",
          "output_type": "stream",
          "text": [
            "Hello, World!\n"
          ]
        }
      ],
      "source": [
        "print(\"Hello, World!\")"
      ]
    },
    {
      "cell_type": "markdown",
      "metadata": {},
      "source": [
        "En python todo dentro ```print()``` se muestra en pantalla "
      ]
    },
    {
      "cell_type": "markdown",
      "metadata": {},
      "source": [
        "---"
      ]
    },
    {
      "cell_type": "markdown",
      "metadata": {},
      "source": [
        "### Python Comments\n",
        "\n",
        "Los comentarios son sugerencias de agregamos a nuestro código para que sea más fácil de entender. Los comentarios comienzan con ```#```\n",
        "Ejemplo: "
      ]
    },
    {
      "cell_type": "code",
      "execution_count": 2,
      "metadata": {},
      "outputs": [
        {
          "name": "stdout",
          "output_type": "stream",
          "text": [
            "23\n"
          ]
        }
      ],
      "source": [
        "# Imprimir un numero\n",
        "print(23)"
      ]
    },
    {
      "cell_type": "markdown",
      "metadata": {},
      "source": [
        "#### Comentarios multiples"
      ]
    },
    {
      "cell_type": "code",
      "execution_count": 1,
      "metadata": {},
      "outputs": [],
      "source": [
        "# Mi primer comentario\n",
        "# Mi segundo comentario\n",
        "# Mi tercer comentario"
      ]
    },
    {
      "cell_type": "markdown",
      "metadata": {},
      "source": [
        "#### Comentarios en cadena"
      ]
    },
    {
      "cell_type": "code",
      "execution_count": 3,
      "metadata": {},
      "outputs": [
        {
          "data": {
            "text/plain": [
              "'\\nMi texto es\\ntan largo que\\nnecesito\\nvarias lineas\\n'"
            ]
          },
          "execution_count": 3,
          "metadata": {},
          "output_type": "execute_result"
        }
      ],
      "source": [
        "'''\n",
        "Mi texto es \n",
        "tan largo que\n",
        "necesito\n",
        "varias lineas\n",
        "'''\n",
        "\n",
        "\"\"\"\n",
        "Mi texto es\n",
        "tan largo que\n",
        "necesito\n",
        "varias lineas\n",
        "\"\"\""
      ]
    },
    {
      "cell_type": "markdown",
      "metadata": {},
      "source": [
        "### Data types"
      ]
    },
    {
      "cell_type": "code",
      "execution_count": 6,
      "metadata": {},
      "outputs": [
        {
          "name": "stdout",
          "output_type": "stream",
          "text": [
            "Valor entero:  23\n",
            "8\n",
            "Valor flotante: 8.5\n",
            "3.1416\n",
            "Valor booleano:  True\n",
            "True\n",
            "False\n",
            "Hola Mundo\n",
            "None\n",
            "(2+3j)\n"
          ]
        }
      ],
      "source": [
        "# 1. Enteros\n",
        "print(\"Valor entero: \", 23)\n",
        "print(8)\n",
        "\n",
        "# 2. Flotantes\n",
        "print(f\"Valor flotante: {8.5}\")\n",
        "print(3.1416)\n",
        "\n",
        "# 4. Booleanos\n",
        "print(\"Valor booleano: \", True)\n",
        "print(True)\n",
        "print(False)\n",
        "\n",
        "# 5. Strings(texto-cadenas de caracteres)\n",
        "print(\"Hola Mundo\")\n",
        "\n",
        "# 6. None\n",
        "print(None)\n",
        "\n",
        "# 7. Complejos\n",
        "print(2 + 3j)"
      ]
    },
    {
      "cell_type": "markdown",
      "metadata": {},
      "source": [
        "### Variables"
      ]
    },
    {
      "cell_type": "code",
      "execution_count": null,
      "metadata": {},
      "outputs": [],
      "source": [
        "numero = 23\n",
        "francisco = 23\n",
        "francisco = \"Francisco\""
      ]
    },
    {
      "cell_type": "markdown",
      "metadata": {},
      "source": [
        "### Listas\n",
        "\n",
        "En python las listas son un tipo de datos usados para guardar una colección de valores. Las listas se incorporan como un tipo de dato y clasificadas como secuencia. Las listas son ordenadas y mutables (significa que puede cambiar el contenido ) y pueden contener elementos de diferentes tipos incluyendo enteros, flotantes, cadenas de texto e incluso otras listas."
      ]
    },
    {
      "cell_type": "code",
      "execution_count": 9,
      "metadata": {},
      "outputs": [
        {
          "name": "stdout",
          "output_type": "stream",
          "text": [
            "[1, 2, 3, 4, 5]\n"
          ]
        }
      ],
      "source": [
        "print([1, 2, 3, 4, 5])"
      ]
    },
    {
      "cell_type": "markdown",
      "metadata": {},
      "source": [
        "### Tuplas\n",
        "\n",
        "En python una *Tupla* es otro tipo de dato usado para guardar una colección de valores, similar a una lista. Sin embargo, hay algunas diferencias claves entre las tuplas y las listas:\n",
        "\n",
        "- inmutables : la diferencia más significante es que las tuplas son inmutables, lo que significa que cuando creas una tupla, una vez creada no se puede cambiar el contenido (agregar, eliminar o remover elementos ). Las listas si son mutables y se pueden modificar una vez se hayan creado.\n",
        "- Sintaxis : Las tuplas son creadas por parentesis y los valores separados por comas, mientras que las listas por square brakets []\n",
        "- Performance : Las tuplas son mas eficientes en terminos de memoria "
      ]
    },
    {
      "cell_type": "code",
      "execution_count": 10,
      "metadata": {},
      "outputs": [
        {
          "name": "stdout",
          "output_type": "stream",
          "text": [
            "(1, 2, 3, 4, 5)\n"
          ]
        }
      ],
      "source": [
        "print((1, 2, 3, 4, 5))"
      ]
    },
    {
      "cell_type": "markdown",
      "metadata": {},
      "source": [
        "### Diccionarios\n",
        "\n",
        "En Python un diccionario en un tipo de dato que almacena una colección de valores en llave-valor. Cada diccionario mapea un valor especifico, creando una relación entre la llave y el valor. Los diccionarios son conocidos como Arrays o Hash maps en otros lenguajes de programación."
      ]
    },
    {
      "cell_type": "code",
      "execution_count": null,
      "metadata": {},
      "outputs": [],
      "source": [
        "print({'name': 'Francisco', 'age': 23})"
      ]
    },
    {
      "cell_type": "markdown",
      "metadata": {},
      "source": [
        "### Cómo conocer el tipo de datatype que tenenmos?"
      ]
    },
    {
      "cell_type": "markdown",
      "metadata": {},
      "source": [
        "type([1,2,3,4])"
      ]
    },
    {
      "cell_type": "markdown",
      "metadata": {},
      "source": [
        "### Variables"
      ]
    },
    {
      "cell_type": "markdown",
      "metadata": {},
      "source": [
        "En Python, las variables son usadas para almacenar valores (datos). Estos valores pueden ser números, strings,listas, diccionarios, o cualquier otro tipo de valor. Las variables son esenciales para la manipulación y trabajo con los datos en nuestros programas."
      ]
    },
    {
      "cell_type": "markdown",
      "metadata": {},
      "source": [
        "#### Cómo declarar las variables ?"
      ]
    },
    {
      "cell_type": "markdown",
      "metadata": {},
      "source": []
    }
  ],
  "metadata": {
    "colab": {
      "authorship_tag": "ABX9TyP/0HYlX+v6gi+LSCSjsMBT",
      "include_colab_link": true,
      "provenance": []
    },
    "kernelspec": {
      "display_name": "Python 3",
      "name": "python3"
    },
    "language_info": {
      "codemirror_mode": {
        "name": "ipython",
        "version": 3
      },
      "file_extension": ".py",
      "mimetype": "text/x-python",
      "name": "python",
      "nbconvert_exporter": "python",
      "pygments_lexer": "ipython3",
      "version": "3.12.2"
    }
  },
  "nbformat": 4,
  "nbformat_minor": 0
}
