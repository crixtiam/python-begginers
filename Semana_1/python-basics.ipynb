{
  "cells": [
    {
      "cell_type": "markdown",
      "metadata": {
        "id": "qh1uvnLFSo1W"
      },
      "source": [
        "<div style=\"display: flex; align-items: center;\">\n",
        "    <img src=\"./img/python-stats.webp\" alt=\"Logo\" width=\"100\" style=\"margin-right: 10px;\"/> \n",
        "    <h1 style=\"margin: 0;\">Python principios básicos</h1>\n",
        "</div>\n",
        "\n",
        "---\n",
        "\n",
        "**Autor:** Cristiam Loaiza  \n",
        "**Fecha:** 22 de septiembre de 2024  \n",
        "**Propósito:** Análisis de Datos usando Python y Herramientas Avanzadas"
      ]
    },
    {
      "cell_type": "markdown",
      "metadata": {},
      "source": [
        "Python es un lenguaje de programación versatil de alto nivel ampliamente soportado por la mayoria de sistemas operativos"
      ]
    },
    {
      "cell_type": "markdown",
      "metadata": {},
      "source": [
        "### **Instalación de Python en el computador - forma local**\n",
        "\n",
        "1. Instala VSCode - <a href=\"https://apps.microsoft.com/detail/xp9khm4bk9fz7q?launch=true&mode=full&hl=en-us&gl=co&ocid=bingwebsearch\">Descargar VScode</a>\n",
        "\n",
        "2. Descarga Python <a href='https://www.python.org/downloads/'>Descarga python</a>\n",
        "3. Instala el archivo *.exe* descargado en el literal 2.\n",
        "4. En la instalación verifica que tenga un check en la opción [ add python.exe path]\n",
        "<div  style=\"display: flex; justify-content: center; align-items: center\">\n",
        "    <img src=\"./img/python-install-windows.png\" alt=\"Logo\" width=\"500\" style=\"margin-right: 10px;\"/> \n",
        "</div>\n",
        "\n",
        "5. Instalar libreria *virtualenv* (para la creacion de entornos virtuales). Cuando se haya instalado python (literal 2.) ```pip install virtualenv```"
      ]
    },
    {
      "cell_type": "markdown",
      "metadata": {},
      "source": [
        "### Tú primer programa en Python\n",
        "\n",
        "Previo a la instalación en tú computador, ahora vamos a escribir nuestro primer programa en python."
      ]
    },
    {
      "cell_type": "code",
      "execution_count": 1,
      "metadata": {
        "id": "OIEBfXJ4SXgU"
      },
      "outputs": [
        {
          "name": "stdout",
          "output_type": "stream",
          "text": [
            "Hello, World!\n"
          ]
        }
      ],
      "source": [
        "print(\"Hello, World!\")"
      ]
    },
    {
      "cell_type": "markdown",
      "metadata": {},
      "source": [
        "En python todo dentro ```print()``` se muestra en pantalla "
      ]
    },
    {
      "cell_type": "markdown",
      "metadata": {},
      "source": [
        "---"
      ]
    },
    {
      "cell_type": "markdown",
      "metadata": {},
      "source": [
        "### Python Comments\n",
        "\n",
        "Los comentarios son sugerencias de agregamos a nuestro código para que sea más fácil de entender. Los comentarios comienzan con ```#```\n",
        "Ejemplo: "
      ]
    },
    {
      "cell_type": "code",
      "execution_count": 2,
      "metadata": {},
      "outputs": [
        {
          "name": "stdout",
          "output_type": "stream",
          "text": [
            "23\n"
          ]
        }
      ],
      "source": [
        "# Imprimir un numero\n",
        "print(23)"
      ]
    },
    {
      "cell_type": "markdown",
      "metadata": {},
      "source": [
        "#### Comentarios multiples"
      ]
    },
    {
      "cell_type": "code",
      "execution_count": 1,
      "metadata": {},
      "outputs": [],
      "source": [
        "# Mi primer comentario\n",
        "# Mi segundo comentario\n",
        "# Mi tercer comentario"
      ]
    },
    {
      "cell_type": "markdown",
      "metadata": {},
      "source": [
        "#### Comentarios en cadena"
      ]
    },
    {
      "cell_type": "code",
      "execution_count": 3,
      "metadata": {},
      "outputs": [
        {
          "data": {
            "text/plain": [
              "'\\nMi texto es\\ntan largo que\\nnecesito\\nvarias lineas\\n'"
            ]
          },
          "execution_count": 3,
          "metadata": {},
          "output_type": "execute_result"
        }
      ],
      "source": [
        "'''\n",
        "Mi texto es \n",
        "tan largo que\n",
        "necesito\n",
        "varias lineas\n",
        "'''\n",
        "\n",
        "\"\"\"\n",
        "Mi texto es\n",
        "tan largo que\n",
        "necesito\n",
        "varias lineas\n",
        "\"\"\""
      ]
    },
    {
      "cell_type": "markdown",
      "metadata": {},
      "source": [
        "### Data types"
      ]
    },
    {
      "cell_type": "code",
      "execution_count": 6,
      "metadata": {},
      "outputs": [
        {
          "name": "stdout",
          "output_type": "stream",
          "text": [
            "Valor entero:  23\n",
            "8\n",
            "Valor flotante: 8.5\n",
            "3.1416\n",
            "Valor booleano:  True\n",
            "True\n",
            "False\n",
            "Hola Mundo\n",
            "None\n",
            "(2+3j)\n"
          ]
        }
      ],
      "source": [
        "# 1. Enteros\n",
        "print(\"Valor entero: \", 23)\n",
        "print(8)\n",
        "\n",
        "# 2. Flotantes\n",
        "print(f\"Valor flotante: {8.5}\")\n",
        "print(3.1416)\n",
        "\n",
        "# 4. Booleanos\n",
        "print(\"Valor booleano: \", True)\n",
        "print(True)\n",
        "print(False)\n",
        "\n",
        "# 5. Strings(texto-cadenas de caracteres)\n",
        "print(\"Hola Mundo\")\n",
        "\n",
        "# 6. None\n",
        "print(None)\n",
        "\n",
        "# 7. Complejos\n",
        "print(2 + 3j)"
      ]
    },
    {
      "cell_type": "markdown",
      "metadata": {},
      "source": [
        "### Variables"
      ]
    },
    {
      "cell_type": "code",
      "execution_count": null,
      "metadata": {},
      "outputs": [],
      "source": [
        "numero = 23\n",
        "francisco = 23\n",
        "francisco = \"Francisco\""
      ]
    },
    {
      "cell_type": "markdown",
      "metadata": {},
      "source": [
        "### Listas\n",
        "\n",
        "En python las listas son un tipo de datos usados para guardar una colección de valores. Las listas se incorporan como un tipo de dato y clasificadas como secuencia. Las listas son ordenadas y mutables (significa que puede cambiar el contenido ) y pueden contener elementos de diferentes tipos incluyendo enteros, flotantes, cadenas de texto e incluso otras listas."
      ]
    },
    {
      "cell_type": "code",
      "execution_count": 9,
      "metadata": {},
      "outputs": [
        {
          "name": "stdout",
          "output_type": "stream",
          "text": [
            "[1, 2, 3, 4, 5]\n"
          ]
        }
      ],
      "source": [
        "print([1, 2, 3, 4, 5])"
      ]
    },
    {
      "cell_type": "markdown",
      "metadata": {},
      "source": [
        "### Tuplas\n",
        "\n",
        "En python una *Tupla* es otro tipo de dato usado para guardar una colección de valores, similar a una lista. Sin embargo, hay algunas diferencias claves entre las tuplas y las listas:\n",
        "\n",
        "- inmutables : la diferencia más significante es que las tuplas son inmutables, lo que significa que cuando creas una tupla, una vez creada no se puede cambiar el contenido (agregar, eliminar o remover elementos ). Las listas si son mutables y se pueden modificar una vez se hayan creado.\n",
        "- Sintaxis : Las tuplas son creadas por parentesis y los valores separados por comas, mientras que las listas por square brakets []\n",
        "- Performance : Las tuplas son mas eficientes en terminos de memoria "
      ]
    },
    {
      "cell_type": "code",
      "execution_count": 10,
      "metadata": {},
      "outputs": [
        {
          "name": "stdout",
          "output_type": "stream",
          "text": [
            "(1, 2, 3, 4, 5)\n"
          ]
        }
      ],
      "source": [
        "print((1, 2, 3, 4, 5))"
      ]
    },
    {
      "cell_type": "markdown",
      "metadata": {},
      "source": [
        "---\n",
        "\n",
        "## Clase Semana 2\n",
        "\n",
        "---"
      ]
    },
    {
      "cell_type": "markdown",
      "metadata": {},
      "source": [
        "### Diccionarios\n",
        "\n",
        "En Python un diccionario en un tipo de dato que almacena una colección de valores en llave-valor. Cada diccionario mapea un valor especifico, creando una relación entre la llave y el valor. Los diccionarios son conocidos como Arrays o Hash maps en otros lenguajes de programación."
      ]
    },
    {
      "cell_type": "code",
      "execution_count": 1,
      "metadata": {},
      "outputs": [
        {
          "name": "stdout",
          "output_type": "stream",
          "text": [
            "{'name': 'Francisco', 'age': 23}\n"
          ]
        }
      ],
      "source": [
        "print({'name': 'Francisco', 'age': 23})"
      ]
    },
    {
      "cell_type": "code",
      "execution_count": 12,
      "metadata": {},
      "outputs": [],
      "source": [
        "lugares_visitados = {\n",
        "    'bolivia':'salar de uyuni',\n",
        "    'colombia':'guatape',\n",
        "    'requisitos':{\n",
        "        'bolivia':['pasaporte','tener plata para viaticos']\n",
        "    }\n",
        "}"
      ]
    },
    {
      "cell_type": "code",
      "execution_count": 17,
      "metadata": {},
      "outputs": [
        {
          "name": "stdout",
          "output_type": "stream",
          "text": [
            "Francisco\n",
            "23\n"
          ]
        }
      ],
      "source": [
        "diccionario_ejemplo = {'name': 'Francisco', \n",
        "                       'age': 23, \n",
        "                       'gustos': ['bailar','jugar futbol','jugar rugby subacuatico'], \n",
        "                       'lugares-visitados':lugares_visitados\n",
        "                       }\n",
        "print(diccionario_ejemplo[\"name\"])\n",
        "print(diccionario_ejemplo[\"age\"])"
      ]
    },
    {
      "cell_type": "code",
      "execution_count": 16,
      "metadata": {},
      "outputs": [
        {
          "name": "stdout",
          "output_type": "stream",
          "text": [
            "['pasaporte', 'tener plata para viaticos']\n"
          ]
        }
      ],
      "source": [
        "print(diccionario_ejemplo['lugares-visitados']['requisitos']['bolivia'])"
      ]
    },
    {
      "cell_type": "code",
      "execution_count": 18,
      "metadata": {},
      "outputs": [
        {
          "name": "stdout",
          "output_type": "stream",
          "text": [
            "dict_keys(['name', 'age', 'gustos', 'lugares-visitados'])\n"
          ]
        }
      ],
      "source": [
        "print(diccionario_ejemplo.keys())"
      ]
    },
    {
      "cell_type": "code",
      "execution_count": 22,
      "metadata": {},
      "outputs": [],
      "source": [
        "diccionario_ejemplo['estado-civil'] = 'casado' #otro diccionario"
      ]
    },
    {
      "cell_type": "code",
      "execution_count": 23,
      "metadata": {},
      "outputs": [
        {
          "name": "stdout",
          "output_type": "stream",
          "text": [
            "dict_keys(['name', 'age', 'gustos', 'lugares-visitados', 'estado-civil'])\n"
          ]
        }
      ],
      "source": [
        "print(diccionario_ejemplo.keys())"
      ]
    },
    {
      "cell_type": "code",
      "execution_count": 24,
      "metadata": {},
      "outputs": [
        {
          "name": "stdout",
          "output_type": "stream",
          "text": [
            "dict_values(['Francisco', 23, ['bailar', 'jugar futbol', 'jugar rugby subacuatico'], {'bolivia': 'salar de uyuni', 'colombia': 'guatape', 'requisitos': {'bolivia': ['pasaporte', 'tener plata para viaticos']}}, 'casado'])\n"
          ]
        }
      ],
      "source": [
        "print(diccionario_ejemplo.values())"
      ]
    },
    {
      "cell_type": "markdown",
      "metadata": {},
      "source": [
        "Tener cuidado porque el diccionario no repite nombres de llaves en caso de ser repetido toma el último valor."
      ]
    },
    {
      "cell_type": "code",
      "execution_count": 25,
      "metadata": {},
      "outputs": [
        {
          "data": {
            "text/plain": [
              "{'key1': 'valory'}"
            ]
          },
          "execution_count": 25,
          "metadata": {},
          "output_type": "execute_result"
        }
      ],
      "source": [
        "{'key1':'valorx','key1':'valory'}"
      ]
    },
    {
      "cell_type": "markdown",
      "metadata": {},
      "source": [
        "La llave del diccionario siempre va a ser texto (str-un string), mientras el valor asociado no, el valor asociado a la llave puede ser cualquier tipo de valor (otro diccionario, lista, set, tupla, int, float, complex, str etc )"
      ]
    },
    {
      "cell_type": "markdown",
      "metadata": {},
      "source": [
        "Los diccionarios son mutables."
      ]
    },
    {
      "cell_type": "markdown",
      "metadata": {},
      "source": [
        "tuplas - ()  parentesis<br>\n",
        "listas = [] corchetes<br>\n",
        "diccionarios - {} llaves<br>"
      ]
    },
    {
      "cell_type": "markdown",
      "metadata": {},
      "source": [
        "### Cómo conocer el tipo de datatype que tenenmos?"
      ]
    },
    {
      "cell_type": "markdown",
      "metadata": {},
      "source": [
        "type([1,2,3,4])"
      ]
    },
    {
      "cell_type": "markdown",
      "metadata": {},
      "source": []
    },
    {
      "cell_type": "markdown",
      "metadata": {},
      "source": [
        "### Variables"
      ]
    },
    {
      "cell_type": "markdown",
      "metadata": {},
      "source": [
        "En Python, las variables son usadas para almacenar valores (datos). Estos valores pueden ser números, strings,listas, diccionarios, o cualquier otro tipo de valor. Las variables son esenciales para la manipulación y trabajo con los datos en nuestros programas."
      ]
    },
    {
      "cell_type": "markdown",
      "metadata": {},
      "source": [
        "#### Cómo declarar las variables ?"
      ]
    },
    {
      "cell_type": "markdown",
      "metadata": {},
      "source": [
        "En python las variables son usadas para guardar datos. Estos datos/valores pueden ser:\n",
        "- números\n",
        "- cadenas de texto\n",
        "- listas\n",
        "- diccionarios\n",
        "- otro tipo de valores\n",
        "\n",
        "Las variables son esenciales para la manipulación de datos y trabajo con datos en tus programas.\n",
        "\n",
        "1. Las variables se pueden declarar asignando un valor a usar y con el operado ```=``` <br>\n",
        "\n",
        "Ejemplo:\n",
        "```python\n",
        "edad = 5\n",
        "name = \"Alice\"\n",
        "```\n",
        "2. Los nombres de las variables (también conocidos como identificadores) deben seguir las siguientes reglas:\n",
        "\n",
        "\n",
        "- Pueden contener letras (a-z, A-Z), digitos (0-9) y lineas al piso \"_\"\n",
        "- No pueden iniciar con un dígito\n",
        "- Las variables son sensibles al tipado MaYusCulA - MinUScuLa\n",
        "- Las palabras reservadas no pueden ser usadas.\n",
        "\n",
        "\n",
        "Las variables son dinámicamente tipadas, es decir, no necesitan declarar el tipo de tipado. Python determina automaticamente el tipado.\n",
        "\n",
        "\n"
      ]
    },
    {
      "cell_type": "markdown",
      "metadata": {},
      "source": [
        "Las variables pueden tener re-asignaciones de valores"
      ]
    },
    {
      "cell_type": "code",
      "execution_count": 32,
      "metadata": {},
      "outputs": [
        {
          "name": "stdout",
          "output_type": "stream",
          "text": [
            "6\n",
            "hola\n"
          ]
        }
      ],
      "source": [
        "r = 5\n",
        "r = r + 1\n",
        "print(r)\n",
        "r = 'hola'\n",
        "\n",
        "print(r)"
      ]
    },
    {
      "cell_type": "code",
      "execution_count": 30,
      "metadata": {},
      "outputs": [],
      "source": [
        "namE0 = 'francisco'\n",
        "NaMe = 'carlos'"
      ]
    },
    {
      "cell_type": "code",
      "execution_count": 2,
      "metadata": {},
      "outputs": [
        {
          "name": "stdout",
          "output_type": "stream",
          "text": [
            "9\n"
          ]
        }
      ],
      "source": [
        "x = 5\n",
        "x = x + 4\n",
        "print(x)"
      ]
    },
    {
      "cell_type": "markdown",
      "metadata": {},
      "source": [
        "Las variables pueden tener múltiples asignaciones"
      ]
    },
    {
      "cell_type": "code",
      "execution_count": 36,
      "metadata": {},
      "outputs": [],
      "source": [
        "a,b,c = 1,\"hola mundo\",3"
      ]
    },
    {
      "cell_type": "code",
      "execution_count": 38,
      "metadata": {},
      "outputs": [
        {
          "name": "stdout",
          "output_type": "stream",
          "text": [
            "3\n"
          ]
        }
      ],
      "source": [
        "print(c)"
      ]
    },
    {
      "cell_type": "markdown",
      "metadata": {},
      "source": [
        "### User input"
      ]
    },
    {
      "cell_type": "markdown",
      "metadata": {},
      "source": [
        "Cómo capturar un input en python"
      ]
    },
    {
      "cell_type": "markdown",
      "metadata": {},
      "source": [
        "Formato de captura es str"
      ]
    },
    {
      "cell_type": "code",
      "execution_count": 43,
      "metadata": {},
      "outputs": [
        {
          "data": {
            "text/plain": [
              "str"
            ]
          },
          "execution_count": 43,
          "metadata": {},
          "output_type": "execute_result"
        }
      ],
      "source": [
        "type(input(\"Ingrese cualquier valor\"))"
      ]
    },
    {
      "cell_type": "markdown",
      "metadata": {},
      "source": [
        "int() <br>\n",
        "float() <br>\n",
        "str() <br>"
      ]
    },
    {
      "cell_type": "code",
      "execution_count": 49,
      "metadata": {},
      "outputs": [
        {
          "name": "stdout",
          "output_type": "stream",
          "text": [
            "9.4\n",
            "<class 'float'>\n"
          ]
        }
      ],
      "source": [
        "fnum = float(input('enter first number'))\n",
        "snum = int(input('enter second number'))\n",
        "result = fnum + snum\n",
        "print(result)\n",
        "print(type(fnum))"
      ]
    },
    {
      "cell_type": "markdown",
      "metadata": {},
      "source": [
        "### Tipo de conversiones (casteo o hacer un cast)"
      ]
    },
    {
      "cell_type": "markdown",
      "metadata": {},
      "source": [
        "* int() Convierte un valor en un tipo de dato entero.\n",
        "\n",
        "* float()\n",
        "\n",
        ".<br>\n",
        ".<br>\n",
        ".<br>\n"
      ]
    },
    {
      "cell_type": "code",
      "execution_count": 52,
      "metadata": {},
      "outputs": [
        {
          "data": {
            "text/plain": [
              "9.5"
            ]
          },
          "execution_count": 52,
          "metadata": {},
          "output_type": "execute_result"
        }
      ],
      "source": [
        "int('5') + 4.5"
      ]
    },
    {
      "cell_type": "markdown",
      "metadata": {},
      "source": []
    },
    {
      "cell_type": "markdown",
      "metadata": {},
      "source": [
        "### Operadores en Python"
      ]
    },
    {
      "cell_type": "markdown",
      "metadata": {},
      "source": [
        "- Suma           (+)\n",
        "- Resta          (-)\n",
        "- Multiplicación (*)\n",
        "- División       (/)\n",
        "- Módulo         (%)    \n",
        "- Exponente      (**)\n",
        "- Floor division (//)"
      ]
    },
    {
      "cell_type": "markdown",
      "metadata": {},
      "source": [
        "### Operadores de comparación\n",
        "\n",
        "- igual a (==)\n",
        "- No igual (!=)\n",
        "- Menor que(<)\n",
        "- Mayor que (>)\n",
        "- Menor o igual a (<=)\n",
        "- Mayor o igual a (>=)\n"
      ]
    },
    {
      "cell_type": "code",
      "execution_count": 61,
      "metadata": {},
      "outputs": [
        {
          "name": "stdout",
          "output_type": "stream",
          "text": [
            "False\n"
          ]
        }
      ],
      "source": [
        "input1 = int(input('ingrese numero 1'))\n",
        "input2 = int(input('ingrese numero 2'))\n",
        "\n",
        "\n",
        "print(input1==input2)"
      ]
    },
    {
      "cell_type": "markdown",
      "metadata": {},
      "source": [
        "### Operadores lógicos\n",
        "\n",
        "- and\n",
        "- or\n",
        "- not"
      ]
    },
    {
      "cell_type": "markdown",
      "metadata": {},
      "source": [
        "### Operadores de asignación\n",
        "\n",
        "- Assignment (=)\n",
        "- Add and Assign (+=)\n",
        "- Subtract and Assign (-=)\n",
        "- Multiply and Assign (*=)\n",
        "- Divide and Assign (/=)\n",
        "- Floor Divide and Assign (//=)\n",
        "- Modulus and Assign (%=)\n",
        "- Exponentiate and Assign (**=)"
      ]
    },
    {
      "cell_type": "code",
      "execution_count": 6,
      "metadata": {},
      "outputs": [
        {
          "name": "stdout",
          "output_type": "stream",
          "text": [
            "15\n"
          ]
        }
      ],
      "source": [
        "x = 10\n",
        "x += 5\n",
        "print(x)  # Equivalent to x = x + 5\n",
        "x = 10\n",
        "x -= 3  # Equivalent to x = x - 3\n",
        "x *= 2  # Equivalent to x = x * 2\n",
        "x /= 4  # Equivalent to x = x / 4\n",
        "x //= 2 # Equivalent to x = x // 2\n",
        "x %= 3  # Equivalent to x = x % 3\n",
        "x **= 2 # Equivalent to x = x ** 2\n"
      ]
    },
    {
      "cell_type": "markdown",
      "metadata": {},
      "source": [
        "### Operadores binarios"
      ]
    },
    {
      "cell_type": "markdown",
      "metadata": {},
      "source": [
        "- Bitwise AND (&)\n",
        "- Bitwise OR (|)\n",
        "- Bitwise XOR (^)\n",
        "- Bitwise NOT (~)\n",
        "- Left Shift (<<)\n",
        "- Right Shift (>>)"
      ]
    },
    {
      "cell_type": "code",
      "execution_count": 7,
      "metadata": {},
      "outputs": [
        {
          "name": "stdout",
          "output_type": "stream",
          "text": [
            "1\n",
            "7\n",
            "6\n",
            "-6\n",
            "10\n",
            "2\n"
          ]
        }
      ],
      "source": [
        "m = 5  # 101 in binary\n",
        "n = 3  # 011 in binary\n",
        "bitwise_and = m & n  # 001 (1 in decimal)\n",
        "print(bitwise_and)\n",
        "bitwise_or = m | n   # 111 (7 in decimal)\n",
        "print(bitwise_or)\n",
        "bitwise_xor = m ^ n  # 110 (6 in decimal)\n",
        "print(bitwise_xor)\n",
        "bitwise_not_m = ~m   # -6 (in decimal)\n",
        "print(bitwise_not_m)\n",
        "left_shift = m << 1  # 010 (2 in decimal)\n",
        "print(left_shift)\n",
        "right_shift = m >> 1 # 010 (2 in decimal)\n",
        "print(right_shift)"
      ]
    },
    {
      "cell_type": "markdown",
      "metadata": {},
      "source": [
        "### Loops en Python"
      ]
    },
    {
      "cell_type": "markdown",
      "metadata": {},
      "source": [
        "En Python, los loops son usados para ejecutar bloques de código repetido.\n",
        "\n",
        "Hay dos tipos de loops:\n",
        "- For loops\n",
        "- While loops\n",
        "- Loops control statement"
      ]
    },
    {
      "cell_type": "markdown",
      "metadata": {},
      "source": [
        "**What is the use of Loops?why we used that?? (interview Question)**<br>\n",
        " Answer:<br>\n",
        " Loops in Python are used to execute a block of code repeatedly.\n",
        " They are essential for automating repetitive tasks, processing collections of data (e.g.,\n",
        " lists or strings), and iterating through sequences or until a specific condition is met.\n",
        " for loops are commonly used for iteration, while while loops are used when you need to\n",
        " repeat code based on a condition.\n",
        " Loop control statements like break and continue provide flexibility in managing loop\n",
        " execution, making Python a powerful language for tasks that involve repetition and\n",
        " iteration."
      ]
    },
    {
      "cell_type": "markdown",
      "metadata": {},
      "source": [
        "### For loops\n",
        "\n",
        "Los for loops son usados para iterar secuencias (como por ejemplo listas,tuplas,cadenas de texto o rangos) y son ejecuciones de bloques de código por cada item o secuencia."
      ]
    },
    {
      "cell_type": "code",
      "execution_count": 8,
      "metadata": {},
      "outputs": [
        {
          "name": "stdout",
          "output_type": "stream",
          "text": [
            "1\n",
            "2\n",
            "3\n",
            "4\n",
            "5\n",
            "6\n",
            "7\n",
            "8\n",
            "9\n",
            "10\n"
          ]
        }
      ],
      "source": [
        "for i in range(1,11):\n",
        "    print(i)"
      ]
    },
    {
      "cell_type": "code",
      "execution_count": 9,
      "metadata": {},
      "outputs": [
        {
          "name": "stdout",
          "output_type": "stream",
          "text": [
            "1\n",
            "2\n",
            "3\n",
            "4\n",
            "5\n",
            "6\n",
            "7\n",
            "8\n"
          ]
        }
      ],
      "source": [
        "for i in (1,2,3,4,5,6,7,8):\n",
        "    print(i)"
      ]
    },
    {
      "cell_type": "code",
      "execution_count": 10,
      "metadata": {},
      "outputs": [
        {
          "name": "stdout",
          "output_type": "stream",
          "text": [
            "1\n",
            "3\n",
            "5\n",
            "7\n",
            "9\n",
            "11\n",
            "13\n",
            "15\n",
            "17\n",
            "19\n"
          ]
        }
      ],
      "source": [
        "for i in range(1,21,2):\n",
        "    print(i)"
      ]
    },
    {
      "cell_type": "markdown",
      "metadata": {},
      "source": [
        "Dentro de la función range() hay algo llamado step o stride. Esto determina el incremento entre las secuencias consecutivas en un rango de valor, en el caso anterior el incremento fue de 2 en 2 hasta llegar de a 20 iniciando en el valor 1."
      ]
    },
    {
      "cell_type": "code",
      "execution_count": 11,
      "metadata": {},
      "outputs": [
        {
          "name": "stdout",
          "output_type": "stream",
          "text": [
            "10\n",
            "9\n",
            "8\n",
            "7\n",
            "6\n",
            "5\n",
            "4\n",
            "3\n",
            "2\n",
            "1\n"
          ]
        }
      ],
      "source": [
        "for i in range(10,0,-1):\n",
        "    print(i)"
      ]
    },
    {
      "cell_type": "markdown",
      "metadata": {},
      "source": [
        "### Ejercicio\n",
        "\n",
        "La población actual de una ciudad es de 10000 habitantes. En población aumenta a un ritmo del 10% anual. Tienes que escribir un programa para averiguar la población al final de cada uno de los últimos 10 años."
      ]
    },
    {
      "cell_type": "markdown",
      "metadata": {},
      "source": []
    },
    {
      "cell_type": "markdown",
      "metadata": {},
      "source": [
        "### While loop\n",
        "\n",
        "Los bucles while son usados para ejecutar de forma repetitiva un bloque de código con una condición en true."
      ]
    },
    {
      "cell_type": "code",
      "execution_count": 1,
      "metadata": {},
      "outputs": [
        {
          "name": "stdout",
          "output_type": "stream",
          "text": [
            "1\n",
            "2\n",
            "3\n",
            "4\n",
            "5\n"
          ]
        }
      ],
      "source": [
        "count = 1\n",
        "while count <= 5:\n",
        "    print(count)\n",
        "    count += 1"
      ]
    },
    {
      "cell_type": "markdown",
      "metadata": {},
      "source": [
        "Note que hay un contador en la secuencia del loop<br> \n",
        "\n",
        "```python\n",
        "\n",
        "count+=1\n",
        "\n",
        "```\n",
        "\n"
      ]
    },
    {
      "cell_type": "markdown",
      "metadata": {},
      "source": [
        "Que será un contador ?"
      ]
    },
    {
      "cell_type": "markdown",
      "metadata": {},
      "source": [
        "### Loop control statement"
      ]
    },
    {
      "cell_type": "markdown",
      "metadata": {},
      "source": [
        "In addition to basic loops, Python provides loop control statements that allow you to\n",
        " customize loop behavior:\n",
        " - 'break':Usado para salir de forma prematura del bucle basado en una condición.\n",
        " - 'continue': Se salta la iteración actual del bucle y pasa a la siguiente iteración.\n",
        " - Cláusula 'else': Puede utilizarse con un bucle for o while para especificar un bloque de código que se ejecutará después de que el bucle haya terminado normalmente (es decir, sin llegar a una sentencia break).\n",
        " ejecutará después de que el bucle haya terminado normalmente (es decir, sin llegar a una sentencia break)."
      ]
    },
    {
      "cell_type": "code",
      "execution_count": 2,
      "metadata": {},
      "outputs": [
        {
          "name": "stdout",
          "output_type": "stream",
          "text": [
            "1\n",
            "2\n",
            "limit Crossed\n"
          ]
        }
      ],
      "source": [
        "x = 1\n",
        "while x < 3:\n",
        "    print(x)\n",
        "    x += 1\n",
        "else:\n",
        "    print('limit Crossed')"
      ]
    },
    {
      "cell_type": "markdown",
      "metadata": {},
      "source": [
        "### Break and continue"
      ]
    },
    {
      "cell_type": "code",
      "execution_count": 4,
      "metadata": {},
      "outputs": [
        {
          "name": "stdout",
          "output_type": "stream",
          "text": [
            "1\n",
            "2\n",
            "3\n",
            "4\n",
            "5\n",
            "Loop ended\n"
          ]
        }
      ],
      "source": [
        "# Using break\n",
        "numbers = [1, 2, 3, 4, 5, 6, 7, 8, 9, 10]\n",
        "for num in numbers:\n",
        "    if num == 6:\n",
        "        break  # Exit the loop when num equals 6\n",
        "    print(num)\n",
        "print(\"Loop ended\")"
      ]
    },
    {
      "cell_type": "code",
      "execution_count": 3,
      "metadata": {},
      "outputs": [
        {
          "name": "stdout",
          "output_type": "stream",
          "text": [
            "1\n",
            "2\n",
            "4\n",
            "5\n",
            "Loop ended\n"
          ]
        }
      ],
      "source": [
        "# Using continue\n",
        "numbers = [1, 2, 3, 4, 5]\n",
        "for num in numbers:\n",
        "    if num == 3:\n",
        "        continue  # Skip printing 3 and continue with the next iteration\n",
        "    print(num)\n",
        "print(\"Loop ended\")"
      ]
    },
    {
      "cell_type": "markdown",
      "metadata": {},
      "source": [
        "### Condicionales if and else"
      ]
    },
    {
      "cell_type": "markdown",
      "metadata": {},
      "source": [
        "¿Qué son las condiciones?\n",
        "\n",
        "En programación, las condiciones nos permiten que el programa tome decisiones basadas en si ciertas expresiones son verdaderas o falsas. Estas decisiones se implementan con estructuras de control de flujo como if, else, y elif (una contracción de \"else if\").\n",
        "\n",
        "La estructura if\n",
        "\n",
        "La palabra clave if se utiliza para ejecutar un bloque de código si una condición es verdadera. Si la condición no se cumple, el programa ignora el código asociado al if."
      ]
    },
    {
      "cell_type": "markdown",
      "metadata": {},
      "source": [
        "``` python\n",
        "if condición:\n",
        "    # Bloque de código a ejecutar si la condición es verdadera\n",
        "```"
      ]
    },
    {
      "cell_type": "markdown",
      "metadata": {},
      "source": [
        "La estructura elif\n",
        "\n",
        "A veces necesitamos evaluar más de una condición. Para eso usamos elif, que nos permite encadenar condiciones adicionales. elif solo se ejecuta si las condiciones anteriores (if o elif) no son verdaderas."
      ]
    },
    {
      "cell_type": "markdown",
      "metadata": {},
      "source": [
        "``` python\n",
        "if condición1:\n",
        "    # Bloque de código si condición1 es verdadera\n",
        "elif condición2:\n",
        "    # Bloque de código si condición2 es verdadera\n",
        "else:\n",
        "    # Bloque de código si ninguna de las anteriores es verdadera\n",
        "```"
      ]
    },
    {
      "cell_type": "code",
      "execution_count": 5,
      "metadata": {},
      "outputs": [
        {
          "name": "stdout",
          "output_type": "stream",
          "text": [
            "Eres un adolescente\n"
          ]
        }
      ],
      "source": [
        "edad = 16\n",
        "if edad >= 18:\n",
        "    print(\"Eres mayor de edad\")\n",
        "elif edad >= 13:\n",
        "    print(\"Eres un adolescente\")\n",
        "else:\n",
        "    print(\"Eres un niño\")\n"
      ]
    },
    {
      "cell_type": "markdown",
      "metadata": {},
      "source": [
        "Importancia de la indentación\n",
        "\n",
        "Python utiliza la indentación para definir los bloques de código. Cada bloque de código dentro de un if, else, o elif debe estar correctamente indentado (normalmente con 4 espacios o una tabulación). Si no se respeta la indentación, Python lanzará un error de sintaxis."
      ]
    },
    {
      "cell_type": "markdown",
      "metadata": {},
      "source": [
        "---"
      ]
    },
    {
      "cell_type": "markdown",
      "metadata": {},
      "source": [
        "Ejercicios propuestos para la clase:\n",
        "\n",
        "- Escribe un programa que pregunte la edad del usuario y le diga si es mayor de edad o menor de edad.\n",
        "- Crea un programa que verifique si un número es positivo, negativo o cero.\n",
        "- Diseña un programa que pida tres números y determine cuál es el mayor de los tres."
      ]
    },
    {
      "cell_type": "code",
      "execution_count": null,
      "metadata": {},
      "outputs": [],
      "source": []
    },
    {
      "cell_type": "markdown",
      "metadata": {},
      "source": [
        "---"
      ]
    },
    {
      "cell_type": "markdown",
      "metadata": {},
      "source": [
        "### Métodos de listas en Python"
      ]
    },
    {
      "cell_type": "code",
      "execution_count": 1,
      "metadata": {},
      "outputs": [
        {
          "name": "stdout",
          "output_type": "stream",
          "text": [
            "[1, 2, 3, 4, 5, 6]\n",
            "[1, 2, 2.5, 3, 4, 5]\n"
          ]
        }
      ],
      "source": [
        "# append() method\n",
        "numbers = [1, 2, 3, 4, 5]\n",
        "numbers.append(6)\n",
        "print(numbers)  # Output: [1, 2, 3, 4, 5, 6]\n",
        "\n",
        "# insert() method\n",
        "numbers = [1, 2, 3, 4, 5]\n",
        "numbers.insert(2, 2.5)\n",
        "print(numbers)  # Output: [1, 2, 2.5, 3, 4, 5]\n",
        "\n",
        "# extend() method\n",
        "numbers = [1, 2, 3]\n",
        "numbers.extend([4, 5])\n",
        "print(numbers)  # Output: [1, 2, 3, 4, 5]\n",
        "\n",
        "# remove() method\n",
        "numbers = [1, 2, 3, 4, 5]\n",
        "numbers.remove(5)\n",
        "print(numbers)  # Output: [1, 2, 3, 4]\n",
        "\n",
        "# pop() method\n",
        "numbers = [1, 2, 3, 4, 5]\n",
        "numbers.pop()\n",
        "print(numbers)  # Output: [1, 2, 3, 4]\n",
        "\n",
        "# clear() method\n",
        "numbers = [1, 2, 3, 4, 5]\n",
        "numbers.clear()\n",
        "print(numbers)  # Output: []\n",
        "\n",
        "# index() method\n",
        "numbers = [1, 2, 3, 4, 5]\n",
        "print(numbers.index(5))  # Output: 4\n",
        "\n",
        "# count() method\n",
        "numbers = [1, 2, 3, 4, 5, 3]\n",
        "print(numbers.count(3))  # Output:\n",
        "\n",
        "# sort() method\n",
        "numbers = [3, 1, 5, 2, 4]\n",
        "numbers.sort()\n",
        "print(numbers)  # Output: [1, 2, 3, 4, 5]\n",
        "\n",
        "# reverse() method\n",
        "numbers = [1, 2, 3, 4, 5]\n",
        "numbers.reverse()\n",
        "print(numbers)  # Output: [5, 4, 3, 2, 1]\n",
        "\n",
        "# copy() method\n",
        "numbers = [1, 2, 3, 4, 5]\n",
        "numbers_copy = numbers.copy()\n",
        "print(numbers_copy)  # Output: [1, 2, 3, 4, 5]\n",
        "\n",
        "# list() constructor\n",
        "numbers = list((1, 2, 3, 4, 5))\n",
        "print(numbers)  # Output: [1, 2, 3, 4, 5]\n",
        "\n",
        "# List comprehension\n",
        "numbers = [x for x in range(10)]\n",
        "print(numbers)  # Output: [0, 1, 2, 3, 4, 5, 6, 7, 8, 9]\n",
        "\n",
        "# List comprehension with if condition\n",
        "numbers = [x for x in range(10) if x % 2 == 0]\n",
        "print(numbers)  # Output: [0, 2, 4, 6, 8]\n",
        "\n"
      ]
    },
    {
      "cell_type": "markdown",
      "metadata": {},
      "source": [
        "### Métodos de tuplas en Python"
      ]
    },
    {
      "cell_type": "code",
      "execution_count": null,
      "metadata": {},
      "outputs": [],
      "source": [
        "\n",
        "\n",
        "# Tuple packing\n",
        "numbers = 1, 2, 3\n",
        "print(numbers)  # Output: (1, 2, 3)\n",
        "\n",
        "# Tuple unpacking\n",
        "a, b, c = numbers\n",
        "print(a)  # Output: 1\n",
        "print(b)  # Output: 2\n",
        "print(c)  # Output: 3\n",
        "\n",
        "# Tuple constructor\n",
        "numbers = tuple((1, 2, 3))\n",
        "print(numbers)  # Output: (1, 2, 3)\n",
        "\n",
        "# Tuple comprehension\n",
        "numbers = tuple(x for x in range(10))\n",
        "print(numbers)  # Output: (0, 1, 2, 3, 4, 5, 6, 7, 8, 9)\n",
        "\n",
        "# Tuple comprehension with if condition\n",
        "numbers = tuple(x for x in range(10) if x % 2 == 0)\n",
        "print(numbers)  # Output: (0, 2, 4, 6, 8)\n",
        "\n",
        "# Tuple methods\n",
        "numbers = (1, 2, 3, 4, 5)\n",
        "print(numbers.index(5))  # Output: 4\n",
        "print(numbers.count(3))  # Output: 1\n",
        "\n",
        "# Tuple concatenation\n",
        "numbers = (1, 2, 3) + (4, 5)\n",
        "print(numbers)  # Output: (1, 2, 3, 4, 5)\n",
        "\n",
        "# Tuple repetition\n",
        "numbers = (1, 2, 3) * 2\n",
        "print(numbers)  # Output: (1, 2, 3, 1, 2, 3)\n",
        "\n",
        "# Tuple membership test\n",
        "numbers = (1, 2, 3, 4, 5)\n",
        "print(1 in numbers)  # Output: True\n",
        "\n",
        "# Tuple iteration\n",
        "numbers = (1, 2, 3)\n",
        "for num in numbers:\n",
        "    print(num)\n",
        "\n",
        "# Tuple with one element\n",
        "numbers = (1,)\n",
        "print(numbers)  # Output: (1,)\n",
        "print(type(numbers))  # Output: <class 'tuple'>\n",
        "\n",
        "# Tuple without parentheses\n",
        "numbers = 1, 2, 3\n",
        "print(numbers)  # Output: (1, 2, 3)\n",
        "print(type(numbers))  # Output: <class 'tuple'>"
      ]
    },
    {
      "cell_type": "markdown",
      "metadata": {},
      "source": [
        "### Métodos de diccionarios en Python"
      ]
    },
    {
      "cell_type": "code",
      "execution_count": null,
      "metadata": {},
      "outputs": [],
      "source": [
        "# Dictionary methods\n",
        "person = {'name': 'John', 'age': 25}\n",
        "print(person.get('name'))  # Output: John\n",
        "print(person.get('address'))  # Output: None\n",
        "print(person.keys())  # Output: dict_keys(['name', 'age'])\n",
        "print(person.values())  # Output: dict_values(['John', 25])\n",
        "print(person.items())  # Output: dict_items([('name', 'John'), ('age', 25])\n",
        "person_copy = person.copy()\n",
        "print(person_copy)  # Output: {'name': 'John', 'age': 25}\n",
        "person.clear()\n",
        "print(person)  # Output: {}\n",
        "\n",
        "# Dictionary constructor\n",
        "person = dict(name='John', age=25)\n",
        "print(person)  # Output: {'name': 'John', 'age': 25}\n",
        "\n",
        "# Dictionary comprehension\n",
        "numbers = {x: x * x for x in (1, 2, 3, 4, 5)}\n",
        "print(numbers)  # Output: {1: 1, 2: 4, 3: 9, 4: 16, 5: 25}\n",
        "\n",
        "# Dictionary methods\n",
        "person = {'name': 'John', 'age': 25}\n",
        "person['address'] = 'Downtown'\n",
        "print(person)  # Output: {'name': 'John', 'age': 25, 'address': 'Downtown'}\n",
        "person.pop('address')\n",
        "print(person)  # Output: {'name': 'John', 'age': 25}\n",
        "person.popitem()\n",
        "print(person)  # Output: {'name': 'John'}\n",
        "del person['name']\n",
        "print(person)  # Output: {}\n",
        "\n",
        "# Dictionary iteration\n",
        "person = {'name': 'John', 'age': 25}\n",
        "for key in person:\n",
        "    print(key, person[key])\n"
      ]
    },
    {
      "cell_type": "markdown",
      "metadata": {},
      "source": [
        "#### Ejercicios\n",
        "\n",
        "A continuación debes crear una base de datos simple utilizando listas en Python. Una base de datos es una colección de datos organizados que se utilizan para almacenar y recuperar información. En este caso, simularemos una base de datos de estudiantes con información básica.\n",
        "\n",
        "#### Instrucciones\n",
        "\n",
        "1. Crea un programa en Python que permita a los usuarios realizar las siguientes acciones:\n",
        "\n",
        "   a. Agregar un nuevo estudiante a la base de datos. Cada estudiante debe tener al menos un nombre, un número de identificación y una edad. Puedes utilizar una lista para almacenar estos datos.\n",
        "\n",
        "   b. Mostrar la lista de estudiantes en la base de datos.\n",
        "\n",
        "   c. Buscar un estudiante por su número de identificación y mostrar su información.\n",
        "\n",
        "   d. Actualizar la información de un estudiante existente en la base de datos.\n",
        "\n",
        "   e. Eliminar un estudiante de la base de datos.\n",
        "\n",
        "2. Utiliza listas de Python para almacenar la información de los estudiantes. Por ejemplo, puedes crear una lista de diccionarios, donde cada diccionario representa un estudiante con sus datos.\n",
        "\n",
        "3. Ofrece un menú interactivo que permita a los usuarios elegir las acciones que desean realizar en la base de datos.\n",
        "\n",
        "4. Implementa la lógica necesaria para cada acción, como agregar, buscar, actualizar o eliminar estudiantes.\n",
        "\n",
        "#### Ejemplo de Base de Datos\n",
        "\n",
        "A continuación, se muestra un ejemplo de cómo podría verse una base de datos de estudiantes utilizando listas y diccionarios:\n",
        "\n",
        "```python\n",
        "base_de_datos = [\n",
        "    {\"nombre\": \"Juan\", \"id\": 1, \"edad\": 20},\n",
        "    {\"nombre\": \"María\", \"id\": 2, \"edad\": 22},\n",
        "    {\"nombre\": \"Carlos\", \"id\": 3, \"edad\": 21}\n",
        "]\n",
        "\n",
        "Desarrolle el código en la siguiente lista."
      ]
    },
    {
      "cell_type": "markdown",
      "metadata": {},
      "source": [
        "2. Genera un diccionario, sobre la información que deseas guardar como base de datos, desarrollo el código necesario para generar el archivo JSON, y también el código para cargar la información del archivo JSON."
      ]
    },
    {
      "cell_type": "markdown",
      "metadata": {},
      "source": []
    }
  ],
  "metadata": {
    "colab": {
      "authorship_tag": "ABX9TyP/0HYlX+v6gi+LSCSjsMBT",
      "include_colab_link": true,
      "provenance": []
    },
    "kernelspec": {
      "display_name": "Python 3",
      "name": "python3"
    },
    "language_info": {
      "codemirror_mode": {
        "name": "ipython",
        "version": 3
      },
      "file_extension": ".py",
      "mimetype": "text/x-python",
      "name": "python",
      "nbconvert_exporter": "python",
      "pygments_lexer": "ipython3",
      "version": "3.12.2"
    }
  },
  "nbformat": 4,
  "nbformat_minor": 0
}
