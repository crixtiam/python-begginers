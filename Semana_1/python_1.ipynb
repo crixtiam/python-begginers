{
  "cells": [
    {
      "cell_type": "markdown",
      "metadata": {
        "colab_type": "text",
        "id": "view-in-github"
      },
      "source": []
    },
    {
      "cell_type": "markdown",
      "metadata": {
        "id": "qh1uvnLFSo1W"
      },
      "source": [
        "<div style=\"display: flex; align-items: center;\">\n",
        "    <img src=\"https://raw.githubusercontent.com/crixtiam/python-begginers/refs/heads/main/Semana_1/img/python-stats.webp?token=GHSAT0AAAAAACV3ZA7HMXOE4UKUGQNUSLCUZXQUKAQ\" alt=\"Logo\" width=\"100\" style=\"margin-right: 10px;\"/> \n",
        "    <h1 style=\"margin: 0;\">Python principios básicos</h1>\n",
        "</div>\n",
        "\n",
        "---\n",
        "\n",
        "**Autor:** Cristiam Loaiza  \n",
        "**Fecha:** 22 de septiembre de 2024  \n",
        "**Propósito:** Análisis de Datos usando Python y Herramientas Avanzadas"
      ]
    },
    {
      "cell_type": "markdown",
      "metadata": {},
      "source": [
        "Python es un lenguaje de programación versatil de alto nivel ampliamente soportado por la mayoria de sistemas operativos"
      ]
    },
    {
      "cell_type": "markdown",
      "metadata": {},
      "source": [
        "### **Instalación de Python en el computador - forma local**\n",
        "\n",
        "1. Instala VSCode - <a href=\"https://apps.microsoft.com/detail/xp9khm4bk9fz7q?launch=true&mode=full&hl=en-us&gl=co&ocid=bingwebsearch\">Descargar VScode</a>\n",
        "\n",
        "2. Descarga Python <a href='https://www.python.org/downloads/'>Descarga python</a>\n",
        "3. Instala el archivo *.exe* descargado en el literal 2.\n",
        "4. En la instalación verifica \n",
        "<div  style=\"display: flex; justify-content: center; align-items: center\">\n",
        "    <img src=\"https://raw.githubusercontent.com/crixtiam/python-begginers/refs/heads/main/Semana_1/img/python-install-windows.png?token=GHSAT0AAAAAACV3ZA7H4KQURUSA56RBRMFMZXQULJA\" alt=\"Logo\" width=\"500\" style=\"margin-right: 10px;\"/> \n",
        "</div>"
      ]
    },
    {
      "cell_type": "markdown",
      "metadata": {},
      "source": []
    },
    {
      "cell_type": "code",
      "execution_count": 1,
      "metadata": {
        "id": "OIEBfXJ4SXgU"
      },
      "outputs": [
        {
          "name": "stdout",
          "output_type": "stream",
          "text": [
            "4\n"
          ]
        }
      ],
      "source": []
    }
  ],
  "metadata": {
    "colab": {
      "authorship_tag": "ABX9TyP/0HYlX+v6gi+LSCSjsMBT",
      "include_colab_link": true,
      "provenance": []
    },
    "kernelspec": {
      "display_name": "Python 3",
      "name": "python3"
    },
    "language_info": {
      "codemirror_mode": {
        "name": "ipython",
        "version": 3
      },
      "file_extension": ".py",
      "mimetype": "text/x-python",
      "name": "python",
      "nbconvert_exporter": "python",
      "pygments_lexer": "ipython3",
      "version": "3.12.2"
    }
  },
  "nbformat": 4,
  "nbformat_minor": 0
}
