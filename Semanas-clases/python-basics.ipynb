{
  "cells": [
    {
      "cell_type": "markdown",
      "metadata": {
        "id": "qh1uvnLFSo1W"
      },
      "source": [
        "<div style=\"display: flex; align-items: center;\">\n",
        "    <img src=\"./img/python-stats.webp\" alt=\"Logo\" width=\"100\" style=\"margin-right: 10px;\"/> \n",
        "    <h1 style=\"margin: 0;\">Python principios básicos</h1>\n",
        "</div>\n",
        "\n",
        "---\n",
        "\n",
        "**Autor:** Cristiam Loaiza  \n",
        "**Fecha:** 22 de septiembre de 2024  \n",
        "**Propósito:** Análisis de Datos usando Python y Herramientas Avanzadas"
      ]
    },
    {
      "cell_type": "markdown",
      "metadata": {},
      "source": [
        "Python es un lenguaje de programación versatil de alto nivel ampliamente soportado por la mayoria de sistemas operativos"
      ]
    },
    {
      "cell_type": "markdown",
      "metadata": {},
      "source": [
        "### **Instalación de Python en el computador - forma local**\n",
        "\n",
        "1. Instala VSCode - <a href=\"https://apps.microsoft.com/detail/xp9khm4bk9fz7q?launch=true&mode=full&hl=en-us&gl=co&ocid=bingwebsearch\">Descargar VScode</a>\n",
        "\n",
        "2. Descarga Python <a href='https://www.python.org/downloads/'>Descarga python</a>\n",
        "3. Instala el archivo *.exe* descargado en el literal 2.\n",
        "4. En la instalación verifica que tenga un check en la opción [ add python.exe path]\n",
        "\n",
        "<div  style=\"display: flex; justify-content: center; align-items: center\">\n",
        "    <img src=\"./img/python-install-windows.png\" alt=\"Logo\" width=\"500\" style=\"margin-right: 10px;\"/> \n",
        "</div>\n",
        "\n",
        "5. Instalar libreria *virtualenv* (para la creacion de entornos virtuales). Cuando se haya instalado python (literal 2.) ```pip install virtualenv```"
      ]
    },
    {
      "cell_type": "markdown",
      "metadata": {},
      "source": [
        "### Hola\n",
        "\n",
        "\n",
        "texto\n",
        "\n",
        "<h1>Hola<h1>"
      ]
    },
    {
      "cell_type": "markdown",
      "metadata": {},
      "source": [
        "### Tú primer programa en Python\n",
        "\n",
        "Previo a la instalación en tú computador, ahora vamos a escribir nuestro primer programa en python."
      ]
    },
    {
      "cell_type": "code",
      "execution_count": 4,
      "metadata": {
        "id": "OIEBfXJ4SXgU"
      },
      "outputs": [
        {
          "name": "stdout",
          "output_type": "stream",
          "text": [
            "Hello, World!\n"
          ]
        }
      ],
      "source": [
        "print(\"Hello, World!\")"
      ]
    },
    {
      "cell_type": "markdown",
      "metadata": {},
      "source": [
        "En python todo dentro ```print()``` se muestra en pantalla "
      ]
    },
    {
      "cell_type": "markdown",
      "metadata": {},
      "source": [
        "---"
      ]
    },
    {
      "cell_type": "markdown",
      "metadata": {},
      "source": [
        "### Python Comments\n",
        "\n",
        "Los comentarios son sugerencias de agregamos a nuestro código para que sea más fácil de entender. Los comentarios comienzan con ```#```\n",
        "Ejemplo: "
      ]
    },
    {
      "cell_type": "code",
      "execution_count": 2,
      "metadata": {},
      "outputs": [
        {
          "name": "stdout",
          "output_type": "stream",
          "text": [
            "23\n"
          ]
        }
      ],
      "source": [
        "# Imprimir un numero\n",
        "print(23)"
      ]
    },
    {
      "cell_type": "markdown",
      "metadata": {},
      "source": [
        "#### Comentarios multiples"
      ]
    },
    {
      "cell_type": "code",
      "execution_count": 1,
      "metadata": {},
      "outputs": [],
      "source": [
        "# Mi primer comentario\n",
        "# Mi segundo comentario\n",
        "# Mi tercer comentario"
      ]
    },
    {
      "cell_type": "markdown",
      "metadata": {},
      "source": [
        "#### Comentarios en cadena"
      ]
    },
    {
      "cell_type": "code",
      "execution_count": 3,
      "metadata": {},
      "outputs": [
        {
          "data": {
            "text/plain": [
              "'\\nMi texto es\\ntan largo que\\nnecesito\\nvarias lineas\\n'"
            ]
          },
          "execution_count": 3,
          "metadata": {},
          "output_type": "execute_result"
        }
      ],
      "source": [
        "'''\n",
        "Mi texto es \n",
        "tan largo que\n",
        "necesito\n",
        "varias lineas\n",
        "'''\n",
        "\n",
        "\"\"\"\n",
        "Mi texto es\n",
        "tan largo que\n",
        "necesito\n",
        "varias lineas\n",
        "\"\"\""
      ]
    },
    {
      "cell_type": "markdown",
      "metadata": {},
      "source": [
        "### Data types"
      ]
    },
    {
      "cell_type": "code",
      "execution_count": 31,
      "metadata": {},
      "outputs": [
        {
          "name": "stdout",
          "output_type": "stream",
          "text": [
            "Valor entero:  23\n",
            "9\n",
            "Valor flotante: 8.5\n",
            "3.1416\n",
            "Valor booleano:  True\n",
            "True\n",
            "False\n",
            "Hola Mundo\n",
            "hola\n",
            "None\n",
            "(2+3j)\n"
          ]
        }
      ],
      "source": [
        "\"\"\"\n",
        "Este codigo describe el tipo de datos\n",
        "\"\"\"\n",
        "\n",
        "# 1. Enteros\n",
        "print(\"Valor entero: \", 23)\n",
        "print(9)\n",
        "\n",
        "# 2. Flotantes\n",
        "print(f\"Valor flotante: {8.5}\")\n",
        "print(3.1416)\n",
        "\n",
        "# 4. Booleanos\n",
        "print(\"Valor booleano: \", True)\n",
        "print(True)\n",
        "print(False)\n",
        "\n",
        "# 5. Strings(texto-cadenas de caracteres)\n",
        "print(\"Hola Mundo\")\n",
        "print('hola')\n",
        "\n",
        "# 6. None\n",
        "print(None)\n",
        "\n",
        "# 7. Complejos\n",
        "print(2 + 3j)"
      ]
    },
    {
      "cell_type": "code",
      "execution_count": 12,
      "metadata": {},
      "outputs": [
        {
          "name": "stdout",
          "output_type": "stream",
          "text": [
            "<class 'bool'>\n"
          ]
        }
      ],
      "source": [
        "print(type(True))"
      ]
    },
    {
      "cell_type": "code",
      "execution_count": 32,
      "metadata": {},
      "outputs": [
        {
          "ename": "TypeError",
          "evalue": "can only concatenate str (not \"int\") to str",
          "output_type": "error",
          "traceback": [
            "\u001b[1;31m---------------------------------------------------------------------------\u001b[0m",
            "\u001b[1;31mTypeError\u001b[0m                                 Traceback (most recent call last)",
            "Cell \u001b[1;32mIn[32], line 1\u001b[0m\n\u001b[1;32m----> 1\u001b[0m \u001b[38;5;124;43m\"\u001b[39;49m\u001b[38;5;124;43m5\u001b[39;49m\u001b[38;5;124;43m\"\u001b[39;49m\u001b[38;5;241;43m+\u001b[39;49m\u001b[38;5;241;43m5\u001b[39;49m\n",
            "\u001b[1;31mTypeError\u001b[0m: can only concatenate str (not \"int\") to str"
          ]
        }
      ],
      "source": [
        "\"5\"+5"
      ]
    },
    {
      "cell_type": "markdown",
      "metadata": {},
      "source": [
        "### Variables"
      ]
    },
    {
      "cell_type": "code",
      "execution_count": null,
      "metadata": {},
      "outputs": [],
      "source": [
        "numero = 23\n",
        "francisco = 23\n",
        "edad= 23\n",
        "francisco = \"Francisco\"\n",
        "nombre = \"Francisco\""
      ]
    },
    {
      "cell_type": "markdown",
      "metadata": {},
      "source": [
        "### Listas\n",
        "\n",
        "En python las listas son un tipo de datos usados para guardar una colección de valores. Las listas se incorporan como un tipo de dato y clasificadas como secuencia. Las listas son ordenadas y mutables (significa que puede cambiar el contenido ) y pueden contener elementos de diferentes tipos incluyendo enteros, flotantes, cadenas de texto e incluso otras listas."
      ]
    },
    {
      "cell_type": "code",
      "execution_count": 9,
      "metadata": {},
      "outputs": [
        {
          "name": "stdout",
          "output_type": "stream",
          "text": [
            "[1, 2, 3, 4, 5]\n"
          ]
        }
      ],
      "source": [
        "print([1, 2, 3, 4, 5])"
      ]
    },
    {
      "cell_type": "markdown",
      "metadata": {},
      "source": [
        "### Tuplas\n",
        "\n",
        "En python una *Tupla* es otro tipo de dato usado para guardar una colección de valores, similar a una lista. Sin embargo, hay algunas diferencias claves entre las tuplas y las listas:\n",
        "\n",
        "- inmutables : la diferencia más significante es que las tuplas son inmutables, lo que significa que cuando creas una tupla, una vez creada no se puede cambiar el contenido (agregar, eliminar o remover elementos ). Las listas si son mutables y se pueden modificar una vez se hayan creado.\n",
        "- Sintaxis : Las tuplas son creadas por parentesis y los valores separados por comas, mientras que las listas por square brakets []\n",
        "- Performance : Las tuplas son mas eficientes en terminos de memoria "
      ]
    },
    {
      "cell_type": "code",
      "execution_count": 10,
      "metadata": {},
      "outputs": [
        {
          "name": "stdout",
          "output_type": "stream",
          "text": [
            "(1, 2, 3, 4, 5)\n"
          ]
        }
      ],
      "source": [
        "print((1, 2, 3, 4, 5))"
      ]
    },
    {
      "cell_type": "markdown",
      "metadata": {},
      "source": []
    },
    {
      "cell_type": "code",
      "execution_count": 33,
      "metadata": {},
      "outputs": [
        {
          "data": {
            "text/plain": [
              "['hola', 4, 7, 'coco', 56, 17, (2+1j), 3.455]"
            ]
          },
          "execution_count": 33,
          "metadata": {},
          "output_type": "execute_result"
        }
      ],
      "source": [
        "# toda lista se comienza a contar la posicion desde el 0.\n",
        "[\"hola\",4,7,\"coco\",56,17,2+1j,3.455]"
      ]
    },
    {
      "cell_type": "code",
      "execution_count": 37,
      "metadata": {},
      "outputs": [
        {
          "name": "stdout",
          "output_type": "stream",
          "text": [
            "('hola', 4, 7, 'coco', 10, 17, (2+1j), 3.455)\n"
          ]
        }
      ],
      "source": [
        "# toda tupla se comienza a contar la posicion desde el 0.\n",
        "print((\"hola\",4,7,\"coco\",10,17,2+1j,3.455))"
      ]
    },
    {
      "cell_type": "code",
      "execution_count": 42,
      "metadata": {},
      "outputs": [
        {
          "name": "stdout",
          "output_type": "stream",
          "text": [
            "('hola', 4, 7, 'coco', 10, 17, (2+1j), 3.455)\n",
            "coco\n"
          ]
        },
        {
          "ename": "TypeError",
          "evalue": "'tuple' object does not support item assignment",
          "output_type": "error",
          "traceback": [
            "\u001b[1;31m---------------------------------------------------------------------------\u001b[0m",
            "\u001b[1;31mTypeError\u001b[0m                                 Traceback (most recent call last)",
            "Cell \u001b[1;32mIn[42], line 7\u001b[0m\n\u001b[0;32m      3\u001b[0m \u001b[38;5;28mprint\u001b[39m(mi_tupla)\n\u001b[0;32m      5\u001b[0m \u001b[38;5;28mprint\u001b[39m(mi_tupla[\u001b[38;5;241m3\u001b[39m])\n\u001b[1;32m----> 7\u001b[0m \u001b[43mmi_tupla\u001b[49m\u001b[43m[\u001b[49m\u001b[38;5;241;43m3\u001b[39;49m\u001b[43m]\u001b[49m  \u001b[38;5;241m=\u001b[39m \u001b[38;5;241m45\u001b[39m\n",
            "\u001b[1;31mTypeError\u001b[0m: 'tuple' object does not support item assignment"
          ]
        }
      ],
      "source": [
        "mi_tupla = (\"hola\",4,7,\"coco\",10,17,2+1j,3.455)\n",
        "\n",
        "print(mi_tupla)\n",
        "\n",
        "print(mi_tupla[3])\n",
        "\n",
        "mi_tupla[3]  = 45"
      ]
    },
    {
      "cell_type": "code",
      "execution_count": 44,
      "metadata": {},
      "outputs": [
        {
          "name": "stdout",
          "output_type": "stream",
          "text": [
            "['hola', 4, 7, 'coco', 10, 17, (2+1j), 3.455]\n",
            "['hola', 4, 7, 45, 10, 17, (2+1j), 3.455]\n"
          ]
        }
      ],
      "source": [
        "# lista mutable, es decir, puedo modificar los valores.\n",
        "\n",
        "mi_lista = [\"hola\",4,7,\"coco\",10,17,2+1j,3.455]\n",
        "\n",
        "print(mi_lista)\n",
        "\n",
        "mi_lista[3] = 45\n",
        "\n",
        "print(mi_lista)"
      ]
    },
    {
      "cell_type": "markdown",
      "metadata": {},
      "source": [
        "---\n",
        "\n",
        "## Clase Semana 2\n",
        "\n",
        "---"
      ]
    },
    {
      "cell_type": "markdown",
      "metadata": {},
      "source": [
        "### Diccionarios\n",
        "\n",
        "En Python un diccionario en un tipo de dato que almacena una colección de valores en llave-valor. Cada diccionario mapea un valor especifico, creando una relación entre la llave y el valor. Los diccionarios son conocidos como Arrays o Hash maps en otros lenguajes de programación."
      ]
    },
    {
      "cell_type": "code",
      "execution_count": 1,
      "metadata": {},
      "outputs": [
        {
          "name": "stdout",
          "output_type": "stream",
          "text": [
            "{'name': 'Francisco', 'age': 23}\n"
          ]
        }
      ],
      "source": [
        "print({'name': 'Francisco', 'age': 23})"
      ]
    },
    {
      "cell_type": "code",
      "execution_count": 46,
      "metadata": {},
      "outputs": [],
      "source": [
        "lugares_visitados = {\n",
        "    'bolivia':'salar de uyuni',\n",
        "    'colombia':'guatape',\n",
        "    'requisitos':{\n",
        "        'bolivia':['pasaporte','tener plata para viaticos'],\n",
        "        'colombia': 'tener plata para viaticos'\n",
        "    }\n",
        "}"
      ]
    },
    {
      "cell_type": "code",
      "execution_count": 50,
      "metadata": {},
      "outputs": [
        {
          "name": "stdout",
          "output_type": "stream",
          "text": [
            "['pasaporte', 'tener plata para viaticos']\n",
            "23\n"
          ]
        }
      ],
      "source": [
        "diccionario_ejemplo = {'name': 'Francisco', \n",
        "                       'age': 23, \n",
        "                       'gustos': ['bailar','jugar futbol','jugar rugby subacuatico'], \n",
        "                       'lugares-visitados':lugares_visitados\n",
        "                       }\n",
        "print(diccionario_ejemplo[\"lugares-visitados\"][\"requisitos\"]['bolivia'])\n",
        "print(diccionario_ejemplo[\"age\"])"
      ]
    },
    {
      "cell_type": "code",
      "execution_count": 16,
      "metadata": {},
      "outputs": [
        {
          "name": "stdout",
          "output_type": "stream",
          "text": [
            "['pasaporte', 'tener plata para viaticos']\n"
          ]
        }
      ],
      "source": [
        "print(diccionario_ejemplo['lugares-visitados']['requisitos']['bolivia'])"
      ]
    },
    {
      "cell_type": "code",
      "execution_count": 18,
      "metadata": {},
      "outputs": [
        {
          "name": "stdout",
          "output_type": "stream",
          "text": [
            "dict_keys(['name', 'age', 'gustos', 'lugares-visitados'])\n"
          ]
        }
      ],
      "source": [
        "print(diccionario_ejemplo.keys())"
      ]
    },
    {
      "cell_type": "code",
      "execution_count": 51,
      "metadata": {},
      "outputs": [
        {
          "data": {
            "text/plain": [
              "{'name': 'Francisco',\n",
              " 'age': 23,\n",
              " 'gustos': ['bailar', 'jugar futbol', 'jugar rugby subacuatico'],\n",
              " 'lugares-visitados': {'bolivia': 'salar de uyuni',\n",
              "  'colombia': 'guatape',\n",
              "  'requisitos': {'bolivia': ['pasaporte', 'tener plata para viaticos'],\n",
              "   'colombia': 'tener plata para viaticos'}}}"
            ]
          },
          "execution_count": 51,
          "metadata": {},
          "output_type": "execute_result"
        }
      ],
      "source": [
        "diccionario_ejemplo"
      ]
    },
    {
      "cell_type": "code",
      "execution_count": 52,
      "metadata": {},
      "outputs": [],
      "source": [
        "diccionario_ejemplo['estado-civil'] = 'soltero' #otro diccionario"
      ]
    },
    {
      "cell_type": "code",
      "execution_count": 53,
      "metadata": {},
      "outputs": [
        {
          "data": {
            "text/plain": [
              "{'name': 'Francisco',\n",
              " 'age': 23,\n",
              " 'gustos': ['bailar', 'jugar futbol', 'jugar rugby subacuatico'],\n",
              " 'lugares-visitados': {'bolivia': 'salar de uyuni',\n",
              "  'colombia': 'guatape',\n",
              "  'requisitos': {'bolivia': ['pasaporte', 'tener plata para viaticos'],\n",
              "   'colombia': 'tener plata para viaticos'}},\n",
              " 'estado-civil': 'soltero'}"
            ]
          },
          "execution_count": 53,
          "metadata": {},
          "output_type": "execute_result"
        }
      ],
      "source": [
        "diccionario_ejemplo"
      ]
    },
    {
      "cell_type": "code",
      "execution_count": 54,
      "metadata": {},
      "outputs": [
        {
          "name": "stdout",
          "output_type": "stream",
          "text": [
            "dict_keys(['name', 'age', 'gustos', 'lugares-visitados', 'estado-civil'])\n"
          ]
        }
      ],
      "source": [
        "print(diccionario_ejemplo.keys())"
      ]
    },
    {
      "cell_type": "code",
      "execution_count": 24,
      "metadata": {},
      "outputs": [
        {
          "name": "stdout",
          "output_type": "stream",
          "text": [
            "dict_values(['Francisco', 23, ['bailar', 'jugar futbol', 'jugar rugby subacuatico'], {'bolivia': 'salar de uyuni', 'colombia': 'guatape', 'requisitos': {'bolivia': ['pasaporte', 'tener plata para viaticos']}}, 'casado'])\n"
          ]
        }
      ],
      "source": [
        "print(diccionario_ejemplo.values())"
      ]
    },
    {
      "cell_type": "markdown",
      "metadata": {},
      "source": [
        "Tener cuidado porque el diccionario no repite nombres de llaves en caso de ser repetido toma el último valor."
      ]
    },
    {
      "cell_type": "code",
      "execution_count": 56,
      "metadata": {},
      "outputs": [
        {
          "data": {
            "text/plain": [
              "{'key1': 'valorx', 'clave_tenga_sentido': 'francisco'}"
            ]
          },
          "execution_count": 56,
          "metadata": {},
          "output_type": "execute_result"
        },
        {
          "ename": "",
          "evalue": "",
          "output_type": "error",
          "traceback": [
            "\u001b[1;31mThe Kernel crashed while executing code in the current cell or a previous cell. \n",
            "\u001b[1;31mPlease review the code in the cell(s) to identify a possible cause of the failure. \n",
            "\u001b[1;31mClick <a href='https://aka.ms/vscodeJupyterKernelCrash'>here</a> for more info. \n",
            "\u001b[1;31mView Jupyter <a href='command:jupyter.viewOutput'>log</a> for further details."
          ]
        }
      ],
      "source": [
        "{'key1':'valorx','clave_tenga_sentido':'francisco'}"
      ]
    },
    {
      "cell_type": "code",
      "execution_count": null,
      "metadata": {},
      "outputs": [],
      "source": []
    },
    {
      "cell_type": "markdown",
      "metadata": {},
      "source": [
        "La llave del diccionario siempre va a ser texto (str-un string), mientras el valor asociado no, el valor asociado a la llave puede ser cualquier tipo de valor (otro diccionario, lista, set, tupla, int, float, complex, str etc )"
      ]
    },
    {
      "cell_type": "markdown",
      "metadata": {},
      "source": [
        "Los diccionarios son mutables."
      ]
    },
    {
      "cell_type": "markdown",
      "metadata": {},
      "source": [
        "tuplas - ()  parentesis<br>\n",
        "listas = [] corchetes<br>\n",
        "diccionarios - {} llaves<br>"
      ]
    },
    {
      "cell_type": "markdown",
      "metadata": {},
      "source": [
        "### Cómo conocer el tipo de datatype que tenenmos?"
      ]
    },
    {
      "cell_type": "markdown",
      "metadata": {},
      "source": [
        "type([1,2,3,4])"
      ]
    },
    {
      "cell_type": "markdown",
      "metadata": {},
      "source": []
    },
    {
      "cell_type": "markdown",
      "metadata": {},
      "source": [
        "### Variables"
      ]
    },
    {
      "cell_type": "markdown",
      "metadata": {},
      "source": [
        "En Python, las variables son usadas para almacenar valores (datos). Estos valores pueden ser números, strings,listas, diccionarios, o cualquier otro tipo de valor. Las variables son esenciales para la manipulación y trabajo con los datos en nuestros programas."
      ]
    },
    {
      "cell_type": "markdown",
      "metadata": {},
      "source": [
        "#### Cómo declarar las variables ?"
      ]
    },
    {
      "cell_type": "markdown",
      "metadata": {},
      "source": [
        "En python las variables son usadas para guardar datos. Estos datos/valores pueden ser:\n",
        "- números\n",
        "- cadenas de texto\n",
        "- listas\n",
        "- diccionarios\n",
        "- otro tipo de valores\n",
        "\n",
        "Las variables son esenciales para la manipulación de datos y trabajo con datos en tus programas.\n",
        "\n",
        "1. Las variables se pueden declarar asignando un valor a usar y con el operado ```=``` <br>\n",
        "\n",
        "Ejemplo:\n",
        "```python\n",
        "edad = 5\n",
        "name = \"Alice\"\n",
        "```\n",
        "2. Los nombres de las variables (también conocidos como identificadores) deben seguir las siguientes reglas:\n",
        "\n",
        "\n",
        "- Pueden contener letras (a-z, A-Z), digitos (0-9) y lineas al piso \"_\"\n",
        "- No pueden iniciar con un dígito\n",
        "- Las variables son sensibles al tipado MaYusCulA - MinUScuLa\n",
        "- Las palabras reservadas no pueden ser usadas.\n",
        "\n",
        "\n",
        "Las variables son dinámicamente tipadas, es decir, no necesitan declarar el tipo de tipado. Python determina automaticamente el tipado.\n",
        "\n",
        "\n"
      ]
    },
    {
      "cell_type": "markdown",
      "metadata": {},
      "source": [
        "Las variables pueden tener re-asignaciones de valores"
      ]
    },
    {
      "cell_type": "code",
      "execution_count": null,
      "metadata": {},
      "outputs": [],
      "source": [
        "super\n",
        "if else for while try type enumerate zip break continue "
      ]
    },
    {
      "cell_type": "code",
      "execution_count": 2,
      "metadata": {},
      "outputs": [
        {
          "ename": "SyntaxError",
          "evalue": "invalid syntax (1155399218.py, line 1)",
          "output_type": "error",
          "traceback": [
            "\u001b[1;36m  Cell \u001b[1;32mIn[2], line 1\u001b[1;36m\u001b[0m\n\u001b[1;33m    continue = 2\u001b[0m\n\u001b[1;37m             ^\u001b[0m\n\u001b[1;31mSyntaxError\u001b[0m\u001b[1;31m:\u001b[0m invalid syntax\n"
          ]
        }
      ],
      "source": [
        "continue = 2"
      ]
    },
    {
      "cell_type": "code",
      "execution_count": 1,
      "metadata": {},
      "outputs": [
        {
          "ename": "SyntaxError",
          "evalue": "invalid decimal literal (2316182424.py, line 1)",
          "output_type": "error",
          "traceback": [
            "\u001b[1;36m  Cell \u001b[1;32mIn[1], line 1\u001b[1;36m\u001b[0m\n\u001b[1;33m    3nombre = \"hola\"\u001b[0m\n\u001b[1;37m    ^\u001b[0m\n\u001b[1;31mSyntaxError\u001b[0m\u001b[1;31m:\u001b[0m invalid decimal literal\n"
          ]
        }
      ],
      "source": [
        "3nombre = \"hola\"\n",
        "nombre3 = \"hola\""
      ]
    },
    {
      "cell_type": "code",
      "execution_count": 3,
      "metadata": {},
      "outputs": [
        {
          "name": "stdout",
          "output_type": "stream",
          "text": [
            "6\n",
            "hola\n"
          ]
        }
      ],
      "source": [
        "r = 5\n",
        "r = r + 1\n",
        "print(r)\n",
        "r = 'hola'\n",
        "\n",
        "print(r)"
      ]
    },
    {
      "cell_type": "code",
      "execution_count": 30,
      "metadata": {},
      "outputs": [],
      "source": [
        "namE0 = 'francisco'\n",
        "NaMe = 'carlos'"
      ]
    },
    {
      "cell_type": "code",
      "execution_count": 2,
      "metadata": {},
      "outputs": [
        {
          "name": "stdout",
          "output_type": "stream",
          "text": [
            "9\n"
          ]
        }
      ],
      "source": [
        "x = 5\n",
        "x = x + 4\n",
        "print(x)"
      ]
    },
    {
      "cell_type": "markdown",
      "metadata": {},
      "source": [
        "Las variables pueden tener múltiples asignaciones"
      ]
    },
    {
      "cell_type": "code",
      "execution_count": 4,
      "metadata": {},
      "outputs": [],
      "source": [
        "a,b,c = 1,\"hola mundo\",3"
      ]
    },
    {
      "cell_type": "code",
      "execution_count": 8,
      "metadata": {},
      "outputs": [
        {
          "name": "stdout",
          "output_type": "stream",
          "text": [
            "3\n"
          ]
        }
      ],
      "source": [
        "print(c)"
      ]
    },
    {
      "cell_type": "markdown",
      "metadata": {},
      "source": [
        "### User input"
      ]
    },
    {
      "cell_type": "markdown",
      "metadata": {},
      "source": [
        "Cómo capturar un input en python"
      ]
    },
    {
      "cell_type": "markdown",
      "metadata": {},
      "source": [
        "Formato de captura es str"
      ]
    },
    {
      "cell_type": "code",
      "execution_count": 10,
      "metadata": {},
      "outputs": [
        {
          "data": {
            "text/plain": [
              "str"
            ]
          },
          "execution_count": 10,
          "metadata": {},
          "output_type": "execute_result"
        }
      ],
      "source": [
        "variable_ingresada = input(\"Ingrese cualquier valor\")\n",
        "\n",
        "type(variable_ingresada)"
      ]
    },
    {
      "cell_type": "code",
      "execution_count": 11,
      "metadata": {},
      "outputs": [
        {
          "name": "stdout",
          "output_type": "stream",
          "text": [
            "hola\n"
          ]
        }
      ],
      "source": [
        "print(variable_ingresada)"
      ]
    },
    {
      "cell_type": "markdown",
      "metadata": {},
      "source": [
        "int() <br>\n",
        "float() <br>\n",
        "str() <br>"
      ]
    },
    {
      "cell_type": "code",
      "execution_count": 20,
      "metadata": {},
      "outputs": [
        {
          "name": "stdout",
          "output_type": "stream",
          "text": [
            "<class 'complex'> 5\n"
          ]
        }
      ],
      "source": [
        "print(f\"{type(complex(\"5\"))} {5}\")"
      ]
    },
    {
      "cell_type": "code",
      "execution_count": 49,
      "metadata": {},
      "outputs": [
        {
          "name": "stdout",
          "output_type": "stream",
          "text": [
            "9.4\n",
            "<class 'float'>\n"
          ]
        }
      ],
      "source": [
        "fnum = float(input('enter first number'))\n",
        "snum = int(input('enter second number'))\n",
        "result = fnum + snum\n",
        "print(result)\n",
        "print(type(fnum))"
      ]
    },
    {
      "cell_type": "markdown",
      "metadata": {},
      "source": [
        "### Tipo de conversiones (casteo o hacer un cast)"
      ]
    },
    {
      "cell_type": "markdown",
      "metadata": {},
      "source": [
        "* int() Convierte un valor en un tipo de dato entero.\n",
        "\n",
        "* float()\n",
        "\n",
        ".<br>\n",
        ".<br>\n",
        ".<br>\n"
      ]
    },
    {
      "cell_type": "code",
      "execution_count": 52,
      "metadata": {},
      "outputs": [
        {
          "data": {
            "text/plain": [
              "9.5"
            ]
          },
          "execution_count": 52,
          "metadata": {},
          "output_type": "execute_result"
        }
      ],
      "source": [
        "int('5') + 4.5"
      ]
    },
    {
      "cell_type": "markdown",
      "metadata": {},
      "source": [
        "### Operadores en Python"
      ]
    },
    {
      "cell_type": "markdown",
      "metadata": {},
      "source": [
        "- Suma           (+)\n",
        "- Resta          (-)\n",
        "- Multiplicación (*)\n",
        "- División       (/)\n",
        "- Módulo         (%)    \n",
        "- Exponente      (**)\n",
        "- Floor division (//)"
      ]
    },
    {
      "cell_type": "code",
      "execution_count": 24,
      "metadata": {},
      "outputs": [
        {
          "data": {
            "text/plain": [
              "1"
            ]
          },
          "execution_count": 24,
          "metadata": {},
          "output_type": "execute_result"
        }
      ],
      "source": [
        "23%2"
      ]
    },
    {
      "cell_type": "markdown",
      "metadata": {},
      "source": [
        "### Operadores de comparación\n",
        "\n",
        "- igual a (==)\n",
        "- No igual (!=)\n",
        "- Menor que(<)\n",
        "- Mayor que (>)\n",
        "- Menor o igual a (<=)\n",
        "- Mayor o igual a (>=)\n"
      ]
    },
    {
      "cell_type": "code",
      "execution_count": 28,
      "metadata": {},
      "outputs": [
        {
          "name": "stdout",
          "output_type": "stream",
          "text": [
            "False\n"
          ]
        }
      ],
      "source": [
        "input1 = int(input('ingrese numero 1'))\n",
        "input2 = int(input('ingrese numero 2'))\n",
        "\n",
        "\n",
        "print(input1==input2)"
      ]
    },
    {
      "cell_type": "code",
      "execution_count": 27,
      "metadata": {},
      "outputs": [
        {
          "data": {
            "text/plain": [
              "False"
            ]
          },
          "execution_count": 27,
          "metadata": {},
          "output_type": "execute_result"
        }
      ],
      "source": [
        "5==\"5\""
      ]
    },
    {
      "cell_type": "code",
      "execution_count": 36,
      "metadata": {},
      "outputs": [
        {
          "name": "stdout",
          "output_type": "stream",
          "text": [
            "28\n",
            "40\n"
          ]
        }
      ],
      "source": [
        "5+8\n",
        "\n",
        "# cntl enter\n",
        "\n",
        "# shift enter\n",
        "\n",
        "print(78-50)\n",
        "\n",
        "resultado_multiplicacion = 5*8\n",
        "print(resultado_multiplicacion)"
      ]
    },
    {
      "cell_type": "markdown",
      "metadata": {},
      "source": [
        "### Operadores lógicos\n",
        "\n",
        "- and\n",
        "- or\n",
        "- not"
      ]
    },
    {
      "attachments": {
        "image.png": {
          "image/png": "[encoded data removed]"
        }
      },
      "cell_type": "markdown",
      "metadata": {},
      "source": [
        "![image.png](attachment:image.png)"
      ]
    },
    {
      "cell_type": "code",
      "execution_count": 39,
      "metadata": {},
      "outputs": [
        {
          "data": {
            "text/plain": [
              "False"
            ]
          },
          "execution_count": 39,
          "metadata": {},
          "output_type": "execute_result"
        }
      ],
      "source": [
        "(5 == 0) and ( 6 < 89) and (0>=0)"
      ]
    },
    {
      "cell_type": "markdown",
      "metadata": {},
      "source": [
        "Or"
      ]
    },
    {
      "cell_type": "code",
      "execution_count": 47,
      "metadata": {},
      "outputs": [
        {
          "data": {
            "text/plain": [
              "True"
            ]
          },
          "execution_count": 47,
          "metadata": {},
          "output_type": "execute_result"
        }
      ],
      "source": [
        "(5 == 0) or ( 6 > 89) or (7>=-1)"
      ]
    },
    {
      "cell_type": "markdown",
      "metadata": {},
      "source": [
        "### Operadores de asignación\n",
        "\n",
        "- Assignment (=)\n",
        "- Add and Assign (+=)\n",
        "- Subtract and Assign (-=)\n",
        "- Multiply and Assign (*=)\n",
        "- Divide and Assign (/=)\n",
        "- Floor Divide and Assign (//=)\n",
        "- Modulus and Assign (%=)\n",
        "- Exponentiate and Assign (**=)"
      ]
    },
    {
      "cell_type": "code",
      "execution_count": 6,
      "metadata": {},
      "outputs": [
        {
          "name": "stdout",
          "output_type": "stream",
          "text": [
            "15\n"
          ]
        }
      ],
      "source": [
        "x = 10\n",
        "x += 5\n",
        "print(x)  # Equivalent to x = x + 5\n",
        "x = 10\n",
        "x -= 3  # Equivalent to x = x - 3\n",
        "x *= 2  # Equivalent to x = x * 2\n",
        "x /= 4  # Equivalent to x = x / 4\n",
        "x //= 2 # Equivalent to x = x // 2\n",
        "x %= 3  # Equivalent to x = x % 3\n",
        "x **= 2 # Equivalent to x = x ** 2\n"
      ]
    },
    {
      "cell_type": "markdown",
      "metadata": {},
      "source": [
        "### Operadores binarios"
      ]
    },
    {
      "cell_type": "markdown",
      "metadata": {},
      "source": [
        "- Bitwise AND (&)\n",
        "- Bitwise OR (|)\n",
        "- Bitwise XOR (^)\n",
        "- Bitwise NOT (~)\n",
        "- Left Shift (<<)\n",
        "- Right Shift (>>)"
      ]
    },
    {
      "cell_type": "code",
      "execution_count": 7,
      "metadata": {},
      "outputs": [
        {
          "name": "stdout",
          "output_type": "stream",
          "text": [
            "1\n",
            "7\n",
            "6\n",
            "-6\n",
            "10\n",
            "2\n"
          ]
        }
      ],
      "source": [
        "m = 5  # 101 in binary\n",
        "n = 3  # 011 in binary\n",
        "bitwise_and = m & n  # 001 (1 in decimal)\n",
        "print(bitwise_and)\n",
        "bitwise_or = m | n   # 111 (7 in decimal)\n",
        "print(bitwise_or)\n",
        "bitwise_xor = m ^ n  # 110 (6 in decimal)\n",
        "print(bitwise_xor)\n",
        "bitwise_not_m = ~m   # -6 (in decimal)\n",
        "print(bitwise_not_m)\n",
        "left_shift = m << 1  # 010 (2 in decimal)\n",
        "print(left_shift)\n",
        "right_shift = m >> 1 # 010 (2 in decimal)\n",
        "print(right_shift)"
      ]
    },
    {
      "cell_type": "markdown",
      "metadata": {},
      "source": [
        "---"
      ]
    },
    {
      "cell_type": "markdown",
      "metadata": {},
      "source": [
        "### Loops en Python"
      ]
    },
    {
      "cell_type": "markdown",
      "metadata": {},
      "source": [
        "En Python, los loops son usados para ejecutar bloques de código repetido.\n",
        "\n",
        "Hay dos tipos de loops:\n",
        "- For loops   - Ciclos finitos\n",
        "- While loops   - Ciclos habilitadores/condicionales\n",
        "- Loops control statement"
      ]
    },
    {
      "cell_type": "markdown",
      "metadata": {},
      "source": [
        "**What is the use of Loops?why we used that?? (interview Question)**<br>\n",
        " Answer:<br>\n",
        " Loops in Python are used to execute a block of code repeatedly.\n",
        " They are essential for automating repetitive tasks, processing collections of data (e.g.,\n",
        " lists or strings), and iterating through sequences or until a specific condition is met.\n",
        " for loops are commonly used for iteration, while while loops are used when you need to\n",
        " repeat code based on a condition.\n",
        " Loop control statements like break and continue provide flexibility in managing loop\n",
        " execution, making Python a powerful language for tasks that involve repetition and\n",
        " iteration."
      ]
    },
    {
      "cell_type": "markdown",
      "metadata": {},
      "source": [
        "### For loops\n",
        "\n",
        "Los for loops son usados para iterar secuencias (como por ejemplo listas,tuplas,cadenas de texto o rangos) y son ejecuciones de bloques de código por cada item o secuencia."
      ]
    },
    {
      "cell_type": "code",
      "execution_count": 12,
      "metadata": {},
      "outputs": [
        {
          "name": "stdout",
          "output_type": "stream",
          "text": [
            "0\n",
            "1\n",
            "2\n",
            "3\n",
            "4\n",
            "5\n",
            "6\n",
            "7\n",
            "8\n",
            "9\n",
            "10\n",
            "11\n"
          ]
        }
      ],
      "source": [
        "variable = 11\n",
        "\n",
        "for i in range(0,variable+1,1): # [0,11)\n",
        "    print(i)"
      ]
    },
    {
      "cell_type": "markdown",
      "metadata": {},
      "source": [
        "range(valor_inicial,valor_final - 1, pasos)"
      ]
    },
    {
      "cell_type": "code",
      "execution_count": 78,
      "metadata": {},
      "outputs": [
        {
          "name": "stdout",
          "output_type": "stream",
          "text": [
            "[1, 3, 5, 7, 9]\n"
          ]
        }
      ],
      "source": [
        "tupla_valores = list(range(1,10,2))\n",
        "\n",
        "print(tupla_valores)"
      ]
    },
    {
      "cell_type": "code",
      "execution_count": 11,
      "metadata": {},
      "outputs": [
        {
          "name": "stdout",
          "output_type": "stream",
          "text": [
            "1\n",
            "2\n",
            "3\n",
            "45\n"
          ]
        }
      ],
      "source": [
        "numeros = [1,2,3,45]\n",
        "\n",
        "for valores_numericos in numeros:\n",
        "    print(valores_numericos)"
      ]
    },
    {
      "cell_type": "code",
      "execution_count": 14,
      "metadata": {},
      "outputs": [
        {
          "data": {
            "text/plain": [
              "4"
            ]
          },
          "execution_count": 14,
          "metadata": {},
          "output_type": "execute_result"
        }
      ],
      "source": [
        "len(numeros)"
      ]
    },
    {
      "cell_type": "code",
      "execution_count": 17,
      "metadata": {},
      "outputs": [
        {
          "name": "stdout",
          "output_type": "stream",
          "text": [
            "[1, 2, 3, 45]\n"
          ]
        }
      ],
      "source": [
        "print(numeros)"
      ]
    },
    {
      "cell_type": "code",
      "execution_count": 19,
      "metadata": {},
      "outputs": [
        {
          "name": "stdout",
          "output_type": "stream",
          "text": [
            "1\n",
            "2\n",
            "3\n",
            "45\n"
          ]
        }
      ],
      "source": [
        "# lenguaje C //\n",
        "\n",
        "for i in range(0,len(numeros)):\n",
        "    print(numeros[i])"
      ]
    },
    {
      "cell_type": "code",
      "execution_count": 10,
      "metadata": {},
      "outputs": [
        {
          "name": "stdout",
          "output_type": "stream",
          "text": [
            "1\n",
            "3\n",
            "5\n",
            "7\n",
            "9\n",
            "11\n",
            "13\n",
            "15\n",
            "17\n",
            "19\n"
          ]
        }
      ],
      "source": [
        "for i in range(1,21,2):\n",
        "    print(i)"
      ]
    },
    {
      "cell_type": "markdown",
      "metadata": {},
      "source": [
        "Dentro de la función range() hay algo llamado step o stride. Esto determina el incremento entre las secuencias consecutivas en un rango de valor, en el caso anterior el incremento fue de 2 en 2 hasta llegar de a 20 iniciando en el valor 1."
      ]
    },
    {
      "cell_type": "code",
      "execution_count": 11,
      "metadata": {},
      "outputs": [
        {
          "name": "stdout",
          "output_type": "stream",
          "text": [
            "10\n",
            "9\n",
            "8\n",
            "7\n",
            "6\n",
            "5\n",
            "4\n",
            "3\n",
            "2\n",
            "1\n"
          ]
        }
      ],
      "source": [
        "for i in range(10,0,-1):\n",
        "    print(i)"
      ]
    },
    {
      "cell_type": "code",
      "execution_count": 115,
      "metadata": {},
      "outputs": [
        {
          "name": "stdout",
          "output_type": "stream",
          "text": [
            "[1, 2, 3]\n",
            "[1, 2, 3, 4]\n"
          ]
        }
      ],
      "source": [
        "lista_n = [1,2,3]\n",
        "print(lista_n)\n",
        "lista_n.append(4)\n",
        "print(lista_n)\n"
      ]
    },
    {
      "cell_type": "code",
      "execution_count": 132,
      "metadata": {},
      "outputs": [
        {
          "name": "stdout",
          "output_type": "stream",
          "text": [
            "558\n"
          ]
        }
      ],
      "source": [
        "import random\n",
        "\n",
        "print(random.randint(1,1000))"
      ]
    },
    {
      "cell_type": "code",
      "execution_count": 129,
      "metadata": {},
      "outputs": [
        {
          "name": "stdout",
          "output_type": "stream",
          "text": [
            "valor de la var i 0\n",
            "valor aleatorio generado 516\n",
            "valor de la var i 1\n",
            "valor aleatorio generado 15\n",
            "valor de la var i 2\n",
            "valor aleatorio generado 688\n",
            "valor de la var i 3\n",
            "valor aleatorio generado 950\n",
            "valor de la var i 4\n",
            "valor aleatorio generado 538\n",
            "valor de la var i 5\n",
            "valor aleatorio generado 653\n",
            "valor de la var i 6\n",
            "valor aleatorio generado 675\n",
            "valor de la var i 7\n",
            "valor aleatorio generado 621\n",
            "valor de la var i 8\n",
            "valor aleatorio generado 515\n",
            "valor de la var i 9\n",
            "valor aleatorio generado 852\n",
            "valor de la var i 10\n",
            "valor aleatorio generado 100\n",
            "valor de la var i 11\n",
            "valor aleatorio generado 595\n"
          ]
        }
      ],
      "source": [
        "import random\n",
        "\n",
        "## append\n",
        "lista_random_n = []\n",
        "\n",
        "for i in range(0,12):\n",
        "    print(f\"valor de la var i {i}\")\n",
        "    random_value = random.randint(1,1000)\n",
        "    print(f\"valor aleatorio generado {random_value}\")\n",
        "    lista_random_n.append(random_value)"
      ]
    },
    {
      "cell_type": "code",
      "execution_count": 133,
      "metadata": {},
      "outputs": [
        {
          "name": "stdout",
          "output_type": "stream",
          "text": [
            "12\n"
          ]
        }
      ],
      "source": [
        "print(len(lista_random_n))"
      ]
    },
    {
      "cell_type": "code",
      "execution_count": 130,
      "metadata": {},
      "outputs": [
        {
          "name": "stdout",
          "output_type": "stream",
          "text": [
            "[516, 15, 688, 950, 538, 653, 675, 621, 515, 852, 100, 595]\n"
          ]
        }
      ],
      "source": [
        "print(lista_random_n)"
      ]
    },
    {
      "cell_type": "markdown",
      "metadata": {},
      "source": [
        "### Asociar un while con un for"
      ]
    },
    {
      "cell_type": "markdown",
      "metadata": {},
      "source": [
        "while (condicion): <br>\n",
        "    ejecutar todo ciclo"
      ]
    },
    {
      "cell_type": "code",
      "execution_count": null,
      "metadata": {},
      "outputs": [],
      "source": [
        "#c+=1  c=c+1 / //   c = c + pasos\n",
        "\n",
        "# contador = contador + 2\n",
        "\n",
        "for i in range(0,11,2):\n",
        "    print(f\"ciclo finito con for {i}\")\n",
        "\n",
        "\n",
        "\n",
        "#while :\n",
        "#    print(\"hola\") | & operaciones de bit con compuertas logicas\n",
        "# and y or son para tablas de verdad"
      ]
    },
    {
      "cell_type": "code",
      "execution_count": 26,
      "metadata": {},
      "outputs": [
        {
          "name": "stdout",
          "output_type": "stream",
          "text": [
            "False\n"
          ]
        }
      ],
      "source": [
        "condicion = 5>4 and 2>3\n",
        "\n",
        "\n",
        "print(condicion)"
      ]
    },
    {
      "cell_type": "code",
      "execution_count": null,
      "metadata": {},
      "outputs": [],
      "source": [
        "# como lo transformo? crear un contador \n",
        "### para transformar un while en un for solo basta agregar un contador y ese contador limitarlo en la condicion del while\n",
        "c = 2 \n",
        "vf_ciclo = 4\n",
        "\n",
        "while c <= vf_ciclo:\n",
        "    print(\"*\"*10)\n",
        "    print(f\"valor de la condicion {c <= vf_ciclo} valor ciclo anterior {c}\")\n",
        "    c = c + 1\n",
        "    print(f\"valor C ciclo siguiente {c}\")\n",
        "    \n",
        "    \n",
        "\n",
        "print(f\"salio del ciclo\")\n"
      ]
    },
    {
      "cell_type": "code",
      "execution_count": 147,
      "metadata": {},
      "outputs": [
        {
          "name": "stdout",
          "output_type": "stream",
          "text": [
            "True\n"
          ]
        }
      ],
      "source": [
        "print((3<4 and 5>2) or 6==5)"
      ]
    },
    {
      "cell_type": "markdown",
      "metadata": {},
      "source": [
        "whle solo funciona con condiciones verdaderas"
      ]
    },
    {
      "cell_type": "code",
      "execution_count": null,
      "metadata": {},
      "outputs": [],
      "source": [
        "5*2+1/4"
      ]
    },
    {
      "cell_type": "markdown",
      "metadata": {},
      "source": [
        "while "
      ]
    },
    {
      "cell_type": "markdown",
      "metadata": {},
      "source": [
        "loop statement - break continue"
      ]
    },
    {
      "cell_type": "code",
      "execution_count": 36,
      "metadata": {},
      "outputs": [
        {
          "name": "stdout",
          "output_type": "stream",
          "text": [
            "**********\n",
            "valor de la condicion True valor ciclo anterior 0\n",
            "valor C ciclo siguiente 1\n",
            "**********\n",
            "valor de la condicion True valor ciclo anterior 1\n",
            "valor C ciclo siguiente 2\n",
            "**********\n",
            "valor de la condicion True valor ciclo anterior 2\n",
            "valor C ciclo siguiente 3\n",
            "**********\n",
            "valor de la condicion True valor ciclo anterior 3\n",
            "valor C ciclo siguiente 4\n",
            "**********\n",
            "valor de la condicion True valor ciclo anterior 4\n",
            "valor C ciclo siguiente 5\n",
            "**********\n",
            "valor de la condicion True valor ciclo anterior 5\n"
          ]
        }
      ],
      "source": [
        "c= 0\n",
        "vf_ciclo = 1000000\n",
        "while c <= vf_ciclo:\n",
        "    print(\"*\"*10)\n",
        "    print(f\"valor de la condicion {c <= vf_ciclo} valor ciclo anterior {c}\")\n",
        "    c = c + 1\n",
        "    \n",
        "    if c > 5:\n",
        "        break\n",
        "    print(f\"valor C ciclo siguiente {c}\")"
      ]
    },
    {
      "cell_type": "code",
      "execution_count": 35,
      "metadata": {},
      "outputs": [
        {
          "name": "stdout",
          "output_type": "stream",
          "text": [
            "valor c 1 resultado de la condicion False\n",
            "valor c 2 resultado de la condicion False\n",
            "valor c 3 resultado de la condicion False\n",
            "valor c 4 resultado de la condicion False\n",
            "valor c 5 resultado de la condicion False\n",
            "valor c 6 resultado de la condicion False\n",
            "se rompio el ciclo\n"
          ]
        }
      ],
      "source": [
        "c = 0 # contador\n",
        "\n",
        "while True or c<7:\n",
        "    c+=1\n",
        "    print(f\"valor c {c} resultado de la condicion {c>15}\")\n",
        "    if c > 5:\n",
        "        break\n",
        "\n",
        "print(\"se rompio el ciclo\")\n",
        "    "
      ]
    },
    {
      "cell_type": "markdown",
      "metadata": {},
      "source": [
        "### Ejercicio\n",
        "\n",
        "La población actual de una ciudad es de 10000 habitantes. En población aumenta a un ritmo del 10% anual. Tienes que escribir un programa para averiguar la población al final de cada uno de los últimos 10 años."
      ]
    },
    {
      "cell_type": "markdown",
      "metadata": {},
      "source": []
    },
    {
      "cell_type": "markdown",
      "metadata": {},
      "source": [
        "### While loop\n",
        "\n",
        "Los bucles while son usados para ejecutar de forma repetitiva un bloque de código con una condición en true."
      ]
    },
    {
      "cell_type": "code",
      "execution_count": 1,
      "metadata": {},
      "outputs": [
        {
          "name": "stdout",
          "output_type": "stream",
          "text": [
            "1\n",
            "2\n",
            "3\n",
            "4\n",
            "5\n"
          ]
        }
      ],
      "source": [
        "count = 1\n",
        "while count <= 5:\n",
        "    print(count)\n",
        "    count += 1"
      ]
    },
    {
      "cell_type": "markdown",
      "metadata": {},
      "source": [
        "Note que hay un contador en la secuencia del loop<br> \n",
        "\n",
        "```python\n",
        "\n",
        "count+=1\n",
        "\n",
        "```\n",
        "\n"
      ]
    },
    {
      "cell_type": "markdown",
      "metadata": {},
      "source": [
        "Que será un contador ?"
      ]
    },
    {
      "cell_type": "markdown",
      "metadata": {},
      "source": [
        "### Loop control statement"
      ]
    },
    {
      "cell_type": "markdown",
      "metadata": {},
      "source": [
        "In addition to basic loops, Python provides loop control statements that allow you to\n",
        " customize loop behavior:\n",
        " - 'break':Usado para salir de forma prematura del bucle basado en una condición.\n",
        " - 'continue': Se salta la iteración actual del bucle y pasa a la siguiente iteración.\n",
        " - Cláusula 'else': Puede utilizarse con un bucle for o while para especificar un bloque de código que se ejecutará después de que el bucle haya terminado normalmente (es decir, sin llegar a una sentencia break).\n",
        " ejecutará después de que el bucle haya terminado normalmente (es decir, sin llegar a una sentencia break)."
      ]
    },
    {
      "cell_type": "code",
      "execution_count": 2,
      "metadata": {},
      "outputs": [
        {
          "name": "stdout",
          "output_type": "stream",
          "text": [
            "1\n",
            "2\n",
            "limit Crossed\n"
          ]
        }
      ],
      "source": [
        "x = 1\n",
        "while x < 3:\n",
        "    print(x)\n",
        "    x += 1\n",
        "else:\n",
        "    print('limit Crossed')"
      ]
    },
    {
      "cell_type": "markdown",
      "metadata": {},
      "source": [
        "### Break and continue"
      ]
    },
    {
      "cell_type": "code",
      "execution_count": 4,
      "metadata": {},
      "outputs": [
        {
          "name": "stdout",
          "output_type": "stream",
          "text": [
            "1\n",
            "2\n",
            "3\n",
            "4\n",
            "5\n",
            "Loop ended\n"
          ]
        }
      ],
      "source": [
        "# Using break\n",
        "numbers = [1, 2, 3, 4, 5, 6, 7, 8, 9, 10]\n",
        "for num in numbers:\n",
        "    if num == 6:\n",
        "        break  # Exit the loop when num equals 6\n",
        "    print(num)\n",
        "print(\"Loop ended\")"
      ]
    },
    {
      "cell_type": "code",
      "execution_count": 3,
      "metadata": {},
      "outputs": [
        {
          "name": "stdout",
          "output_type": "stream",
          "text": [
            "1\n",
            "2\n",
            "4\n",
            "5\n",
            "Loop ended\n"
          ]
        }
      ],
      "source": [
        "# Using continue\n",
        "numbers = [1, 2, 3, 4, 5]\n",
        "for num in numbers:\n",
        "    if num == 3:\n",
        "        continue  # Skip printing 3 and continue with the next iteration\n",
        "    print(num)\n",
        "print(\"Loop ended\")"
      ]
    },
    {
      "cell_type": "markdown",
      "metadata": {},
      "source": [
        "### Condicionales if and else"
      ]
    },
    {
      "cell_type": "markdown",
      "metadata": {},
      "source": [
        "¿Qué son las condiciones?\n",
        "\n",
        "En programación, las condiciones nos permiten que el programa tome decisiones basadas en si ciertas expresiones son verdaderas o falsas. Estas decisiones se implementan con estructuras de control de flujo como if, else, y elif (una contracción de \"else if\").\n",
        "\n",
        "La estructura if\n",
        "\n",
        "La palabra clave if se utiliza para ejecutar un bloque de código si una condición es verdadera. Si la condición no se cumple, el programa ignora el código asociado al if."
      ]
    },
    {
      "cell_type": "markdown",
      "metadata": {},
      "source": [
        "``` python\n",
        "if condición:\n",
        "    # Bloque de código a ejecutar si la condición es verdadera\n",
        "```"
      ]
    },
    {
      "cell_type": "markdown",
      "metadata": {},
      "source": [
        "La estructura elif\n",
        "\n",
        "A veces necesitamos evaluar más de una condición. Para eso usamos elif, que nos permite encadenar condiciones adicionales. elif solo se ejecuta si las condiciones anteriores (if o elif) no son verdaderas."
      ]
    },
    {
      "cell_type": "markdown",
      "metadata": {},
      "source": [
        "if  condion:\n",
        "\n",
        "else if condicion:\n",
        "\n",
        ".\n",
        ".\n",
        ".\n",
        "\n",
        "else:"
      ]
    },
    {
      "cell_type": "markdown",
      "metadata": {},
      "source": [
        "``` python\n",
        "if condición1:\n",
        "    # Bloque de código si condición1 es verdadera\n",
        "elif condición2:\n",
        "    # Bloque de código si condición2 es verdadera\n",
        "\n",
        "    .\n",
        "    .\n",
        "    .\n",
        "else:\n",
        "    # Bloque de código si ninguna de las anteriores es verdadera\n",
        "```"
      ]
    },
    {
      "cell_type": "code",
      "execution_count": 41,
      "metadata": {},
      "outputs": [
        {
          "name": "stdout",
          "output_type": "stream",
          "text": [
            "Eres mayor de edad\n"
          ]
        }
      ],
      "source": [
        "edad = int(input(\"ingrese la edad\"))\n",
        "\n",
        "if edad >= 13 and edad<18:\n",
        "    print(\"Eres un adolescente\")\n",
        "elif edad >= 18:\n",
        "    print(\"Eres mayor de edad\")\n",
        "else:\n",
        "    print(\"Eres un niño\")\n"
      ]
    },
    {
      "cell_type": "code",
      "execution_count": 42,
      "metadata": {},
      "outputs": [
        {
          "name": "stdout",
          "output_type": "stream",
          "text": [
            "Eres un adolescente\n",
            "Eres mayor de edad\n",
            "Eres un niño\n",
            "Eres mayor de edad\n",
            "Eres un niño\n"
          ]
        }
      ],
      "source": [
        "\n",
        "edad = 1\n",
        "while edad > 0:\n",
        "    \n",
        "    edad = int(input(\"ingrese la edad: \"))\n",
        "    if edad >= 18:\n",
        "        print(\"Eres mayor de edad\")\n",
        "    elif edad >= 13:\n",
        "        print(\"Eres un adolescente\")\n",
        "    else:\n",
        "        print(\"Eres un niño\")\n",
        "    \n",
        "    "
      ]
    },
    {
      "cell_type": "markdown",
      "metadata": {},
      "source": [
        "Importancia de la indentación\n",
        "\n",
        "Python utiliza la indentación para definir los bloques de código. Cada bloque de código dentro de un if, else, o elif debe estar correctamente indentado (normalmente con 4 espacios o una tabulación). Si no se respeta la indentación, Python lanzará un error de sintaxis."
      ]
    },
    {
      "cell_type": "markdown",
      "metadata": {},
      "source": [
        "---"
      ]
    },
    {
      "cell_type": "markdown",
      "metadata": {},
      "source": [
        "Ejercicios propuestos para la clase:\n",
        "\n",
        "- Escribe un programa que pregunte la edad del usuario y le diga si es mayor de edad o menor de edad.\n",
        "- Crea un programa que verifique si un número es positivo, negativo o cero.\n",
        "- Diseña un programa que pida tres números y determine cuál es el mayor de los tres."
      ]
    },
    {
      "cell_type": "code",
      "execution_count": null,
      "metadata": {},
      "outputs": [],
      "source": []
    },
    {
      "cell_type": "markdown",
      "metadata": {},
      "source": [
        "---"
      ]
    },
    {
      "cell_type": "markdown",
      "metadata": {},
      "source": [
        "### Métodos de listas en Python"
      ]
    },
    {
      "cell_type": "code",
      "execution_count": 48,
      "metadata": {},
      "outputs": [
        {
          "name": "stdout",
          "output_type": "stream",
          "text": [
            "[10, 11, 13, 'tomate']\n",
            "[10, 11, 'tomate']\n"
          ]
        }
      ],
      "source": [
        "lista_numeros = [10,11,13]\n",
        "\n",
        "# lista es mutable\n",
        "lista_numeros.append(\"tomate\")\n",
        "print(lista_numeros)\n",
        "\n",
        "lista_numeros.pop(2)\n",
        "\n",
        "print(lista_numeros)"
      ]
    },
    {
      "cell_type": "code",
      "execution_count": 49,
      "metadata": {},
      "outputs": [
        {
          "name": "stdout",
          "output_type": "stream",
          "text": [
            "[10, 11, 'tomate']\n"
          ]
        }
      ],
      "source": [
        "print(lista_numeros)"
      ]
    },
    {
      "cell_type": "code",
      "execution_count": 51,
      "metadata": {},
      "outputs": [
        {
          "name": "stdout",
          "output_type": "stream",
          "text": [
            "[10, 11, ['sandia', 'fresas'], 'sandia', 'tomate']\n"
          ]
        }
      ],
      "source": [
        "lista_numeros.insert(2,[\"sandia\",\"fresas\"])\n",
        "\n",
        "print(lista_numeros)"
      ]
    },
    {
      "cell_type": "code",
      "execution_count": 52,
      "metadata": {},
      "outputs": [],
      "source": [
        "lista_numeros.remove(\"sandia\")"
      ]
    },
    {
      "cell_type": "code",
      "execution_count": 65,
      "metadata": {},
      "outputs": [],
      "source": [
        "lista_numeros.append(\"tomate\")"
      ]
    },
    {
      "cell_type": "code",
      "execution_count": 66,
      "metadata": {},
      "outputs": [
        {
          "name": "stdout",
          "output_type": "stream",
          "text": [
            "[10, 11, ['sandia', 'fresas'], 'tomate', 'tomate', 'tomate', 'tomate', 'tomate', 'tomate', 'tomate', 'tomate', 'tomate', 'tomate', 'tomate']\n"
          ]
        }
      ],
      "source": [
        "print(lista_numeros)"
      ]
    },
    {
      "cell_type": "code",
      "execution_count": 67,
      "metadata": {},
      "outputs": [
        {
          "data": {
            "text/plain": [
              "11"
            ]
          },
          "execution_count": 67,
          "metadata": {},
          "output_type": "execute_result"
        }
      ],
      "source": [
        "lista_numeros.count(\"tomate\")"
      ]
    },
    {
      "cell_type": "code",
      "execution_count": 53,
      "metadata": {},
      "outputs": [
        {
          "name": "stdout",
          "output_type": "stream",
          "text": [
            "[10, 11, ['sandia', 'fresas'], 'tomate']\n"
          ]
        }
      ],
      "source": [
        "print(lista_numeros)"
      ]
    },
    {
      "cell_type": "code",
      "execution_count": 1,
      "metadata": {},
      "outputs": [
        {
          "name": "stdout",
          "output_type": "stream",
          "text": [
            "[1, 2, 3, 4, 5, 6]\n",
            "[1, 2, 2.5, 3, 4, 5]\n"
          ]
        }
      ],
      "source": [
        "# append() method\n",
        "numbers = [1, 2, 3, 4, 5]\n",
        "numbers.append(6)\n",
        "print(numbers)  # Output: [1, 2, 3, 4, 5, 6]\n",
        "\n",
        "# insert() method\n",
        "numbers = [1, 2, 3, 4, 5]\n",
        "numbers.insert(2, 2.5)\n",
        "print(numbers)  # Output: [1, 2, 2.5, 3, 4, 5]\n",
        "\n",
        "# extend() method\n",
        "numbers = [1, 2, 3]\n",
        "numbers.extend([4, 5])\n",
        "print(numbers)  # Output: [1, 2, 3, 4, 5]\n",
        "\n",
        "# remove() method\n",
        "numbers = [1, 2, 3, 4, 5]\n",
        "numbers.remove(5)\n",
        "print(numbers)  # Output: [1, 2, 3, 4]\n",
        "\n",
        "# pop() method\n",
        "numbers = [1, 2, 3, 4, 5]\n",
        "numbers.pop()\n",
        "print(numbers)  # Output: [1, 2, 3, 4]\n",
        "\n",
        "# clear() method\n",
        "numbers = [1, 2, 3, 4, 5]\n",
        "numbers.clear()\n",
        "print(numbers)  # Output: []\n",
        "\n",
        "# index() method\n",
        "numbers = [1, 2, 3, 4, 5]\n",
        "print(numbers.index(5))  # Output: 4\n",
        "\n",
        "# count() method\n",
        "numbers = [1, 2, 3, 4, 5, 3]\n",
        "print(numbers.count(3))  # Output:\n",
        "\n",
        "# sort() method\n",
        "numbers = [3, 1, 5, 2, 4]\n",
        "numbers.sort()\n",
        "print(numbers)  # Output: [1, 2, 3, 4, 5]\n",
        "\n",
        "# reverse() method\n",
        "numbers = [1, 2, 3, 4, 5]\n",
        "numbers.reverse()\n",
        "print(numbers)  # Output: [5, 4, 3, 2, 1]\n",
        "\n",
        "# copy() method\n",
        "numbers = [1, 2, 3, 4, 5]\n",
        "numbers_copy = numbers.copy()\n",
        "print(numbers_copy)  # Output: [1, 2, 3, 4, 5]\n",
        "\n",
        "# list() constructor\n",
        "numbers = list((1, 2, 3, 4, 5))\n",
        "print(numbers)  # Output: [1, 2, 3, 4, 5]\n",
        "\n",
        "# List comprehension\n",
        "numbers = [x for x in range(10)]\n",
        "print(numbers)  # Output: [0, 1, 2, 3, 4, 5, 6, 7, 8, 9]\n",
        "\n",
        "# List comprehension with if condition\n",
        "numbers = [x for x in range(10) if x % 2 == 0]\n",
        "print(numbers)  # Output: [0, 2, 4, 6, 8]\n",
        "\n"
      ]
    },
    {
      "cell_type": "markdown",
      "metadata": {},
      "source": [
        "### Métodos de tuplas en Python"
      ]
    },
    {
      "cell_type": "code",
      "execution_count": null,
      "metadata": {},
      "outputs": [],
      "source": [
        "\n",
        "\n",
        "# Tuple packing\n",
        "numbers = 1, 2, 3\n",
        "print(numbers)  # Output: (1, 2, 3)\n",
        "\n",
        "# Tuple unpacking\n",
        "a, b, c = numbers\n",
        "print(a)  # Output: 1\n",
        "print(b)  # Output: 2\n",
        "print(c)  # Output: 3\n",
        "\n",
        "# Tuple constructor\n",
        "numbers = tuple((1, 2, 3))\n",
        "print(numbers)  # Output: (1, 2, 3)\n",
        "\n",
        "# Tuple comprehension\n",
        "numbers = tuple(x for x in range(10))\n",
        "print(numbers)  # Output: (0, 1, 2, 3, 4, 5, 6, 7, 8, 9)\n",
        "\n",
        "# Tuple comprehension with if condition\n",
        "numbers = tuple(x for x in range(10) if x % 2 == 0)\n",
        "print(numbers)  # Output: (0, 2, 4, 6, 8)\n",
        "\n",
        "# Tuple methods\n",
        "numbers = (1, 2, 3, 4, 5)\n",
        "print(numbers.index(5))  # Output: 4\n",
        "print(numbers.count(3))  # Output: 1\n",
        "\n",
        "# Tuple concatenation\n",
        "numbers = (1, 2, 3) + (4, 5)\n",
        "print(numbers)  # Output: (1, 2, 3, 4, 5)\n",
        "\n",
        "# Tuple repetition\n",
        "numbers = (1, 2, 3) * 2\n",
        "print(numbers)  # Output: (1, 2, 3, 1, 2, 3)\n",
        "\n",
        "# Tuple membership test\n",
        "numbers = (1, 2, 3, 4, 5)\n",
        "print(1 in numbers)  # Output: True\n",
        "\n",
        "# Tuple iteration\n",
        "numbers = (1, 2, 3)\n",
        "for num in numbers:\n",
        "    print(num)\n",
        "\n",
        "# Tuple with one element\n",
        "numbers = (1,)\n",
        "print(numbers)  # Output: (1,)\n",
        "print(type(numbers))  # Output: <class 'tuple'>\n",
        "\n",
        "# Tuple without parentheses\n",
        "numbers = 1, 2, 3\n",
        "print(numbers)  # Output: (1, 2, 3)\n",
        "print(type(numbers))  # Output: <class 'tuple'>"
      ]
    },
    {
      "cell_type": "markdown",
      "metadata": {},
      "source": [
        "### Métodos de diccionarios en Python"
      ]
    },
    {
      "cell_type": "code",
      "execution_count": null,
      "metadata": {},
      "outputs": [],
      "source": [
        "#diccionario[\"name\"]"
      ]
    },
    {
      "cell_type": "code",
      "execution_count": 69,
      "metadata": {},
      "outputs": [
        {
          "data": {
            "text/plain": [
              "'John'"
            ]
          },
          "execution_count": 69,
          "metadata": {},
          "output_type": "execute_result"
        }
      ],
      "source": [
        "person = {'name': 'John', 'age': 25}\n"
      ]
    },
    {
      "cell_type": "code",
      "execution_count": null,
      "metadata": {},
      "outputs": [],
      "source": []
    },
    {
      "cell_type": "code",
      "execution_count": null,
      "metadata": {},
      "outputs": [],
      "source": [
        "# Dictionary methods\n",
        "person = {'name': 'John', 'age': 25}\n",
        "print(person.get('name'))  # Output: John\n",
        "print(person.get('address'))  # Output: None\n",
        "print(person.keys())  # Output: dict_keys(['name', 'age'])\n",
        "print(person.values())  # Output: dict_values(['John', 25])\n",
        "print(person.items())  # Output: dict_items([('name', 'John'), ('age', 25])\n",
        "person_copy = person.copy()\n",
        "print(person_copy)  # Output: {'name': 'John', 'age': 25}\n",
        "person.clear()\n",
        "print(person)  # Output: {}\n",
        "\n",
        "# Dictionary constructor\n",
        "person = dict(name='John', age=25)\n",
        "print(person)  # Output: {'name': 'John', 'age': 25}\n",
        "\n",
        "# Dictionary comprehension\n",
        "numbers = {x: x * x for x in (1, 2, 3, 4, 5)}\n",
        "print(numbers)  # Output: {1: 1, 2: 4, 3: 9, 4: 16, 5: 25}\n",
        "\n",
        "# Dictionary methods\n",
        "person = {'name': 'John', 'age': 25}\n",
        "person['address'] = 'Downtown'\n",
        "print(person)  # Output: {'name': 'John', 'age': 25, 'address': 'Downtown'}\n",
        "person.pop('address')\n",
        "print(person)  # Output: {'name': 'John', 'age': 25}\n",
        "person.popitem()\n",
        "print(person)  # Output: {'name': 'John'}\n",
        "del person['name']\n",
        "print(person)  # Output: {}\n",
        "\n",
        "# Dictionary iteration\n",
        "person = {'name': 'John', 'age': 25}\n",
        "for key in person:\n",
        "    print(key, person[key])\n"
      ]
    },
    {
      "cell_type": "markdown",
      "metadata": {},
      "source": [
        "#### Ejercicios\n",
        "\n",
        "A continuación debes crear una base de datos simple utilizando listas en Python. Una base de datos es una colección de datos organizados que se utilizan para almacenar y recuperar información. En este caso, simularemos una base de datos de estudiantes con información básica.\n",
        "\n",
        "#### Instrucciones\n",
        "\n",
        "1. Crea un programa en Python que permita a los usuarios realizar las siguientes acciones:\n",
        "\n",
        "   a. Agregar un nuevo estudiante a la base de datos. Cada estudiante debe tener al menos un nombre, un número de identificación y una edad. Puedes utilizar una lista para almacenar estos datos.\n",
        "\n",
        "   b. Mostrar la lista de estudiantes en la base de datos.\n",
        "\n",
        "   c. Buscar un estudiante por su número de identificación y mostrar su información.\n",
        "\n",
        "   d. Actualizar la información de un estudiante existente en la base de datos.\n",
        "\n",
        "   e. Eliminar un estudiante de la base de datos.\n",
        "\n",
        "2. Utiliza listas de Python para almacenar la información de los estudiantes. Por ejemplo, puedes crear una lista de diccionarios, donde cada diccionario representa un estudiante con sus datos.\n",
        "\n",
        "3. Ofrece un menú interactivo que permita a los usuarios elegir las acciones que desean realizar en la base de datos.\n",
        "\n",
        "4. Implementa la lógica necesaria para cada acción, como agregar, buscar, actualizar o eliminar estudiantes.\n",
        "\n",
        "#### Ejemplo de Base de Datos\n",
        "\n",
        "A continuación, se muestra un ejemplo de cómo podría verse una base de datos de estudiantes utilizando listas y diccionarios:\n",
        "\n",
        "```python\n",
        "base_de_datos = [\n",
        "    {\"nombre\": \"Juan\", \"id\": 1, \"edad\": 20},\n",
        "    {\"nombre\": \"María\", \"id\": 2, \"edad\": 22},\n",
        "    {\"nombre\": \"Carlos\", \"id\": 3, \"edad\": 21}\n",
        "]\n",
        "\n",
        "Desarrolle el código en la siguiente lista."
      ]
    },
    {
      "cell_type": "markdown",
      "metadata": {},
      "source": [
        "2. Genera un diccionario, sobre la información que deseas guardar como base de datos, desarrollo el código necesario para generar el archivo JSON, y también el código para cargar la información del archivo JSON."
      ]
    },
    {
      "cell_type": "markdown",
      "metadata": {},
      "source": []
    },
    {
      "cell_type": "markdown",
      "metadata": {},
      "source": [
        "Como hacer un menu para elegir cuando se quiere agregar un estudiante  <br>\n",
        "cuando se quiere eliminar  <br>\n",
        "cuando se quiere actualizar  <br>\n",
        "condion para salir <br>\n",
        "\n",
        "\n",
        "para eso usamos un if "
      ]
    },
    {
      "cell_type": "code",
      "execution_count": 70,
      "metadata": {},
      "outputs": [
        {
          "name": "stdout",
          "output_type": "stream",
          "text": [
            "{'id': 1, 'nombre': 'gabriel', 'edad': '29'}\n",
            "[{'id': 1, 'nombre': 'gabriel', 'edad': '29'}]\n"
          ]
        }
      ],
      "source": [
        "lista_estudiantes = []\n",
        "\n",
        "\n",
        "nombre = input(\"ingrese el nombre\")\n",
        "edad = input(\"ingrese edad \")\n",
        "\n",
        "diccionario_estudiantes  = {\"id\":1,\"nombre\":nombre, \"edad\":edad}\n",
        "\n",
        "print(diccionario_estudiantes)\n",
        "\n",
        "lista_estudiantes.append(diccionario_estudiantes)\n",
        "\n",
        "print(lista_estudiantes)\n"
      ]
    },
    {
      "cell_type": "code",
      "execution_count": 39,
      "metadata": {},
      "outputs": [
        {
          "name": "stdout",
          "output_type": "stream",
          "text": [
            "1. Agregar estudiante\n",
            " 2. Eliminar estudiante \n",
            " 3. Actualizar estudiante \n",
            " 4. Ver lista de estudiantes \n",
            " 5. Salir del programa\n"
          ]
        },
        {
          "ename": "ValueError",
          "evalue": "invalid literal for int() with base 10: ''",
          "output_type": "error",
          "traceback": [
            "\u001b[1;31m---------------------------------------------------------------------------\u001b[0m",
            "\u001b[1;31mValueError\u001b[0m                                Traceback (most recent call last)",
            "Cell \u001b[1;32mIn[39], line 10\u001b[0m\n\u001b[0;32m      6\u001b[0m \u001b[38;5;28mprint\u001b[39m(opciones)\n\u001b[0;32m      8\u001b[0m \u001b[38;5;28;01mwhile\u001b[39;00m \u001b[38;5;28;01mTrue\u001b[39;00m:   \n\u001b[1;32m---> 10\u001b[0m     menu \u001b[38;5;241m=\u001b[39m \u001b[38;5;28;43mint\u001b[39;49m\u001b[43m(\u001b[49m\u001b[38;5;28;43minput\u001b[39;49m\u001b[43m(\u001b[49m\u001b[38;5;124;43m\"\u001b[39;49m\u001b[38;5;124;43mingrese la opcion\u001b[39;49m\u001b[38;5;124;43m\"\u001b[39;49m\u001b[43m)\u001b[49m\u001b[43m)\u001b[49m\n\u001b[0;32m     12\u001b[0m     \u001b[38;5;28;01mif\u001b[39;00m menu \u001b[38;5;241m==\u001b[39m \u001b[38;5;241m1\u001b[39m: \u001b[38;5;66;03m# agregar\u001b[39;00m\n\u001b[0;32m     13\u001b[0m         nombre \u001b[38;5;241m=\u001b[39m \u001b[38;5;28minput\u001b[39m(\u001b[38;5;124m\"\u001b[39m\u001b[38;5;124mingrese el nombre\u001b[39m\u001b[38;5;124m\"\u001b[39m)\n",
            "\u001b[1;31mValueError\u001b[0m: invalid literal for int() with base 10: ''"
          ]
        }
      ],
      "source": [
        "lista_estudiantes = []\n",
        "\n",
        "c = 0\n",
        "opciones = f\"1. Agregar estudiante\\n 2. Eliminar estudiante \\n 3. Actualizar estudiante \\n 4. Ver lista de estudiantes \\n 5. Salir del programa\"\n",
        "    \n",
        "print(opciones)\n",
        "\n",
        "while True:   \n",
        "    \n",
        "    menu = int(input(\"ingrese la opcion\"))\n",
        "    \n",
        "    if menu == 1: # agregar\n",
        "        nombre = input(\"ingrese el nombre\")\n",
        "        edad = input(\"ingrese edad \")\n",
        "        c+=1\n",
        "        diccionario_estudiantes  = {\"id\":c,\"nombre\":nombre, \"edad\":edad}\n",
        "        lista_estudiantes.append(diccionario_estudiantes)\n",
        "        \n",
        "    elif menu == 2: # eliminar\n",
        "        if len(lista_estudiantes)>0:\n",
        "            id_delete = int(input(\"Ingrese el id a eliminar de la lista de estudiantes: \"))\n",
        "            pos_eliminar = -1\n",
        "            \n",
        "            for i in range(0,len(lista_estudiantes)):\n",
        "                if lista_estudiantes[i].get(\"id\") == id_delete:\n",
        "                    print(f\"Se eliminara el estudiante: {lista_estudiantes.get(\"nombre\")}\")\n",
        "                    pos_eliminar = i\n",
        "                    break\n",
        "                \n",
        "            if pos_eliminar>=0:\n",
        "                print(f\"Valores de la lista antes de ser eliminados: \\n {lista_estudiantes}\")\n",
        "                lista_estudiantes.pop(pos_eliminar)\n",
        "                print(f\"Valores de la lista con estudiante eliminado \\n {lista_estudiantes}\")\n",
        "            else:\n",
        "                print(\"No existe id en la base de datos\")\n",
        "            \n",
        "        else:\n",
        "            print(\"No hay estudiantes\")\n",
        "            \n",
        "    elif menu == 3: #actualizar\n",
        "        id_update = 2\n",
        "        campo_actualizar = \"nombre\"\n",
        "        valor_campo_actualizar = \"luis\"\n",
        "        for i in range(0,len(lista_estudiantes)):\n",
        "            if lista_estudiantes[i].get(\"id\") == id_update:\n",
        "                lista_estudiantes[i][campo_actualizar] = valor_campo_actualizar #ingresar un valor a actualizar\n",
        "                break\n",
        "    \n",
        "    elif menu == 4: # ver\n",
        "        print(diccionario_estudiantes)\n",
        "    elif menu == 5: # salir del ciclo\n",
        "        break\n",
        "    else:\n",
        "        print(\"No esta dentro de las opciones\")\n",
        "\n",
        "print(\"saliste del programa\")"
      ]
    },
    {
      "cell_type": "code",
      "execution_count": 10,
      "metadata": {},
      "outputs": [
        {
          "name": "stdout",
          "output_type": "stream",
          "text": [
            "Cantidad de estudiantes ingresados: 3\n"
          ]
        }
      ],
      "source": [
        "print(f\"Cantidad de estudiantes ingresados: {len(lista_estudiantes)}\")"
      ]
    },
    {
      "cell_type": "code",
      "execution_count": 5,
      "metadata": {},
      "outputs": [
        {
          "name": "stdout",
          "output_type": "stream",
          "text": [
            "0\n",
            "{'id': 1, 'nombre': 'carlos', 'edad': '12'}\n",
            "1\n",
            "{'id': 2, 'nombre': 'gabriela', 'edad': '15'}\n",
            "2\n",
            "{'id': 3, 'nombre': 'jeronimo', 'edad': '16'}\n"
          ]
        }
      ],
      "source": [
        "for i in range(0,len(lista_estudiantes)):\n",
        "    print(i)\n",
        "    print(lista_estudiantes[i])"
      ]
    },
    {
      "cell_type": "code",
      "execution_count": 20,
      "metadata": {},
      "outputs": [
        {
          "name": "stdout",
          "output_type": "stream",
          "text": [
            "3\n"
          ]
        }
      ],
      "source": [
        "print(datos.get(\"id\"))"
      ]
    },
    {
      "cell_type": "markdown",
      "metadata": {},
      "source": [
        "### Ejemplo estatico de estudiantes"
      ]
    },
    {
      "cell_type": "code",
      "execution_count": 41,
      "metadata": {},
      "outputs": [],
      "source": [
        "lista_estudiantes = [{'id': 10, 'nombre': 'carlos', 'edad': '12'}, {'id': 2, 'nombre': 'gabriela', 'edad': '15'}, {'id': 4, 'nombre': 'jeronimo', 'edad': '16'}]\n"
      ]
    },
    {
      "cell_type": "code",
      "execution_count": 34,
      "metadata": {},
      "outputs": [
        {
          "name": "stdout",
          "output_type": "stream",
          "text": [
            "[{'id': 10, 'nombre': 'carlos', 'edad': '12'}, {'id': 2, 'nombre': 'gabriela', 'edad': '15'}, {'id': 4, 'nombre': 'jeronimo', 'edad': '16'}]\n"
          ]
        }
      ],
      "source": [
        "print(lista_estudiantes)"
      ]
    },
    {
      "cell_type": "markdown",
      "metadata": {},
      "source": [
        "Programa para actualizar"
      ]
    },
    {
      "cell_type": "code",
      "execution_count": 37,
      "metadata": {},
      "outputs": [],
      "source": [
        "id_update = 2\n",
        "campo_actualizar = \"nombre\"\n",
        "valor_campo_actualizar = \"luis\"\n",
        "for i in range(0,len(lista_estudiantes)):\n",
        "    if lista_estudiantes[i].get(\"id\") == id_update:\n",
        "        lista_estudiantes[i][campo_actualizar] = valor_campo_actualizar #ingresar un valor a actualizar\n",
        "        break"
      ]
    },
    {
      "cell_type": "code",
      "execution_count": 38,
      "metadata": {},
      "outputs": [
        {
          "name": "stdout",
          "output_type": "stream",
          "text": [
            "[{'id': 10, 'nombre': 'carlos', 'edad': '12'}, {'id': 2, 'nombre': 'luis', 'edad': '15'}, {'id': 4, 'nombre': 'jeronimo', 'edad': '16'}]\n"
          ]
        }
      ],
      "source": [
        "print(lista_estudiantes)"
      ]
    },
    {
      "cell_type": "markdown",
      "metadata": {},
      "source": [
        "Programa para eliminar estudiantes"
      ]
    },
    {
      "cell_type": "code",
      "execution_count": 26,
      "metadata": {},
      "outputs": [
        {
          "name": "stdout",
          "output_type": "stream",
          "text": [
            "False\n",
            "True\n",
            "Posicion a eliminar 1\n",
            "Valores de la lista antes de ser eliminados: \n",
            " [{'id': 10, 'nombre': 'carlos', 'edad': '12'}, {'id': 2, 'nombre': 'gabriela', 'edad': '15'}, {'id': 4, 'nombre': 'jeronimo', 'edad': '16'}]\n",
            "Valores de la lista con estudiante eliminado \n",
            " [{'id': 10, 'nombre': 'carlos', 'edad': '12'}, {'id': 4, 'nombre': 'jeronimo', 'edad': '16'}]\n"
          ]
        }
      ],
      "source": [
        "id_delete = 2\n",
        "pos_eliminar = -1\n",
        "for i in range(0,len(lista_estudiantes)):\n",
        "    print(lista_estudiantes[i].get(\"id\") == id_delete)\n",
        "    if lista_estudiantes[i].get(\"id\") == id_delete:\n",
        "        pos_eliminar = i\n",
        "        break\n",
        "\n",
        "if pos_eliminar>=0:\n",
        "    print(f\"Posicion a eliminar {pos_eliminar}\")\n",
        "    print(f\"Valores de la lista antes de ser eliminados: \\n {lista_estudiantes}\")\n",
        "    lista_estudiantes.pop(pos_eliminar)\n",
        "    print(f\"Valores de la lista con estudiante eliminado \\n {lista_estudiantes}\")\n",
        "    \n",
        "else:\n",
        "    print(\"No existe id en la base de datos\")"
      ]
    },
    {
      "cell_type": "markdown",
      "metadata": {},
      "source": [
        "---"
      ]
    },
    {
      "cell_type": "code",
      "execution_count": 2,
      "metadata": {},
      "outputs": [
        {
          "name": "stdout",
          "output_type": "stream",
          "text": [
            "indice 0 y el valor que le corresponde al indice es: \n",
            " {'id': 1, 'nombre': 'carlos', 'edad': '12'}\n",
            "indice 1 y el valor que le corresponde al indice es: \n",
            " {'id': 2, 'nombre': 'gabriela', 'edad': '15'}\n",
            "indice 2 y el valor que le corresponde al indice es: \n",
            " {'id': 3, 'nombre': 'jeronimo', 'edad': '16'}\n"
          ]
        }
      ],
      "source": [
        "#id_delete = int(input(\"Ingrese el id a eliminar: \"))\n",
        "for i,datos in enumerate(lista_estudiantes):\n",
        "    print(f'indice {i} y el valor que le corresponde al indice es: \\n {datos}')\n",
        "    #print(datos.get(\"id\") == id_delete)\n",
        "    #if datos.get(\"id\") == id_delete:\n",
        "    #    pos_eliminar = "
      ]
    },
    {
      "cell_type": "code",
      "execution_count": 7,
      "metadata": {},
      "outputs": [
        {
          "name": "stdout",
          "output_type": "stream",
          "text": [
            "[{'id': 1, 'nombre': 'carlos', 'edad': '12'}, {'id': 2, 'nombre': 'gabriela', 'edad': '15'}, {'id': 3, 'nombre': 'jeronimo', 'edad': '16'}]\n"
          ]
        }
      ],
      "source": [
        "print(lista_estudiantes)"
      ]
    },
    {
      "cell_type": "code",
      "execution_count": 14,
      "metadata": {},
      "outputs": [
        {
          "name": "stdout",
          "output_type": "stream",
          "text": [
            "False\n",
            "1\n",
            "False\n",
            "2\n",
            "True\n",
            "3\n"
          ]
        }
      ],
      "source": [
        "id_delete = 3\n",
        "cont = 0\n",
        "while cont<len(lista_estudiantes):\n",
        "    print(lista_estudiantes[cont].get(\"id\") == id_delete)\n",
        "    cont = cont + 1\n",
        "    print(cont)"
      ]
    },
    {
      "cell_type": "code",
      "execution_count": 42,
      "metadata": {},
      "outputs": [
        {
          "name": "stdout",
          "output_type": "stream",
          "text": [
            "[{'id': 10, 'nombre': 'carlos', 'edad': '12'}, {'id': 2, 'nombre': 'gabriela', 'edad': '15'}, {'id': 4, 'nombre': 'jeronimo', 'edad': '16'}]\n"
          ]
        }
      ],
      "source": [
        "print(lista_estudiantes)"
      ]
    },
    {
      "cell_type": "code",
      "execution_count": 43,
      "metadata": {},
      "outputs": [
        {
          "name": "stdout",
          "output_type": "stream",
          "text": [
            "archivo guardado\n"
          ]
        }
      ],
      "source": [
        "import json\n",
        "\n",
        "file_name = \"mi_json.json\"\n",
        "\n",
        "with open(file_name,'w') as archivo:\n",
        "    json.dump(lista_estudiantes,archivo,indent=4)\n",
        "\n",
        "print(\"archivo guardado\")"
      ]
    }
  ],
  "metadata": {
    "colab": {
      "authorship_tag": "ABX9TyP/0HYlX+v6gi+LSCSjsMBT",
      "include_colab_link": true,
      "provenance": []
    },
    "kernelspec": {
      "display_name": "venv",
      "language": "python",
      "name": "python3"
    },
    "language_info": {
      "codemirror_mode": {
        "name": "ipython",
        "version": 3
      },
      "file_extension": ".py",
      "mimetype": "text/x-python",
      "name": "python",
      "nbconvert_exporter": "python",
      "pygments_lexer": "ipython3",
      "version": "3.12.1"
    }
  },
  "nbformat": 4,
  "nbformat_minor": 0
}
