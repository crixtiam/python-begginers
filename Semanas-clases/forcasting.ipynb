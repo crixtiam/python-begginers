{
 "cells": [
  {
   "cell_type": "markdown",
   "metadata": {},
   "source": [
    "<div style=\"display: flex; align-items: center;\">\n",
    "    <img src=\"./img/python-stats.webp\" alt=\"Logo\" width=\"100\" style=\"margin-right: 10px;\"/> \n",
    "    <h1 style=\"margin: 0;\">Forecasting</h1>\n",
    "</div>\n",
    "\n",
    "---\n",
    "\n",
    "**Autor:** Cristiam Loaiza  \n",
    "**Fecha:** 20 de octubre de 2024  \n",
    "**Propósito:** Análisis de Datos usando Python y Herramientas Avanzadas"
   ]
  }
 ],
 "metadata": {
  "language_info": {
   "name": "python"
  }
 },
 "nbformat": 4,
 "nbformat_minor": 2
}
