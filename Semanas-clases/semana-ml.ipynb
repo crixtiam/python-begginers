{
 "cells": [
  {
   "cell_type": "markdown",
   "metadata": {},
   "source": [
    "<div style=\"display: flex; align-items: center;\">\n",
    "    <img src=\"./img/python-stats.webp\" alt=\"Logo\" width=\"100\" style=\"margin-right: 10px;\"/> \n",
    "    <h1 style=\"margin: 0;\">Python principios básicos</h1>\n",
    "</div>\n",
    "\n",
    "---\n",
    "\n",
    "**Autor:** Cristiam Loaiza  \n",
    "**Fecha:** 20 de octubre de 2024  \n",
    "**Propósito:** Análisis de Datos usando Python y Herramientas Avanzadas"
   ]
  },
  {
   "cell_type": "markdown",
   "metadata": {},
   "source": [
    "### Clasificación"
   ]
  },
  {
   "cell_type": "markdown",
   "metadata": {},
   "source": [
    "**Machine Learning** es un proceso en el cual se aprende a tomar decisiones atraves de los datos."
   ]
  }
 ],
 "metadata": {
  "kernelspec": {
   "display_name": "venv",
   "language": "python",
   "name": "python3"
  },
  "language_info": {
   "name": "python",
   "version": "3.12.2"
  }
 },
 "nbformat": 4,
 "nbformat_minor": 2
}
