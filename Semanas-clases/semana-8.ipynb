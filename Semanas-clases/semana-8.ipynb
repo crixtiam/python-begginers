{
 "cells": [
  {
   "cell_type": "markdown",
   "metadata": {},
   "source": [
    "<div style=\"display: flex; align-items: center;\">\n",
    "    <img src=\"./img/python-stats.webp\" alt=\"Logo\" width=\"100\" style=\"margin-right: 10px;\"/> \n",
    "    <h1 style=\"margin: 0;\">Python principios básicos</h1>\n",
    "</div>\n",
    "\n",
    "---\n",
    "\n",
    "**Autor:** Cristiam Loaiza  \n",
    "**Fecha:** 20 de octubre de 2024  \n",
    "**Propósito:** Análisis de Datos usando Python y Herramientas Avanzadas"
   ]
  },
  {
   "cell_type": "markdown",
   "metadata": {},
   "source": [
    "- Elección de un tipo de gráfico y configuración\n",
    "Para elegir un tipo de gráfico, tenga en cuenta lo que desea que ilustre el gráfico. Cada tipo de gráfico y configuración resalta aspectos diferentes.\n",
    "- Gráficos de columnas\n",
    "Los gráficos de columnas son útiles para comparar datos discretos o para mostrar tendencias a lo largo del tiempo.\n",
    "- Gráficos de líneas\n",
    "Los gráficos de líneas son útiles para mostrar tendencias a lo largo del tiempo y comparar muchas series de datos.\n",
    "- Gráficos circulares\n",
    "Los gráficos circulares son útiles para resaltar proporciones.\n",
    "- Gráficos de barras\n",
    "Los gráficos de barras son útiles para mostrar tendencias a lo largo del tiempo y trazar muchas series de datos.\n",
    "- Gráficos de áreas\n",
    "Los gráficos de áreas son útiles para resaltar la magnitud del cambio a lo largo del tiempo. Los gráficos de áreas apiladas también se usan para mostrar la relación de las partes con el conjunto.\n",
    "- Gráficos de puntos\n",
    "Los gráficos de puntos son útiles para mostrar los datos cuantitativos de forma despejada.\n",
    "- Gráficos de combinación\n",
    "Los gráficos de combinación trazan varias series de datos utilizando combinaciones de columnas, áreas y líneas dentro de un gráfico. Son útiles para resaltar las relaciones entre las diversas series de datos.\n",
    "- Gráficos de dispersión\n",
    "Los gráficos de dispersión utilizan puntos de datos para trazar dos medidas en cualquier lugar de una escala, no sólo con marcas de escala regulares.\n",
    "- Gráfico de burbujas\n",
    "Los gráficos de burbujas, como los gráficos de dispersión, utilizan puntos de datos y burbujas para trazar medidas en cualquier lugar de una escala. El tamaño de la burbuja representa una tercera medida.\n",
    "- Gráficos de cuadrantes\n",
    "Los gráficos de cuadrantes son gráficos de burbujas con un fondo que se divide en cuatro secciones iguales. Los gráficos de cuadrantes son útiles para trazar datos que contienen tres medidas usando un eje X, un eje Y y un tamaño de burbuja que representa el valor de la tercera medida.\n",
    "- Gráficos con viñetas\n",
    "Los gráficos con viñetas son una variación de los gráficos de barras. Comparan una medida presentada (la viñeta) con una medida de destino (el destino). Asimismo, relacionan las medidas comparadas con las regiones coloreadas del fondo que proporcionan medidas cualitativas adicionales, como bueno, satisfactorio y pobre.\n",
    "- Gráficos de indicadores\n",
    "Los gráficos de indicadores, también conocidos como gráficos de marcación o gráficos de velocímetro, utilizan agujas para mostrar información como una lectura en un marcador.\n",
    "- Gráficos de Pareto\n",
    "Los gráficos de Pareto le ayudan a mejorar los procesos identificando las causas principales de un suceso. Clasifican las categorías desde la más frecuente hasta la menos frecuente. Estos gráficos suelen utilizarse para los datos de control de calidad, para que pueda identificar y reducir la causa principal de los problemas.\n",
    "- Gráficos de columnas progresivos\n",
    "Los gráficos de columnas progresivos, también conocidos como gráficos en cascada, son como gráficos apilados con cada segmento de una sola pila desplazado verticalmente del siguiente segmento.\n",
    "- Micrográficos\n",
    "Los micrográficos son versiones más pequeñas de gráficos de columnas, gráficos de barras y gráficos de líneas que puede utilizar en tablas de referencias cruzadas y paneles de instrumentos. Incluyen micrográficos de columnas y micrográficos de barras, que están disponibles en configuraciones apiladas y 100% apiladas, junto con gráficos de pérdidas/ganancias y gráficos de líneas modificadas que contienen lo siguiente:\n",
    "Gráficos Marimekko\n",
    "Gráficos Marimekko son gráficos 100% apilados en los que el ancho de una columna es proporcional al total de los valores de la columna. La altura de cada segmento individual es un porcentaje del valor total respectivo de la columna.\n",
    "Gráficos de radar\n",
    "Los gráficos de radar integran varios ejes en una sola figura radial. En cada figura, se trazan los datos a lo largo de un eje independiente que comienza en el centro del gráfico.\n",
    "Gráficos polares\n",
    "Los gráficos polares son útiles para mostrar datos científicos.\n",
    "Gráficos de indicadores de rango\n",
    "Indicador de rango, o rango de métricas, los gráficos son útiles para mostrar un rango de destino y un rango de tolerancia.\n",
    "Configuraciones de gráfico\n",
    "Las configuraciones de gráfico especifican el tipo de agrupación de las columnas, barras, líneas y áreas de un gráfico. Algunos ejemplos son gráficos de configuración estándar, apilada y 100% apilada."
   ]
  },
  {
   "cell_type": "code",
   "execution_count": null,
   "metadata": {},
   "outputs": [],
   "source": [
    "import pandas as pd\n",
    "import numpy as np\n",
    "\n",
    "path = 'data/iris.data'"
   ]
  },
  {
   "cell_type": "code",
   "execution_count": null,
   "metadata": {},
   "outputs": [],
   "source": []
  }
 ],
 "metadata": {
  "kernelspec": {
   "display_name": "venv",
   "language": "python",
   "name": "python3"
  },
  "language_info": {
   "codemirror_mode": {
    "name": "ipython",
    "version": 3
   },
   "file_extension": ".py",
   "mimetype": "text/x-python",
   "name": "python",
   "nbconvert_exporter": "python",
   "pygments_lexer": "ipython3",
   "version": "3.12.2"
  }
 },
 "nbformat": 4,
 "nbformat_minor": 2
}
