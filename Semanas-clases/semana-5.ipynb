{
 "cells": [
  {
   "cell_type": "markdown",
   "metadata": {},
   "source": [
    "<div style=\"display: flex; align-items: center;\">\n",
    "    <img src=\"./img/python-stats.webp\" alt=\"Logo\" width=\"100\" style=\"margin-right: 10px;\"/> \n",
    "    <h1 style=\"margin: 0;\">Python principios básicos</h1>\n",
    "</div>\n",
    "\n",
    "---\n",
    "\n",
    "**Autor:** Cristiam Loaiza  \n",
    "**Fecha:** 20 de octubre de 2024  \n",
    "**Propósito:** Análisis de Datos usando Python y Herramientas Avanzadas"
   ]
  },
  {
   "cell_type": "markdown",
   "metadata": {},
   "source": [
    "##### Tabla de contenido\n",
    "\n",
    "- Algoritmo de burbuja\n",
    "- Algoritmo de selección\n",
    "- Algoritmo de inserción"
   ]
  },
  {
   "cell_type": "markdown",
   "metadata": {},
   "source": [
    "### Clases y herencia"
   ]
  },
  {
   "cell_type": "code",
   "execution_count": null,
   "metadata": {},
   "outputs": [],
   "source": [
    "# define a superclass\n",
    "class super_class:\n",
    "    # attributes and method definition\n",
    "\n",
    "# inheritance\n",
    "class sub_class(super_class):\n",
    "    # attributes and method of super_class\n",
    "    # attributes and method of sub_class"
   ]
  },
  {
   "cell_type": "markdown",
   "metadata": {},
   "source": [
    "### Herencia"
   ]
  },
  {
   "cell_type": "markdown",
   "metadata": {},
   "source": [
    "Ejemplo: La clase animal ? ¿ que hace la clase animal ? \n",
    "\n",
    "- todos los animales tienen que comer..\n",
    "- tienen un nombre"
   ]
  },
  {
   "cell_type": "markdown",
   "metadata": {},
   "source": [
    "Cada vez que se llame a la super clase se llama super()"
   ]
  },
  {
   "cell_type": "code",
   "execution_count": 2,
   "metadata": {},
   "outputs": [],
   "source": [
    "class vehiculo:\n",
    "    descripcion = \"\"\n",
    "    def tipo_motor(self):\n",
    "        print(\"cuatro tiempos\")\n",
    "\n",
    "\n",
    "class mazda(vehiculo):\n",
    "    def tipo_vehiculo(self):\n",
    "        print(self.descripcion)"
   ]
  },
  {
   "cell_type": "code",
   "execution_count": 4,
   "metadata": {},
   "outputs": [
    {
     "name": "stdout",
     "output_type": "stream",
     "text": [
      "323\n"
     ]
    }
   ],
   "source": [
    "mazda323 = mazda()\n",
    "mazda323.descripcion = \"323\"\n",
    "mazda323.tipo_vehiculo()"
   ]
  },
  {
   "cell_type": "code",
   "execution_count": 7,
   "metadata": {},
   "outputs": [
    {
     "name": "stdout",
     "output_type": "stream",
     "text": [
      "I can eat\n",
      "My name is  Lancelot\n"
     ]
    }
   ],
   "source": [
    "class Animal:\n",
    "    name =  \"\"\n",
    "    npatas = None\n",
    "    #def __init__(self) -> None:\n",
    "    #    self.name = \"\"\n",
    "    #    self.name_2 = \"\"\n",
    "    #    self.npatas = None\n",
    "    #    self.plumas = None\n",
    "    #    self.acuatico = None\n",
    "    def eat(self):\n",
    "        print(\"I can eat\")\n",
    "    def n_patas(self,npatas: int) -> None:\n",
    "        print(f\"npatas {npatas}\")\n",
    "\n",
    "# inherit from Animal\n",
    "class Dog(Animal):\n",
    "    #def __init__(self,name = \"carlos\"):\n",
    "    #    super().__init__()\n",
    "    #    self.name = name\n",
    "#\n",
    "    def display(self):\n",
    "        # access name attribute of superclass using self\n",
    "        print(\"My name is \", self.name)\n",
    "\n",
    "# create an object of the subclass\n",
    "labrador = Dog()\n",
    "\n",
    "labrador.name = \"Lancelot\"\n",
    "labrador.npatas = 4\n",
    "# access superclass attribute and method \n",
    "labrador.eat()\n",
    "\n",
    "\n",
    "# call subclass method \n",
    "labrador.display()"
   ]
  },
  {
   "cell_type": "code",
   "execution_count": 23,
   "metadata": {},
   "outputs": [],
   "source": [
    "import random\n",
    "\n",
    "class Persona:\n",
    "    def __init__(self,\n",
    "                 nombre: str, \n",
    "                 fecha_nacimiento: int, \n",
    "                 estado_civil: str, \n",
    "                 direccion_residencia: str, \n",
    "                 pais: str) -> None:\n",
    "        self.nombre_persona = nombre\n",
    "        self.fecha_nacimiento = fecha_nacimiento\n",
    "        self.estado_civil = estado_civil\n",
    "        self.direccion_residencia = direccion_residencia\n",
    "        self.pais_nacimiento = pais\n",
    "    def get_edad(self):\n",
    "        return 2024 - self.fecha_nacimiento\n",
    "    def get_nombre(self):\n",
    "        return self.nombre_persona\n",
    "    def set_nombre(self,nombre):\n",
    "        self.nombre_persona = nombre\n",
    "\n",
    "\n",
    "class Usuario_plataforma_banco(Persona):\n",
    "    # constructor clase hija\n",
    "    def __init__(self,\n",
    "                 password: str,\n",
    "                 user: str, \n",
    "                 email:str,\n",
    "                 nombre: str,\n",
    "                 fecha_nacimiento,\n",
    "                 estado_civil:str,\n",
    "                 direccion_residencia:str,\n",
    "                 pais:str) -> None:\n",
    "        # pasamos valores al contructor de la clase padre\n",
    "        super().__init__(\n",
    "            nombre              = nombre, \n",
    "            fecha_nacimiento    =fecha_nacimiento, \n",
    "            estado_civil = estado_civil,\n",
    "            direccion_residencia= direccion_residencia, \n",
    "            pais=pais\n",
    "        )\n",
    "        # atributos\n",
    "        self.password_portal = password\n",
    "        self.user_portal = user\n",
    "        self.email = email\n",
    "    # Metodos\n",
    "    def num_transacciones(self):\n",
    "        lista_transacciones = [f\"cod transaccion {random.randint(0,1000)}\" for _ in range(0,10)]\n",
    "        return len(lista_transacciones)\n",
    "\n",
    "class Usuario_plataforma_universidad(Persona):\n",
    "    def __init__(self) -> None:\n",
    "        super().__init__()\n",
    "        self.password_portal = None\n",
    "        self.user_portal=None\n",
    "        self.email = None\n",
    "    def get_materias_matriculadas(self):\n",
    "        return [[f\"cod materia {random.randint(0,1000)}\" for _ in range(0,10)]]\n",
    "    \n",
    "#class user_gov(Usuario_plataforma_universidad, Usuario_plataforma_banco):\n",
    "    "
   ]
  },
  {
   "cell_type": "code",
   "execution_count": 21,
   "metadata": {},
   "outputs": [],
   "source": [
    "johnny = Persona(nombre=\"johnny\",\n",
    "                 fecha_nacimiento=2000,\n",
    "                 estado_civil=\"soltero\",\n",
    "                 direccion_residencia=\"Venezuela\",\n",
    "                 pais=\"Venezuela\")"
   ]
  },
  {
   "cell_type": "code",
   "execution_count": 22,
   "metadata": {},
   "outputs": [
    {
     "data": {
      "text/plain": [
       "'johnny'"
      ]
     },
     "execution_count": 22,
     "metadata": {},
     "output_type": "execute_result"
    }
   ],
   "source": [
    "johnny.get_nombre()"
   ]
  },
  {
   "cell_type": "markdown",
   "metadata": {},
   "source": []
  },
  {
   "cell_type": "code",
   "execution_count": 24,
   "metadata": {},
   "outputs": [
    {
     "ename": "TypeError",
     "evalue": "Persona.__init__() missing 5 required positional arguments: 'nombre', 'fecha_nacimiento', 'estado_civil', 'direccion_residencia', and 'pais'",
     "output_type": "error",
     "traceback": [
      "\u001b[1;31m---------------------------------------------------------------------------\u001b[0m",
      "\u001b[1;31mTypeError\u001b[0m                                 Traceback (most recent call last)",
      "Cell \u001b[1;32mIn[24], line 1\u001b[0m\n\u001b[1;32m----> 1\u001b[0m johnny_amex \u001b[38;5;241m=\u001b[39m \u001b[43mUsuario_plataforma_banco\u001b[49m\u001b[43m(\u001b[49m\u001b[43mpassword\u001b[49m\u001b[38;5;241;43m=\u001b[39;49m\u001b[38;5;124;43m\"\u001b[39;49m\u001b[38;5;124;43m123\u001b[39;49m\u001b[38;5;124;43m\"\u001b[39;49m\u001b[43m,\u001b[49m\u001b[43m \u001b[49m\u001b[43muser\u001b[49m\u001b[38;5;241;43m=\u001b[39;49m\u001b[38;5;124;43m\"\u001b[39;49m\u001b[38;5;124;43mjohnny_banco\u001b[39;49m\u001b[38;5;124;43m\"\u001b[39;49m\u001b[43m,\u001b[49m\u001b[43m \u001b[49m\u001b[43memail\u001b[49m\u001b[38;5;241;43m=\u001b[39;49m\u001b[38;5;124;43m\"\u001b[39;49m\u001b[38;5;124;43mjohnny@banco.com\u001b[39;49m\u001b[38;5;124;43m\"\u001b[39;49m\u001b[43m)\u001b[49m\n",
      "Cell \u001b[1;32mIn[23], line 25\u001b[0m, in \u001b[0;36mUsuario_plataforma_banco.__init__\u001b[1;34m(self, password, user, email)\u001b[0m\n\u001b[0;32m     24\u001b[0m \u001b[38;5;28;01mdef\u001b[39;00m \u001b[38;5;21m__init__\u001b[39m(\u001b[38;5;28mself\u001b[39m,password: \u001b[38;5;28mstr\u001b[39m,user: \u001b[38;5;28mstr\u001b[39m, email:\u001b[38;5;28mstr\u001b[39m) \u001b[38;5;241m-\u001b[39m\u001b[38;5;241m>\u001b[39m \u001b[38;5;28;01mNone\u001b[39;00m:\n\u001b[1;32m---> 25\u001b[0m     \u001b[38;5;28;43msuper\u001b[39;49m\u001b[43m(\u001b[49m\u001b[43m)\u001b[49m\u001b[38;5;241;43m.\u001b[39;49m\u001b[38;5;21;43m__init__\u001b[39;49m\u001b[43m(\u001b[49m\u001b[43m)\u001b[49m\n\u001b[0;32m     26\u001b[0m     \u001b[38;5;28mself\u001b[39m\u001b[38;5;241m.\u001b[39mpassword_portal \u001b[38;5;241m=\u001b[39m \u001b[38;5;28;01mNone\u001b[39;00m\n\u001b[0;32m     27\u001b[0m     \u001b[38;5;28mself\u001b[39m\u001b[38;5;241m.\u001b[39muser_portal\u001b[38;5;241m=\u001b[39m\u001b[38;5;28;01mNone\u001b[39;00m\n",
      "\u001b[1;31mTypeError\u001b[0m: Persona.__init__() missing 5 required positional arguments: 'nombre', 'fecha_nacimiento', 'estado_civil', 'direccion_residencia', and 'pais'"
     ]
    }
   ],
   "source": [
    "johnny_amex = Usuario_plataforma_banco(password=\"123\", \n",
    "                                       user=\"johnny_banco\",\n",
    "                                       email=\"johnny@banco.com\")"
   ]
  },
  {
   "cell_type": "markdown",
   "metadata": {},
   "source": [
    "---"
   ]
  },
  {
   "cell_type": "code",
   "execution_count": null,
   "metadata": {},
   "outputs": [],
   "source": [
    "johnny_amex."
   ]
  },
  {
   "cell_type": "code",
   "execution_count": null,
   "metadata": {},
   "outputs": [],
   "source": []
  },
  {
   "cell_type": "code",
   "execution_count": 80,
   "metadata": {},
   "outputs": [
    {
     "name": "stdout",
     "output_type": "stream",
     "text": [
      "My name is  lancelot\n",
      "mi raza es san bernardo\n"
     ]
    }
   ],
   "source": [
    "class san_bernardo(Dog):\n",
    "    def raza(self):\n",
    "        print(\"mi raza es san bernardo\")\n",
    "\n",
    "\n",
    "lancelot = san_bernardo(name=\"lancelot\")\n",
    "\n",
    "lancelot.display()\n",
    "lancelot.raza()"
   ]
  },
  {
   "cell_type": "code",
   "execution_count": 65,
   "metadata": {},
   "outputs": [
    {
     "name": "stdout",
     "output_type": "stream",
     "text": [
      "My name is  serpentina\n"
     ]
    }
   ],
   "source": [
    "class Serpiente(Animal):\n",
    "    def display(self):\n",
    "        print(f\"My name is {self.name}\")\n",
    "\n",
    "serpiente = Serpiente()\n",
    "serpiente.name = \"serpentina\"\n",
    "serpiente.display()"
   ]
  },
  {
   "cell_type": "code",
   "execution_count": 72,
   "metadata": {},
   "outputs": [],
   "source": [
    "def suma(argumento_a : int, argumento_b = 0, argumento_c = 0):\n",
    "    print(f\"argumento c {argumento_c}\")\n",
    "    print(f\"argumento b {argumento_b}\")\n",
    "    return argumento_a + argumento_b + argumento_c"
   ]
  },
  {
   "cell_type": "code",
   "execution_count": 74,
   "metadata": {},
   "outputs": [
    {
     "name": "stdout",
     "output_type": "stream",
     "text": [
      "argumento c 0\n",
      "argumento b 16\n",
      "21\n"
     ]
    }
   ],
   "source": [
    "sumando_1 = 5\n",
    "sumando_2 = 16\n",
    "print(suma(argumento_a=sumando_1, argumento_b=sumando_2))"
   ]
  },
  {
   "cell_type": "code",
   "execution_count": null,
   "metadata": {},
   "outputs": [],
   "source": []
  },
  {
   "cell_type": "code",
   "execution_count": 46,
   "metadata": {},
   "outputs": [],
   "source": [
    "### Class cat\n",
    "\n",
    "class Cat(Animal):\n",
    "    def __init__(self,name, edad) -> None:\n",
    "        super().__init__()\n",
    "        self.edad = edad # atributo propio de la subclase\n",
    "    def display(self):\n",
    "        print(f\"My name is {self.name}\")\n",
    "    "
   ]
  },
  {
   "cell_type": "code",
   "execution_count": 47,
   "metadata": {},
   "outputs": [
    {
     "name": "stdout",
     "output_type": "stream",
     "text": [
      "My name is \n",
      "4\n"
     ]
    }
   ],
   "source": [
    "cat_pet = Cat(\"gato\",14)\n",
    "\n",
    "cat_pet.display()\n",
    "cat_pet.npatas = 4\n",
    "print(cat_pet.npatas)"
   ]
  },
  {
   "cell_type": "markdown",
   "metadata": {},
   "source": [
    "### Overriding"
   ]
  },
  {
   "cell_type": "code",
   "execution_count": 11,
   "metadata": {},
   "outputs": [
    {
     "name": "stdout",
     "output_type": "stream",
     "text": [
      "I like to eat bones\n"
     ]
    }
   ],
   "source": [
    "class Animal:\n",
    "\n",
    "    # attributes and method of the parent class\n",
    "    name = \"\"\n",
    "    \n",
    "    def eat(self):\n",
    "        print(\"I can eat\")\n",
    "\n",
    "# inherit from Animal\n",
    "class Dog(Animal):\n",
    "\n",
    "    # override eat() method\n",
    "    def eat(self):\n",
    "        print(\"I like to eat bones\")\n",
    "\n",
    "# create an object of the subclass\n",
    "labrador = Dog()\n",
    "\n",
    "# call the eat() method on the labrador object\n",
    "labrador.eat()"
   ]
  },
  {
   "cell_type": "markdown",
   "metadata": {},
   "source": [
    "### Algoritmo de burbuja"
   ]
  },
  {
   "cell_type": "code",
   "execution_count": 6,
   "metadata": {},
   "outputs": [
    {
     "name": "stdout",
     "output_type": "stream",
     "text": [
      "lista original [544, 779, 927, 182, 357, 938, 768, 755, 253, 136]\n",
      "[544, 779, 927, 182, 357, 938, 768, 755, 253, 136]\n",
      "[544, 779, 182, 357, 927, 768, 755, 253, 136, 938]\n",
      "[544, 182, 357, 779, 768, 755, 253, 136, 927, 938]\n",
      "[182, 357, 544, 768, 755, 253, 136, 779, 927, 938]\n",
      "[182, 357, 544, 755, 253, 136, 768, 779, 927, 938]\n",
      "[182, 357, 544, 253, 136, 755, 768, 779, 927, 938]\n",
      "[182, 357, 253, 136, 544, 755, 768, 779, 927, 938]\n",
      "[182, 253, 136, 357, 544, 755, 768, 779, 927, 938]\n",
      "[182, 136, 253, 357, 544, 755, 768, 779, 927, 938]\n",
      "[136, 182, 253, 357, 544, 755, 768, 779, 927, 938]\n"
     ]
    }
   ],
   "source": [
    "import random\n",
    "\n",
    "lista_desordenada = [ random.randint(0,1000) for _ in range(10) ]\n",
    "print(f\"lista original {lista_desordenada}\")\n",
    "\n",
    "def bubblesort(lista_desordenada: list)-> list:\n",
    "    size = len(lista_desordenada)\n",
    "    for i in range(size):\n",
    "        print(lista_desordenada)\n",
    "        for j in range(size - 1):\n",
    "            if lista_desordenada[j] > lista_desordenada[j+1]:\n",
    "                #lista_desordenada[j] = lista_desordenada[j+1]\n",
    "                #lista_desordenada[j+1] = lista_desordenada[j]\n",
    "                lista_desordenada[j], lista_desordenada[j+1] = lista_desordenada[j+1],lista_desordenada[j]\n",
    "\n",
    "## LLamando la funcion\n",
    "bubblesort(lista_desordenada=lista_desordenada)"
   ]
  },
  {
   "cell_type": "markdown",
   "metadata": {},
   "source": [
    "---"
   ]
  },
  {
   "cell_type": "markdown",
   "metadata": {},
   "source": [
    "### Algoritmo de selección"
   ]
  },
  {
   "cell_type": "markdown",
   "metadata": {},
   "source": []
  },
  {
   "cell_type": "code",
   "execution_count": 10,
   "metadata": {},
   "outputs": [
    {
     "name": "stdout",
     "output_type": "stream",
     "text": [
      "[623, 942, 671, 199, 720, 949, 179, 622, 309, 845]\n",
      "Lista auxiliar: [] lista inicial: [623, 942, 671, 199, 720, 949, 179, 622, 309, 845]\n",
      "Lista auxiliar: [179] lista inicial: [623, 942, 671, 199, 720, 949, 622, 309, 845]\n",
      "Lista auxiliar: [179, 199] lista inicial: [623, 942, 671, 720, 949, 622, 309, 845]\n",
      "Lista auxiliar: [179, 199, 309] lista inicial: [623, 942, 671, 720, 949, 622, 845]\n",
      "Lista auxiliar: [179, 199, 309, 622] lista inicial: [623, 942, 671, 720, 949, 845]\n",
      "Lista auxiliar: [179, 199, 309, 622, 623] lista inicial: [942, 671, 720, 949, 845]\n",
      "Lista auxiliar: [179, 199, 309, 622, 623, 671] lista inicial: [942, 720, 949, 845]\n",
      "Lista auxiliar: [179, 199, 309, 622, 623, 671, 720] lista inicial: [942, 949, 845]\n",
      "Lista auxiliar: [179, 199, 309, 622, 623, 671, 720, 845] lista inicial: [942, 949]\n",
      "Lista auxiliar: [179, 199, 309, 622, 623, 671, 720, 845, 942] lista inicial: [949]\n",
      "lista ordenada [179, 199, 309, 622, 623, 671, 720, 845, 942, 949]\n"
     ]
    }
   ],
   "source": [
    "import random\n",
    "\n",
    "lista_desordenada = [random.randint(0,1000) for _ in range(10) ]\n",
    "print(lista_desordenada)\n",
    "\n",
    "def selection_sort(lista_desordenada: list) -> list:\n",
    "    lista_ordenada = []\n",
    "    while len(lista_desordenada) > 0:\n",
    "        print(f\"Lista auxiliar: {lista_ordenada} lista inicial: {lista_desordenada}\")\n",
    "        index_num_smallest = lista_desordenada.index(min(lista_desordenada))\n",
    "        lista_ordenada.append(lista_desordenada[index_num_smallest])\n",
    "        lista_desordenada.pop(index_num_smallest)\n",
    "    return lista_ordenada\n",
    "\n",
    "\n",
    "lista_ord = selection_sort(lista_desordenada)\n",
    "print(f\"lista ordenada {lista_ord}\")\n"
   ]
  },
  {
   "cell_type": "markdown",
   "metadata": {},
   "source": [
    "---"
   ]
  },
  {
   "cell_type": "markdown",
   "metadata": {},
   "source": [
    "### Algoritmo actividad asincrona y quiz"
   ]
  },
  {
   "cell_type": "code",
   "execution_count": null,
   "metadata": {},
   "outputs": [],
   "source": [
    "class vehiculo():\n",
    "    def __init__(self, color, ruedas):\n",
    "        self.color = color\n",
    "        self.ruedas = ruedas\n",
    "    def __str__(self) -> str:\n",
    "        return \"Color {}, {}\".format(self.color, self.ruedas)\n",
    "    \n",
    "class Coche(vehiculo):\n",
    "    def __init__(self, color, ruedas, velocidad, cilindrada):\n",
    "        self.color = color\n",
    "        self.ruedas = ruedas\n",
    "        self.velocidad = velocidad\n",
    "        self.cilindrada = cilindrada\n",
    "    def __str__(self) -> str:\n",
    "        return \"color {}, {} km/h, {} ruedas, {}cc\".format(self.color, self.velocidad, self.ruedas, self.cilindrada)\n",
    "    \n",
    "#Moto, tractomula, ... sea vehiculo \n",
    "\n",
    "# 2. con sus palabras, de lo investigaron escribir que es clase heredada ( como se utiliza, ejemplos ... )"
   ]
  },
  {
   "cell_type": "markdown",
   "metadata": {},
   "source": [
    "sele"
   ]
  }
 ],
 "metadata": {
  "kernelspec": {
   "display_name": "venv",
   "language": "python",
   "name": "python3"
  },
  "language_info": {
   "codemirror_mode": {
    "name": "ipython",
    "version": 3
   },
   "file_extension": ".py",
   "mimetype": "text/x-python",
   "name": "python",
   "nbconvert_exporter": "python",
   "pygments_lexer": "ipython3",
   "version": "3.12.1"
  }
 },
 "nbformat": 4,
 "nbformat_minor": 2
}
