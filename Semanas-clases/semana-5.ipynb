{
 "cells": [
  {
   "cell_type": "markdown",
   "metadata": {},
   "source": [
    "<div style=\"display: flex; align-items: center;\">\n",
    "    <img src=\"./img/python-stats.webp\" alt=\"Logo\" width=\"100\" style=\"margin-right: 10px;\"/> \n",
    "    <h1 style=\"margin: 0;\">Python principios básicos</h1>\n",
    "</div>\n",
    "\n",
    "---\n",
    "\n",
    "**Autor:** Cristiam Loaiza  \n",
    "**Fecha:** 20 de octubre de 2024  \n",
    "**Propósito:** Análisis de Datos usando Python y Herramientas Avanzadas"
   ]
  },
  {
   "cell_type": "markdown",
   "metadata": {},
   "source": [
    "##### Tabla de contenido\n",
    "\n",
    "- Algoritmo de burbuja\n",
    "- Algoritmo de selección\n",
    "- Algoritmo de inserción"
   ]
  },
  {
   "cell_type": "markdown",
   "metadata": {},
   "source": [
    "### Clases y herencia"
   ]
  },
  {
   "cell_type": "code",
   "execution_count": null,
   "metadata": {},
   "outputs": [],
   "source": [
    "# define a superclass\n",
    "class super_class:\n",
    "    # attributes and method definition\n",
    "\n",
    "# inheritance\n",
    "class sub_class(super_class):\n",
    "    # attributes and method of super_class\n",
    "    # attributes and method of sub_class"
   ]
  },
  {
   "cell_type": "markdown",
   "metadata": {},
   "source": [
    "### Herencia"
   ]
  },
  {
   "cell_type": "markdown",
   "metadata": {},
   "source": [
    "Ejemplo: La clase animal ? ¿ que hace la clase animal ? \n",
    "\n",
    "- todos los animales tienen que comer..\n",
    "- tienen un nombre"
   ]
  },
  {
   "cell_type": "markdown",
   "metadata": {},
   "source": [
    "Cada vez que se llame a la super clase se llama super()"
   ]
  },
  {
   "cell_type": "code",
   "execution_count": 3,
   "metadata": {},
   "outputs": [],
   "source": [
    "class vehiculo:\n",
    "    descripcion = \"\"\n",
    "    saludo = \"\"\n",
    "    def tipo_motor(self):\n",
    "        print(\"cuatro tiempos\")\n",
    "\n",
    "\n",
    "class mazda(vehiculo):\n",
    "\n",
    "    def tipo_vehiculo(self):\n",
    "        print(f\"{self.descripcion} - {self.saludo}\")"
   ]
  },
  {
   "cell_type": "code",
   "execution_count": 4,
   "metadata": {},
   "outputs": [
    {
     "name": "stdout",
     "output_type": "stream",
     "text": [
      "323 - hola\n",
      "cuatro tiempos\n"
     ]
    }
   ],
   "source": [
    "mazda323 = mazda()\n",
    "mazda323.descripcion = \"323\"\n",
    "mazda323.saludo = \"hola\"\n",
    "mazda323.tipo_vehiculo()\n",
    "mazda323.tipo_motor()"
   ]
  },
  {
   "cell_type": "code",
   "execution_count": 7,
   "metadata": {},
   "outputs": [
    {
     "name": "stdout",
     "output_type": "stream",
     "text": [
      "I can eat\n",
      "My name is  Lancelot\n"
     ]
    }
   ],
   "source": [
    "class Animal:\n",
    "    name =  \"\"\n",
    "    npatas = None\n",
    "    #def __init__(self) -> None:\n",
    "    #    self.name = \"\"\n",
    "    #    self.name_2 = \"\"\n",
    "    #    self.npatas = None\n",
    "    #    self.plumas = None\n",
    "    #    self.acuatico = None\n",
    "    def eat(self):\n",
    "        print(\"I can eat\")\n",
    "    def n_patas(self,npatas: int) -> None:\n",
    "        print(f\"npatas {npatas}\")\n",
    "\n",
    "# inherit from Animal\n",
    "class Dog(Animal):\n",
    "    #def __init__(self,name = \"carlos\"):\n",
    "    #    super().__init__()\n",
    "    #    self.name = name\n",
    "#\n",
    "    def display(self):\n",
    "        # access name attribute of superclass using self\n",
    "        print(\"My name is \", self.name)\n",
    "\n",
    "# create an object of the subclass\n",
    "labrador = Dog()\n",
    "\n",
    "labrador.name = \"Lancelot\"\n",
    "labrador.npatas = 4\n",
    "# access superclass attribute and method \n",
    "labrador.eat()\n",
    "\n",
    "\n",
    "# call subclass method \n",
    "labrador.display()"
   ]
  },
  {
   "cell_type": "code",
   "execution_count": null,
   "metadata": {},
   "outputs": [],
   "source": [
    "import random\n",
    "\n",
    "class Persona:\n",
    "    def __init__(self,\n",
    "                 nombre: str, \n",
    "                 fecha_nacimiento: int, \n",
    "                 estado_civil: str, \n",
    "                 direccion_residencia: str, \n",
    "                 pais: str) -> None:\n",
    "        self.nombre_persona = nombre\n",
    "        self.fecha_nacimiento = fecha_nacimiento\n",
    "        self.estado_civil = estado_civil\n",
    "        self.direccion_residencia = direccion_residencia\n",
    "        self.pais_nacimiento = pais\n",
    "    def get_edad(self):\n",
    "        return 2024 - self.fecha_nacimiento\n",
    "    def get_nombre(self):\n",
    "        return self.nombre_persona\n",
    "    def get_pais_nacimiento(self):\n",
    "        return self.pais_nacimiento\n",
    "    def set_nombre(self,nombre):\n",
    "        self.nombre_persona = nombre\n",
    "    def set_direccion_residencia(self,nueva_direccion):\n",
    "        self.direccion_residencia = nueva_direccion\n",
    "    def set_estado_civil(self,nuevo_estado_civil):\n",
    "        self.estado_civil = nuevo_estado_civil\n",
    "\n",
    "# clase hija\n",
    "class Usuario_plataforma_banco(Persona):\n",
    "    # constructor clase hija\n",
    "    def __init__(self,\n",
    "                 password: str,\n",
    "                 user: str, \n",
    "                 email:str,\n",
    "                 nombre: str,\n",
    "                 fecha_nacimiento,\n",
    "                 estado_civil:str,\n",
    "                 direccion_residencia:str,\n",
    "                 pais:str) -> None:\n",
    "        # pasamos valores al contructor de la clase padre\n",
    "        super().__init__(\n",
    "            nombre              = nombre, \n",
    "            fecha_nacimiento    =fecha_nacimiento, \n",
    "            estado_civil = estado_civil,\n",
    "            direccion_residencia= direccion_residencia, \n",
    "            pais=pais\n",
    "        )\n",
    "        # atributos\n",
    "        self.password_portal = password\n",
    "        self.user_portal = user\n",
    "        self.email = email\n",
    "    # Metodos\n",
    "    def num_transacciones(self):\n",
    "        lista_transacciones = [f\"cod transaccion {random.randint(0,1000)}\" for _ in range(0,10)]\n",
    "        return len(lista_transacciones)\n",
    "\n",
    "\n",
    "\n",
    "#class Usuario_plataforma_universidad(Persona):\n",
    "#    def __init__(self) -> None:\n",
    "#        super().__init__()\n",
    "#        self.password_portal = None\n",
    "#        self.user_portal=None\n",
    "#        self.email = None\n",
    "#    def get_materias_matriculadas(self):\n",
    "#        return [[f\"cod materia {random.randint(0,1000)}\" for _ in range(0,10)]]\n",
    "#    \n",
    "#class user_gov(Usuario_plataforma_universidad, Usuario_plataforma_banco):\n",
    "    "
   ]
  },
  {
   "cell_type": "code",
   "execution_count": 18,
   "metadata": {},
   "outputs": [],
   "source": [
    "johnny = Persona(nombre=\"johnny\",\n",
    "                 fecha_nacimiento=2000,\n",
    "                 estado_civil=\"soltero\",\n",
    "                 direccion_residencia=\"Venezuela\",\n",
    "                 pais=\"Venezuela\")"
   ]
  },
  {
   "cell_type": "code",
   "execution_count": 19,
   "metadata": {},
   "outputs": [
    {
     "data": {
      "text/plain": [
       "24"
      ]
     },
     "execution_count": 19,
     "metadata": {},
     "output_type": "execute_result"
    }
   ],
   "source": [
    "johnny.get_edad()"
   ]
  },
  {
   "cell_type": "markdown",
   "metadata": {},
   "source": []
  },
  {
   "cell_type": "code",
   "execution_count": 20,
   "metadata": {},
   "outputs": [],
   "source": [
    "ana_amex = Usuario_plataforma_banco(\n",
    "    nombre=\"Ana sofia\",\n",
    "    user=\"ana123\",\n",
    "    password=\"admin123\",\n",
    "    email=\"ana@gmail.com\",\n",
    "    fecha_nacimiento=1998,\n",
    "    estado_civil=\"soltera\",\n",
    "    direccion_residencia=\"Guatemala\",\n",
    "    pais=\"Guatemala\"\n",
    ")"
   ]
  },
  {
   "cell_type": "markdown",
   "metadata": {},
   "source": [
    "---"
   ]
  },
  {
   "cell_type": "code",
   "execution_count": 21,
   "metadata": {},
   "outputs": [
    {
     "data": {
      "text/plain": [
       "26"
      ]
     },
     "execution_count": 21,
     "metadata": {},
     "output_type": "execute_result"
    }
   ],
   "source": [
    "ana_amex.get_edad()"
   ]
  },
  {
   "cell_type": "code",
   "execution_count": null,
   "metadata": {},
   "outputs": [
    {
     "data": {
      "text/plain": [
       "'Guatemala'"
      ]
     },
     "execution_count": 22,
     "metadata": {},
     "output_type": "execute_result"
    },
    {
     "ename": "",
     "evalue": "",
     "output_type": "error",
     "traceback": [
      "\u001b[1;31mThe Kernel crashed while executing code in the current cell or a previous cell. \n",
      "\u001b[1;31mPlease review the code in the cell(s) to identify a possible cause of the failure. \n",
      "\u001b[1;31mClick <a href='https://aka.ms/vscodeJupyterKernelCrash'>here</a> for more info. \n",
      "\u001b[1;31mView Jupyter <a href='command:jupyter.viewOutput'>log</a> for further details."
     ]
    }
   ],
   "source": [
    "ana_amex.get_pais_nacimiento()"
   ]
  },
  {
   "cell_type": "code",
   "execution_count": 80,
   "metadata": {},
   "outputs": [
    {
     "name": "stdout",
     "output_type": "stream",
     "text": [
      "My name is  lancelot\n",
      "mi raza es san bernardo\n"
     ]
    }
   ],
   "source": [
    "class san_bernardo(Dog):\n",
    "    def raza(self):\n",
    "        print(\"mi raza es san bernardo\")\n",
    "\n",
    "\n",
    "lancelot = san_bernardo(name=\"lancelot\")\n",
    "\n",
    "lancelot.display()\n",
    "lancelot.raza()"
   ]
  },
  {
   "cell_type": "code",
   "execution_count": 65,
   "metadata": {},
   "outputs": [
    {
     "name": "stdout",
     "output_type": "stream",
     "text": [
      "My name is  serpentina\n"
     ]
    }
   ],
   "source": [
    "class Serpiente(Animal):\n",
    "    def display(self):\n",
    "        print(f\"My name is {self.name}\")\n",
    "\n",
    "serpiente = Serpiente()\n",
    "serpiente.name = \"serpentina\"\n",
    "serpiente.display()"
   ]
  },
  {
   "cell_type": "code",
   "execution_count": 72,
   "metadata": {},
   "outputs": [],
   "source": [
    "def suma(argumento_a : int, argumento_b = 0, argumento_c = 0):\n",
    "    print(f\"argumento c {argumento_c}\")\n",
    "    print(f\"argumento b {argumento_b}\")\n",
    "    return argumento_a + argumento_b + argumento_c"
   ]
  },
  {
   "cell_type": "code",
   "execution_count": 74,
   "metadata": {},
   "outputs": [
    {
     "name": "stdout",
     "output_type": "stream",
     "text": [
      "argumento c 0\n",
      "argumento b 16\n",
      "21\n"
     ]
    }
   ],
   "source": [
    "sumando_1 = 5\n",
    "sumando_2 = 16\n",
    "print(suma(argumento_a=sumando_1, argumento_b=sumando_2))"
   ]
  },
  {
   "cell_type": "code",
   "execution_count": null,
   "metadata": {},
   "outputs": [],
   "source": []
  },
  {
   "cell_type": "code",
   "execution_count": 46,
   "metadata": {},
   "outputs": [],
   "source": [
    "### Class cat\n",
    "\n",
    "class Cat(Animal):\n",
    "    def __init__(self,name, edad) -> None:\n",
    "        super().__init__()\n",
    "        self.edad = edad # atributo propio de la subclase\n",
    "    def display(self):\n",
    "        print(f\"My name is {self.name}\")\n",
    "    "
   ]
  },
  {
   "cell_type": "code",
   "execution_count": 47,
   "metadata": {},
   "outputs": [
    {
     "name": "stdout",
     "output_type": "stream",
     "text": [
      "My name is \n",
      "4\n"
     ]
    }
   ],
   "source": [
    "cat_pet = Cat(\"gato\",14)\n",
    "\n",
    "cat_pet.display()\n",
    "cat_pet.npatas = 4\n",
    "print(cat_pet.npatas)"
   ]
  },
  {
   "cell_type": "markdown",
   "metadata": {},
   "source": [
    "### Overriding"
   ]
  },
  {
   "cell_type": "code",
   "execution_count": null,
   "metadata": {},
   "outputs": [
    {
     "name": "stdout",
     "output_type": "stream",
     "text": [
      "la dieta del labrador es ['bones', 'barf', 'croquetas']\n",
      "I can eat ['bones', 'barf', 'croquetas']\n",
      "puedo nadar\n",
      "el delfin es acuatico True y tiene 0 patas y la dieta es ['pescado', 'calamares']\n"
     ]
    }
   ],
   "source": [
    "class Animal:\n",
    "    def __init__(self,lista_alimentos = [], npatas = None, name = \"\") -> None:\n",
    "        self.dieta = lista_alimentos\n",
    "        self.name = name\n",
    "        self.npatas = npatas\n",
    "    \n",
    "    def eat(self):\n",
    "        print(f\"I can eat {self.dieta}\")\n",
    "\n",
    "# inherit from Animal\n",
    "class Dog(Animal):\n",
    "    def __init__(self, raza = \"\") -> None:\n",
    "        super().__init__(lista_alimentos=[\"bones\",\"barf\",\"croquetas\"], npatas=4)\n",
    "        self.raza = raza\n",
    "\n",
    "# inherit from Animal\n",
    "class Delfin(Animal):\n",
    "    def __init__(self) -> None:\n",
    "        super().__init__(lista_alimentos=[\"pescado\",\"calamares\"], npatas=0)\n",
    "        self.acuatico = True\n",
    "    def nadar(self):\n",
    "        print(\"puedo nadar\")\n",
    "\n",
    "# inherit from Animal\n",
    "# create an object of the subclass\n",
    "labrador = Dog()\n",
    "print(f\"la dieta del labrador es {labrador.dieta}\")\n",
    "\n",
    "\n",
    "# call the eat() method on the labrador object\n",
    "labrador.eat()\n",
    "\n",
    "delfin = Delfin()\n",
    "delfin.nadar()\n",
    "\n",
    "print(f\"el delfin es acuatico {delfin.acuatico} y tiene {delfin.npatas} patas y la dieta es {delfin.dieta}\")"
   ]
  },
  {
   "cell_type": "code",
   "execution_count": 11,
   "metadata": {},
   "outputs": [
    {
     "name": "stdout",
     "output_type": "stream",
     "text": [
      "es acustico True\n",
      "puedo nadar\n"
     ]
    }
   ],
   "source": [
    "delfin = Delfin()\n",
    "print(f\"es acustico {delfin.acuatico}\")\n",
    "delfin.nadar()"
   ]
  },
  {
   "cell_type": "markdown",
   "metadata": {},
   "source": [
    "---"
   ]
  },
  {
   "cell_type": "markdown",
   "metadata": {},
   "source": [
    "### Algoritmo de burbuja"
   ]
  },
  {
   "cell_type": "markdown",
   "metadata": {},
   "source": [
    "Es un algoritmo de ordenamiento"
   ]
  },
  {
   "attachments": {
    "image.png": {
     "image/png": "[encoded data removed]"
    }
   },
   "cell_type": "markdown",
   "metadata": {},
   "source": [
    "![image.png](attachment:image.png)"
   ]
  },
  {
   "attachments": {
    "image.png": {
     "image/png": "[encoded data removed]"
    }
   },
   "cell_type": "markdown",
   "metadata": {},
   "source": [
    "![image.png](attachment:image.png)"
   ]
  },
  {
   "cell_type": "code",
   "execution_count": 33,
   "metadata": {},
   "outputs": [
    {
     "name": "stdout",
     "output_type": "stream",
     "text": [
      "lista original desordenada [305, 753, 338, 767, 650, 333, 202, 501, 493, 901]\n",
      "[305, 753, 338, 767, 650, 333, 202, 501, 493, 901]\n",
      "[305, 338, 753, 650, 333, 202, 501, 493, 767, 901]\n",
      "[305, 338, 650, 333, 202, 501, 493, 753, 767, 901]\n",
      "[305, 338, 333, 202, 501, 493, 650, 753, 767, 901]\n",
      "[305, 333, 202, 338, 493, 501, 650, 753, 767, 901]\n",
      "[305, 202, 333, 338, 493, 501, 650, 753, 767, 901]\n",
      "[202, 305, 333, 338, 493, 501, 650, 753, 767, 901]\n",
      "[202, 305, 333, 338, 493, 501, 650, 753, 767, 901]\n",
      "[202, 305, 333, 338, 493, 501, 650, 753, 767, 901]\n",
      "[202, 305, 333, 338, 493, 501, 650, 753, 767, 901]\n"
     ]
    }
   ],
   "source": [
    "import random\n",
    "\n",
    "# Simulacion de una lista desordenada\n",
    "lista_desordenada = [ random.randint(0,1000) for _ in range(10) ]\n",
    "print(f\"lista original desordenada {lista_desordenada}\")\n",
    "\n",
    "def bubblesort(lista_desordenada: list)-> list:\n",
    "    size = len(lista_desordenada)\n",
    "    for i in range(size):\n",
    "        print(lista_desordenada)\n",
    "        for j in range(size - 1):\n",
    "            if lista_desordenada[j] > lista_desordenada[j+1]:\n",
    "                #lista_desordenada[j] = lista_desordenada[j+1]\n",
    "                #lista_desordenada[j+1] = lista_desordenada[j]\n",
    "                lista_desordenada[j], lista_desordenada[j+1] = lista_desordenada[j+1],lista_desordenada[j]\n",
    "\n",
    "## LLamando la funcion\n",
    "bubblesort(lista_desordenada=lista_desordenada)"
   ]
  },
  {
   "cell_type": "markdown",
   "metadata": {},
   "source": [
    "---"
   ]
  },
  {
   "cell_type": "markdown",
   "metadata": {},
   "source": [
    "### Algoritmo de selección"
   ]
  },
  {
   "cell_type": "code",
   "execution_count": 10,
   "metadata": {},
   "outputs": [
    {
     "name": "stdout",
     "output_type": "stream",
     "text": [
      "[623, 942, 671, 199, 720, 949, 179, 622, 309, 845]\n",
      "Lista auxiliar: [] lista inicial: [623, 942, 671, 199, 720, 949, 179, 622, 309, 845]\n",
      "Lista auxiliar: [179] lista inicial: [623, 942, 671, 199, 720, 949, 622, 309, 845]\n",
      "Lista auxiliar: [179, 199] lista inicial: [623, 942, 671, 720, 949, 622, 309, 845]\n",
      "Lista auxiliar: [179, 199, 309] lista inicial: [623, 942, 671, 720, 949, 622, 845]\n",
      "Lista auxiliar: [179, 199, 309, 622] lista inicial: [623, 942, 671, 720, 949, 845]\n",
      "Lista auxiliar: [179, 199, 309, 622, 623] lista inicial: [942, 671, 720, 949, 845]\n",
      "Lista auxiliar: [179, 199, 309, 622, 623, 671] lista inicial: [942, 720, 949, 845]\n",
      "Lista auxiliar: [179, 199, 309, 622, 623, 671, 720] lista inicial: [942, 949, 845]\n",
      "Lista auxiliar: [179, 199, 309, 622, 623, 671, 720, 845] lista inicial: [942, 949]\n",
      "Lista auxiliar: [179, 199, 309, 622, 623, 671, 720, 845, 942] lista inicial: [949]\n",
      "lista ordenada [179, 199, 309, 622, 623, 671, 720, 845, 942, 949]\n"
     ]
    }
   ],
   "source": [
    "import random\n",
    "\n",
    "lista_desordenada = [random.randint(0,1000) for _ in range(10) ]\n",
    "print(lista_desordenada)\n",
    "\n",
    "def selection_sort(lista_desordenada: list) -> list:\n",
    "    lista_ordenada = []\n",
    "    while len(lista_desordenada) > 0:\n",
    "        print(f\"Lista auxiliar: {lista_ordenada} lista inicial: {lista_desordenada}\")\n",
    "        index_num_smallest = lista_desordenada.index(min(lista_desordenada))\n",
    "        lista_ordenada.append(lista_desordenada[index_num_smallest])\n",
    "        lista_desordenada.pop(index_num_smallest)\n",
    "    return lista_ordenada\n",
    "\n",
    "\n",
    "lista_ord = selection_sort(lista_desordenada)\n",
    "print(f\"lista ordenada {lista_ord}\")\n"
   ]
  },
  {
   "cell_type": "markdown",
   "metadata": {},
   "source": [
    "---"
   ]
  },
  {
   "cell_type": "markdown",
   "metadata": {},
   "source": [
    "### Algoritmo actividad asincrona y quiz"
   ]
  },
  {
   "cell_type": "code",
   "execution_count": null,
   "metadata": {},
   "outputs": [],
   "source": [
    "class vehiculo():\n",
    "    def __init__(self, color, ruedas):\n",
    "        self.color = color\n",
    "        self.ruedas = ruedas\n",
    "    def __str__(self) -> str:\n",
    "        return \"Color {}, {}\".format(self.color, self.ruedas)\n",
    "    \n",
    "class Coche(vehiculo):\n",
    "    def __init__(self, color, ruedas, velocidad, cilindrada):\n",
    "        self.color = color\n",
    "        self.ruedas = ruedas\n",
    "        self.velocidad = velocidad\n",
    "        self.cilindrada = cilindrada\n",
    "    def __str__(self) -> str:\n",
    "        return \"color {}, {} km/h, {} ruedas, {}cc\".format(self.color, self.velocidad, self.ruedas, self.cilindrada)\n",
    "    \n",
    "#Moto, tractomula, ... sea vehiculo \n",
    "\n",
    "# 2. con sus palabras, de lo investigaron escribir que es clase heredada ( como se utiliza, ejemplos ... )"
   ]
  },
  {
   "cell_type": "markdown",
   "metadata": {},
   "source": [
    "### Quick sort"
   ]
  },
  {
   "cell_type": "markdown",
   "metadata": {},
   "source": [
    "Al igual que el ordenamiento por mezcla (merge sort), el QuickSort es un algoritmo de división y conquista. Selecciona un elemento como pivote y divide el arreglo dado en torno al pivote seleccionado.\n",
    "\n",
    "Existen diferentes versiones de QuickSort que eligen el pivote de distintas maneras:\n",
    "\n",
    "Siempre eligen el primer elemento como pivote.\n",
    "Siempre eligen el último elemento como pivote.\n",
    "Eligen un elemento aleatorio como pivote.\n",
    "Eligen la mediana como pivote.\n",
    "Aquí elegiremos el último elemento como pivote. El proceso clave en QuickSort es la función de partición (partition()). El objetivo de la partición es, dado un arreglo y un elemento ‘x’ del arreglo como pivote, colocar x en su posición correcta en un arreglo ordenado, de manera que todos los elementos menores (menores que x) estén antes de x, y todos los elementos mayores (mayores que x) estén después de x. Todo esto debe realizarse en tiempo lineal."
   ]
  },
  {
   "cell_type": "code",
   "execution_count": 2,
   "metadata": {},
   "outputs": [
    {
     "name": "stdout",
     "output_type": "stream",
     "text": [
      "Unsorted Array\n",
      "[1, 7, 4, 1, 10, 9, -2]\n",
      "pivot -2\n",
      "pivot 1\n",
      "pivot 4\n",
      "pivot 7\n",
      "pivot 10\n",
      "Sorted Array in Ascending Order:\n",
      "[-2, 1, 1, 4, 7, 9, 10]\n"
     ]
    }
   ],
   "source": [
    "# Python program for implementation of Quicksort Sort\n",
    "\n",
    "# This implementation utilizes pivot as the last element in the nums list\n",
    "# It has a pointer to keep track of the elements smaller than the pivot\n",
    "# At the very end of partition() function, the pointer is swapped with the pivot\n",
    "# to come up with a \"sorted\" nums relative to the pivot\n",
    "\n",
    "\n",
    "# Function to find the partition position\n",
    "def partition(array, low, high):\n",
    "\n",
    "    # choose the rightmost element as pivot\n",
    "    pivot = array[high]\n",
    "    print(f\"pivot {pivot}\")\n",
    "    # pointer for greater element\n",
    "    i = low - 1\n",
    "\n",
    "    # traverse through all elements\n",
    "    # compare each element with pivot\n",
    "    for j in range(low, high):\n",
    "        if array[j] <= pivot:\n",
    "\n",
    "            # If element smaller than pivot is found\n",
    "            # swap it with the greater element pointed by i\n",
    "            i = i + 1\n",
    "\n",
    "            # Swapping element at i with element at j\n",
    "            (array[i], array[j]) = (array[j], array[i])\n",
    "\n",
    "    # Swap the pivot element with the greater element specified by i\n",
    "    (array[i + 1], array[high]) = (array[high], array[i + 1])\n",
    "\n",
    "    # Return the position from where partition is done\n",
    "    return i + 1\n",
    "\n",
    "# function to perform quicksort\n",
    "\n",
    "\n",
    "def quickSort(array, low, high):\n",
    "    if low < high:\n",
    "\n",
    "        # Find pivot element such that\n",
    "        # element smaller than pivot are on the left\n",
    "        # element greater than pivot are on the right\n",
    "        pi = partition(array, low, high)\n",
    "\n",
    "        # Recursive call on the left of pivot\n",
    "        quickSort(array, low, pi - 1)\n",
    "\n",
    "        # Recursive call on the right of pivot\n",
    "        quickSort(array, pi + 1, high)\n",
    "\n",
    "\n",
    "data = [1, 7, 4, 1, 10, 9, -2]\n",
    "print(\"Unsorted Array\")\n",
    "print(data)\n",
    "\n",
    "size = len(data)\n",
    "\n",
    "quickSort(data, 0, size - 1)\n",
    "\n",
    "print('Sorted Array in Ascending Order:')\n",
    "print(data)"
   ]
  },
  {
   "cell_type": "markdown",
   "metadata": {},
   "source": [
    "Selección del pivote: En esta implementación, el pivote se elige como el último elemento del arreglo (esto se define en partition).\n",
    "\n",
    "Función partition(): Esta función realiza la mayor parte del trabajo de organización en torno al pivote. Aquí está el paso a paso:\n",
    "\n",
    "- Primero, se selecciona el último elemento (array[high]) como pivote.\n",
    "- Se inicializa un puntero i para mantener la posición de los elementos menores que el pivote. Este puntero empieza en low - 1 para poder incrementar cada vez que encontremos un elemento menor o igual al pivote.\n",
    "- A continuación, se recorre cada elemento desde low hasta high - 1. Si un elemento es menor o igual al pivote, se incrementa i y se intercambia ese elemento con el elemento en la posición i. Esto garantiza que los elementos más pequeños terminen a la izquierda del pivote.\n",
    "- Después del bucle, se coloca el pivote en su posición final (intercambiándolo con el elemento en i + 1). Esto divide el arreglo en dos partes: elementos menores a la izquierda y mayores a la derecha.\n",
    "- Finalmente, la función partition() devuelve la posición del pivote (i + 1), indicando que esa posición está ordenada en relación con los otros elementos.\n",
    "\n",
    "Función quickSort(): La función quickSort() es recursiva y aplica el proceso de partición en cada subarreglo hasta que cada elemento esté en su lugar.\n",
    "- Si low < high, entonces el arreglo aún no está completamente ordenado.\n",
    "- Llama a partition() para obtener el índice pi donde el pivote está en su posición final.\n",
    "- Luego, quickSort() se llama recursivamente para ordenar los elementos a la izquierda (low a pi - 1) y los elementos a la derecha (pi + 1 a high) del pivote.\n",
    "- Esta recursión se repite hasta que el arreglo esté completamente ordenado"
   ]
  },
  {
   "cell_type": "markdown",
   "metadata": {},
   "source": [
    "---\n",
    "\n",
    "\n",
    "## Actividad propuesta semana 5 actividad asincrona y quiz"
   ]
  },
  {
   "cell_type": "markdown",
   "metadata": {},
   "source": [
    "Implementar una clase base Vehiculo y clases derivadas para distintos tipos de vehículos: Auto, Motocicleta y Camion:\n",
    "\n",
    "Crea una clase base Vehiculo con atributos comunes como:\n",
    "\n",
    "- marca\n",
    "- modelo\n",
    "- año\n",
    "- velocidad (que comenzará en 0)\n",
    "\n",
    "Define métodos en Vehiculo:\n",
    "\n",
    "- acelerar(incremento): aumenta la velocidad del vehículo.\n",
    "- frenar(decremento): reduce la velocidad del vehículo.\n",
    "- mostrar_info(): muestra información del vehículo.\n",
    "\n",
    "Crea las clases derivadas Auto, Motocicleta, y Camion, cada una con atributos específicos, por ejemplo:\n",
    "- Auto: puertas\n",
    "- Motocicleta: tipo (ejemplo: deportiva, cruiser)\n",
    "- Camion: capacidad_carga\n",
    "- Redefine el método mostrar_info() en cada clase derivada para que incluya la información específica de cada tipo de vehículo.\n",
    "\n",
    "\n",
    "Crea instancias de Auto, Motocicleta, y Camion, y usa los métodos de acelerar, frenar, y mostrar_info() para probar la funcionalidad.\n",
    "\n"
   ]
  },
  {
   "cell_type": "markdown",
   "metadata": {},
   "source": [
    "Cada integrante del grupo sube la actividad en la semana 5 tanto en la actividad asincronica como en el quiz."
   ]
  },
  {
   "cell_type": "markdown",
   "metadata": {},
   "source": []
  },
  {
   "cell_type": "markdown",
   "metadata": {},
   "source": []
  }
 ],
 "metadata": {
  "kernelspec": {
   "display_name": "venv",
   "language": "python",
   "name": "python3"
  },
  "language_info": {
   "codemirror_mode": {
    "name": "ipython",
    "version": 3
   },
   "file_extension": ".py",
   "mimetype": "text/x-python",
   "name": "python",
   "nbconvert_exporter": "python",
   "pygments_lexer": "ipython3",
   "version": "3.12.2"
  }
 },
 "nbformat": 4,
 "nbformat_minor": 2
}
