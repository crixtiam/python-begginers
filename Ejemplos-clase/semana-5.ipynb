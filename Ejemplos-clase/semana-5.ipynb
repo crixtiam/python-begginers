{
 "cells": [
  {
   "cell_type": "markdown",
   "metadata": {},
   "source": [
    "# Multi-Herencia"
   ]
  },
  {
   "cell_type": "code",
   "execution_count": 16,
   "metadata": {},
   "outputs": [
    {
     "name": "stdout",
     "output_type": "stream",
     "text": [
      "Marca:  Honda\n",
      "Color:  Blanco\n",
      "Marca:  Mazda\n",
      "El coche está en marcha\n"
     ]
    }
   ],
   "source": [
    "class Vehiculo:\n",
    "    def __init__(self, marca, modelo):\n",
    "        self.marca = marca\n",
    "        self.modelo = modelo\n",
    "        self.enMarcha = False\n",
    "        self.acelera = False\n",
    "        self.frena = False\n",
    "\n",
    "class Coche(Vehiculo):\n",
    "    def __init__(self, marca, modelo, color=\"Blanco\", ruedas=4):\n",
    "        super().__init__(marca, modelo)\n",
    "        self.color = color\n",
    "        self.ruedas = ruedas\n",
    "    \n",
    "    def arrancar(self):\n",
    "        self.enMarcha = True\n",
    "        print(\"El coche está en marcha\")\n",
    "\n",
    "class Moto(Vehiculo):\n",
    "    def arrancar(self):\n",
    "        self.enMarcha = True\n",
    "        print(\"La moto está en marcha\")\n",
    "\n",
    "miCoche = Coche(\"Mazda\", \"MX5\")\n",
    "miMotocicleta = Moto(\"Honda\", \"CBR\")\n",
    "\n",
    "print(\"Marca: \", miMotocicleta.marca)\n",
    "print(\"Color: \", miCoche.color)\n",
    "\n",
    "print(\"Marca: \", miCoche.marca)\n",
    "miCoche.arrancar()"
   ]
  },
  {
   "cell_type": "code",
   "execution_count": 7,
   "metadata": {},
   "outputs": [
    {
     "name": "stdout",
     "output_type": "stream",
     "text": [
      "Pato está volando\n",
      "Pato está nadando\n",
      "90\n"
     ]
    }
   ],
   "source": [
    "class Volador:\n",
    "    def __init__(self, nombre):\n",
    "        self.metros = None\n",
    "        self.nombre = nombre\n",
    "\n",
    "    def volar(self):\n",
    "        print(f\"{self.nombre} está volando\")\n",
    "    \n",
    "    def get_metros(self):\n",
    "        return self.metros\n",
    "    \n",
    "    def set_metros(self,metros: int)->None:\n",
    "        self.metros = metros\n",
    "\n",
    "class Nadador:\n",
    "    def __init__(self, nombre):\n",
    "        self.nombre = nombre\n",
    "\n",
    "    def nadar(self):\n",
    "        print(f\"{self.nombre} está nadando\")\n",
    "\n",
    "### dos clases padre\n",
    "class Pato(Volador, Nadador):\n",
    "    def __init__(self, nombre):\n",
    "        super().__init__(nombre)\n",
    "\n",
    "\n",
    "p = Pato(\"Pato\")\n",
    "\n",
    "p.volar()\n",
    "p.nadar()\n",
    "\n",
    "p.set_metros(90)\n",
    "\n",
    "print(p.get_metros())"
   ]
  },
  {
   "cell_type": "code",
   "execution_count": null,
   "metadata": {},
   "outputs": [],
   "source": [
    "class Colibri(Volador):\n",
    "    def __init__(self, nombre):\n",
    "        super().__init__(nombre)\n",
    "\n"
   ]
  },
  {
   "cell_type": "code",
   "execution_count": 8,
   "metadata": {},
   "outputs": [
    {
     "name": "stdout",
     "output_type": "stream",
     "text": [
      "total ingresos:887.503681 USD\n",
      "50.0\n"
     ]
    }
   ],
   "source": [
    "class Persona:\n",
    "    def __init__(self, nombre):\n",
    "        self.nombre = nombre\n",
    "        self.personas_a_cargo = []\n",
    "        self.edad = None\n",
    "    def imc(self, peso, altura):\n",
    "        return peso / (altura ** 2)\n",
    "\n",
    "class usuario_banco:\n",
    "    def __init__(self, nombre):\n",
    "        self.nombre = nombre\n",
    "        self.total_ingresos = 0\n",
    "    def total_ingresos_calculados(self):\n",
    "        salud = self.total_ingresos * 0.018\n",
    "        pension = self.total_ingresos * 0.016\n",
    "        arl = self.total_ingresos * 0.005\n",
    "        self.total_ingresos = self.total_ingresos - salud - pension - arl\n",
    "        return self.total_ingresos\n",
    "\n",
    "class usuario_gobierno(Persona, usuario_banco):\n",
    "    def __init__(self, nombre):\n",
    "        super().__init__(nombre)\n",
    "    def calculo_impuesto(self):\n",
    "        if len(self.personas_a_cargo) > 2 and self.total_ingresos_calculados() >= 1000:\n",
    "            return 800\n",
    "        if len(self.personas_a_cargo) >= 3 and self.total_ingresos_calculados() > 500:\n",
    "            print(f\"total ingresos:{self.total_ingresos_calculados()} USD\" )\n",
    "            return 100/2\n",
    "        else:\n",
    "            return 0\n",
    "\n",
    "gabriel = usuario_gobierno(\"Gabriel\")\n",
    "gabriel.personas_a_cargo = [\"Juan\", \"Pedro\", \"Maria\"]\n",
    "gabriel.total_ingresos = 1000\n",
    "print(gabriel.calculo_impuesto())"
   ]
  },
  {
   "cell_type": "markdown",
   "metadata": {},
   "source": [
    "1. cuales son los parametros que tengo que tener en cuenta para saber si el usuario puede acceder a un credito  (semana 1)\n",
    "\n",
    "2.  Acceder a los usuarios \n",
    "    2.1. Donde estan los usuarios ( semana 2)\n",
    "    2.2. Traer todas las definiciones de los usuarios ( semana 3)\n",
    "\n",
    "3. Calcular si puede acceder al credito o no. ( semana 4 )"
   ]
  },
  {
   "cell_type": "markdown",
   "metadata": {},
   "source": [
    "data class \n",
    "class \n",
    "\n"
   ]
  },
  {
   "cell_type": "code",
   "execution_count": 13,
   "metadata": {},
   "outputs": [
    {
     "ename": "AttributeError",
     "evalue": "'Labrador' object has no attribute '__secreto'",
     "output_type": "error",
     "traceback": [
      "\u001b[1;31m---------------------------------------------------------------------------\u001b[0m",
      "\u001b[1;31mAttributeError\u001b[0m                            Traceback (most recent call last)",
      "Cell \u001b[1;32mIn[13], line 16\u001b[0m\n\u001b[0;32m     14\u001b[0m lancelott \u001b[38;5;241m=\u001b[39m Labrador()\n\u001b[0;32m     15\u001b[0m lancelott\u001b[38;5;241m.\u001b[39mnombre \u001b[38;5;241m=\u001b[39m \u001b[38;5;124m\"\u001b[39m\u001b[38;5;124mlancelott\u001b[39m\u001b[38;5;124m\"\u001b[39m\n\u001b[1;32m---> 16\u001b[0m \u001b[38;5;28mprint\u001b[39m(\u001b[43mlancelott\u001b[49m\u001b[38;5;241;43m.\u001b[39;49m\u001b[43m__secreto\u001b[49m)\n",
      "\u001b[1;31mAttributeError\u001b[0m: 'Labrador' object has no attribute '__secreto'"
     ]
    }
   ],
   "source": [
    "class Animal:\n",
    "    def __init__(self) -> None:\n",
    "        self.nombre=\"\"\n",
    "\n",
    "class Perro():\n",
    "    def __init__(self) -> None:\n",
    "        self.jugueton = False\n",
    "        self.__secreto = \"privado\"\n",
    "\n",
    "class Labrador(Perro,Animal):\n",
    "    def __init__(self) -> None:\n",
    "        super().__init__()\n",
    "\n",
    "lancelott = Labrador()\n",
    "lancelott.nombre = \"lancelott\"\n",
    "print(lancelott)"
   ]
  },
  {
   "cell_type": "code",
   "execution_count": null,
   "metadata": {},
   "outputs": [],
   "source": []
  }
 ],
 "metadata": {
  "kernelspec": {
   "display_name": "venv",
   "language": "python",
   "name": "python3"
  },
  "language_info": {
   "codemirror_mode": {
    "name": "ipython",
    "version": 3
   },
   "file_extension": ".py",
   "mimetype": "text/x-python",
   "name": "python",
   "nbconvert_exporter": "python",
   "pygments_lexer": "ipython3",
   "version": "3.12.1"
  }
 },
 "nbformat": 4,
 "nbformat_minor": 2
}
