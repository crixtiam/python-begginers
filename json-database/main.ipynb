{
 "cells": [
  {
   "cell_type": "code",
   "execution_count": 1,
   "metadata": {},
   "outputs": [],
   "source": [
    "menu = '''\n",
    "1. Agregar un estudiante\n",
    "2. Mostrar estudiantes\n",
    "3. Buscar estudiante\n",
    "4. Modificar estudiante\n",
    "5. Eliminar estudiante\n",
    "6. Salir\n",
    "'''"
   ]
  },
  {
   "cell_type": "code",
   "execution_count": 16,
   "metadata": {},
   "outputs": [],
   "source": [
    "### read file and return a list of students\n",
    "import json\n",
    "def read_students()->list:\n",
    "    try:\n",
    "        with open('./files/students.json', 'r') as file:\n",
    "            students = json.load(file)\n",
    "    except FileNotFoundError:\n",
    "        students = []\n",
    "    return students\n",
    "\n",
    "def write_students(students: list)->None:\n",
    "    with open('./files/students.json', 'w') as file:\n",
    "        json.dump(students, file)"
   ]
  },
  {
   "cell_type": "code",
   "execution_count": 17,
   "metadata": {},
   "outputs": [],
   "source": [
    "def agregar_estudiante(estudiantes: list)->None:\n",
    "    '''\n",
    "    inputs:\n",
    "    estudiantes: list -> lista de estudiantes\n",
    "    Agrega un estudiante a la lista de estudiantes\n",
    "    returns:\n",
    "    None\n",
    "    '''\n",
    "    nombre = input('Nombre: ')\n",
    "    apellido = input('Apellido: ')\n",
    "    edad = int(input('Edad: '))\n",
    "    carrera = input('Carrera: ')\n",
    "    estudiante = {\n",
    "        'id': len(estudiantes) + 1,\n",
    "        'nombre': nombre,\n",
    "        'Apellido': apellido,\n",
    "        'edad': edad,\n",
    "        'carrera': carrera\n",
    "    }\n",
    "    estudiantes.append(estudiante)\n",
    "    write_students(estudiantes)\n",
    "    print('Estudiante agregado')\n"
   ]
  },
  {
   "cell_type": "code",
   "execution_count": 7,
   "metadata": {},
   "outputs": [],
   "source": []
  },
  {
   "cell_type": "code",
   "execution_count": 18,
   "metadata": {},
   "outputs": [
    {
     "name": "stdout",
     "output_type": "stream",
     "text": [
      "Agregar un estudiante\n",
      "Estudiante agregado\n",
      "Mostrar estudiantes\n",
      "[{'id': 1, 'nombre': 'Angie', 'Apellido': 'Carrillo', 'edad': 18, 'carrera': 'ing sistemas'}]\n",
      "Opcion invalida\n"
     ]
    }
   ],
   "source": [
    "estudiantes = read_students()\n",
    "opciones_menu = '0'\n",
    "while opciones_menu in ['0','1', '2', '3', '4', '5', '6']:\n",
    "    opciones_menu = input(f'Ingrese una opcion: {menu}')\n",
    "    if opciones_menu == '1':\n",
    "        print('Agregar un estudiante')\n",
    "        agregar_estudiante(estudiantes=estudiantes)\n",
    "    elif opciones_menu == '2':\n",
    "        print('Mostrar estudiantes')\n",
    "        print(estudiantes)\n",
    "    elif opciones_menu == '3':\n",
    "        print('Buscar estudiante')\n",
    "    elif opciones_menu == '4':\n",
    "        print('Modificar estudiante')\n",
    "    elif opciones_menu == '5':\n",
    "        print('Eliminar estudiante')\n",
    "    elif opciones_menu == '6':\n",
    "        print('Salir')\n",
    "        break\n",
    "    else:\n",
    "        print('Opcion invalida')"
   ]
  },
  {
   "cell_type": "code",
   "execution_count": null,
   "metadata": {},
   "outputs": [],
   "source": []
  }
 ],
 "metadata": {
  "kernelspec": {
   "display_name": "venv",
   "language": "python",
   "name": "python3"
  },
  "language_info": {
   "codemirror_mode": {
    "name": "ipython",
    "version": 3
   },
   "file_extension": ".py",
   "mimetype": "text/x-python",
   "name": "python",
   "nbconvert_exporter": "python",
   "pygments_lexer": "ipython3",
   "version": "3.12.2"
  }
 },
 "nbformat": 4,
 "nbformat_minor": 2
}
